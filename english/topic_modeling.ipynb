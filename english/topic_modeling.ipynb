{
 "cells": [
  {
   "cell_type": "markdown",
   "metadata": {},
   "source": [
    "## 1. 사용할 패키지 불러오기"
   ]
  },
  {
   "cell_type": "code",
   "execution_count": 20,
   "metadata": {},
   "outputs": [
    {
     "name": "stderr",
     "output_type": "stream",
     "text": [
      "[nltk_data] Downloading package stopwords to\n",
      "[nltk_data]     /home/jongwook95.lee/nltk_data...\n",
      "[nltk_data]   Package stopwords is already up-to-date!\n"
     ]
    },
    {
     "data": {
      "text/plain": [
       "True"
      ]
     },
     "execution_count": 20,
     "metadata": {},
     "output_type": "execute_result"
    }
   ],
   "source": [
    "import pandas as pd\n",
    "import numpy as np\n",
    "import collections\n",
    "import pyLDAvis.gensim_models\n",
    "import gensim.corpora as corpora\n",
    "import gensim\n",
    "from gensim import models\n",
    "from gensim.models.ldamodel import LdaModel\n",
    "from sklearn.feature_extraction.text import CountVectorizer\n",
    "from nltk.corpus import stopwords\n",
    "from nltk.tokenize import TreebankWordTokenizer\n",
    "import nltk\n",
    "from nltk.util import ngrams\n",
    "import re\n",
    "import matplotlib.pyplot as plt\n",
    "nltk.download('stopwords')"
   ]
  },
  {
   "cell_type": "markdown",
   "metadata": {},
   "source": [
    "## 2. 데이터 불러오기"
   ]
  },
  {
   "cell_type": "markdown",
   "metadata": {},
   "source": [
    "### (1) 파일 불러오기\n",
    "- data_dir: 파일 경로"
   ]
  },
  {
   "cell_type": "code",
   "execution_count": 21,
   "metadata": {},
   "outputs": [],
   "source": [
    "data_dir = './data/bbc-text.csv'"
   ]
  },
  {
   "cell_type": "code",
   "execution_count": 22,
   "metadata": {},
   "outputs": [],
   "source": [
    "if data_dir.split('.')[-1] in ['txt', 'csv']:\n",
    "    data = pd.read_csv(data_dir)\n",
    "elif data_dir.split('.')[-1] in ['xlsx', 'xls']:\n",
    "    data = pd.read_excel(data_dir)"
   ]
  },
  {
   "cell_type": "code",
   "execution_count": 23,
   "metadata": {},
   "outputs": [
    {
     "data": {
      "text/html": [
       "<div>\n",
       "<style scoped>\n",
       "    .dataframe tbody tr th:only-of-type {\n",
       "        vertical-align: middle;\n",
       "    }\n",
       "\n",
       "    .dataframe tbody tr th {\n",
       "        vertical-align: top;\n",
       "    }\n",
       "\n",
       "    .dataframe thead th {\n",
       "        text-align: right;\n",
       "    }\n",
       "</style>\n",
       "<table border=\"1\" class=\"dataframe\">\n",
       "  <thead>\n",
       "    <tr style=\"text-align: right;\">\n",
       "      <th></th>\n",
       "      <th>category</th>\n",
       "      <th>text</th>\n",
       "    </tr>\n",
       "  </thead>\n",
       "  <tbody>\n",
       "    <tr>\n",
       "      <th>0</th>\n",
       "      <td>tech</td>\n",
       "      <td>tv future in the hands of viewers with home th...</td>\n",
       "    </tr>\n",
       "    <tr>\n",
       "      <th>1</th>\n",
       "      <td>business</td>\n",
       "      <td>worldcom boss  left books alone  former worldc...</td>\n",
       "    </tr>\n",
       "    <tr>\n",
       "      <th>2</th>\n",
       "      <td>sport</td>\n",
       "      <td>tigers wary of farrell  gamble  leicester say ...</td>\n",
       "    </tr>\n",
       "    <tr>\n",
       "      <th>3</th>\n",
       "      <td>sport</td>\n",
       "      <td>yeading face newcastle in fa cup premiership s...</td>\n",
       "    </tr>\n",
       "    <tr>\n",
       "      <th>4</th>\n",
       "      <td>entertainment</td>\n",
       "      <td>ocean s twelve raids box office ocean s twelve...</td>\n",
       "    </tr>\n",
       "  </tbody>\n",
       "</table>\n",
       "</div>"
      ],
      "text/plain": [
       "        category                                               text\n",
       "0           tech  tv future in the hands of viewers with home th...\n",
       "1       business  worldcom boss  left books alone  former worldc...\n",
       "2          sport  tigers wary of farrell  gamble  leicester say ...\n",
       "3          sport  yeading face newcastle in fa cup premiership s...\n",
       "4  entertainment  ocean s twelve raids box office ocean s twelve..."
      ]
     },
     "execution_count": 23,
     "metadata": {},
     "output_type": "execute_result"
    }
   ],
   "source": [
    "data.head()"
   ]
  },
  {
   "cell_type": "markdown",
   "metadata": {},
   "source": [
    "### (2) 사용할 Text가 저장된 Column 지정\n",
    "text_col: Column 이름"
   ]
  },
  {
   "cell_type": "code",
   "execution_count": 24,
   "metadata": {},
   "outputs": [],
   "source": [
    "text_col = 'text'"
   ]
  },
  {
   "cell_type": "markdown",
   "metadata": {},
   "source": [
    "## 3. 텍스트 전처리"
   ]
  },
  {
   "cell_type": "code",
   "execution_count": 25,
   "metadata": {},
   "outputs": [],
   "source": [
    "def text_cleaning(data):\n",
    " \n",
    "    # 영문자 이외 문자는 공백으로 변환\n",
    "    if only_alphabet:\n",
    "        preprocessed = re.sub('[^a-zA-Z]', ' ', data)\n",
    "    else:\n",
    "        preprocessed = data\n",
    "\n",
    "    # 소문자 변환\n",
    "    preprocessed = preprocessed.lower().split()\n",
    " \n",
    "    # 불용어 제거\n",
    "    stops = set(stopwords.words('english'))\n",
    "    preprocessed = [word for word in preprocessed if not word in stops]\n",
    "\n",
    "    # 사용자 정의 불용어 제거\n",
    "    preprocessed = [word for word in preprocessed if not word in custom_stopwords]\n",
    " \n",
    "    # 어간 추출\n",
    "    if stemming:\n",
    "        stemmer = nltk.stem.SnowballStemmer('english')\n",
    "        preprocessed = [stemmer.stem(word) for word in preprocessed]\n",
    " \n",
    "    # 공백으로 구분된 문자열로 결합하여 결과 반환\n",
    "    return ' '.join(preprocessed)"
   ]
  },
  {
   "cell_type": "markdown",
   "metadata": {},
   "source": [
    "### (1) Option 설정"
   ]
  },
  {
   "cell_type": "markdown",
   "metadata": {},
   "source": [
    "- only_alphabet: 오직 영어만 추출 (숫자, 특수문자 제거)\n",
    "- custom_stopwords_exist: 사용자 설정 불용어 존재 여부\n",
    "- stemming: 어간 추출 여부\n",
    "- custom_stopwords: 사용자 설정 불용어 리스트"
   ]
  },
  {
   "cell_type": "code",
   "execution_count": 26,
   "metadata": {},
   "outputs": [],
   "source": [
    "only_alphabet = True\n",
    "custom_stopwords_exist = False\n",
    "stemming = False"
   ]
  },
  {
   "cell_type": "code",
   "execution_count": 27,
   "metadata": {},
   "outputs": [],
   "source": [
    "custom_stopwords = []"
   ]
  },
  {
   "cell_type": "markdown",
   "metadata": {},
   "source": [
    "### (2) 텍스트 전처리"
   ]
  },
  {
   "cell_type": "code",
   "execution_count": 28,
   "metadata": {},
   "outputs": [
    {
     "data": {
      "text/plain": [
       "0    tv future hands viewers home theatre systems p...\n",
       "1    worldcom boss left books alone former worldcom...\n",
       "2    tigers wary farrell gamble leicester say rushe...\n",
       "Name: text, dtype: object"
      ]
     },
     "execution_count": 28,
     "metadata": {},
     "output_type": "execute_result"
    }
   ],
   "source": [
    "preprocessed_text = data[text_col].apply(lambda x : text_cleaning(x))\n",
    "preprocessed_text[:3]"
   ]
  },
  {
   "cell_type": "markdown",
   "metadata": {},
   "source": [
    "### (3) Tokenize"
   ]
  },
  {
   "cell_type": "code",
   "execution_count": 39,
   "metadata": {},
   "outputs": [
    {
     "data": {
      "text/plain": [
       "[['tv',\n",
       "  'future',\n",
       "  'hands',\n",
       "  'viewers',\n",
       "  'home',\n",
       "  'theatre',\n",
       "  'systems',\n",
       "  'plasma',\n",
       "  'high',\n",
       "  'definition',\n",
       "  'tvs',\n",
       "  'digital',\n",
       "  'video',\n",
       "  'recorders',\n",
       "  'moving',\n",
       "  'living',\n",
       "  'room',\n",
       "  'way',\n",
       "  'people',\n",
       "  'watch',\n",
       "  'tv',\n",
       "  'radically',\n",
       "  'different',\n",
       "  'five',\n",
       "  'years',\n",
       "  'time',\n",
       "  'according',\n",
       "  'expert',\n",
       "  'panel',\n",
       "  'gathered',\n",
       "  'annual',\n",
       "  'consumer',\n",
       "  'electronics',\n",
       "  'show',\n",
       "  'las',\n",
       "  'vegas',\n",
       "  'discuss',\n",
       "  'new',\n",
       "  'technologies',\n",
       "  'impact',\n",
       "  'one',\n",
       "  'favourite',\n",
       "  'pastimes',\n",
       "  'us',\n",
       "  'leading',\n",
       "  'trend',\n",
       "  'programmes',\n",
       "  'content',\n",
       "  'delivered',\n",
       "  'viewers',\n",
       "  'via',\n",
       "  'home',\n",
       "  'networks',\n",
       "  'cable',\n",
       "  'satellite',\n",
       "  'telecoms',\n",
       "  'companies',\n",
       "  'broadband',\n",
       "  'service',\n",
       "  'providers',\n",
       "  'front',\n",
       "  'rooms',\n",
       "  'portable',\n",
       "  'devices',\n",
       "  'one',\n",
       "  'talked',\n",
       "  'technologies',\n",
       "  'ces',\n",
       "  'digital',\n",
       "  'personal',\n",
       "  'video',\n",
       "  'recorders',\n",
       "  'dvr',\n",
       "  'pvr',\n",
       "  'set',\n",
       "  'top',\n",
       "  'boxes',\n",
       "  'like',\n",
       "  'us',\n",
       "  'tivo',\n",
       "  'uk',\n",
       "  'sky',\n",
       "  'system',\n",
       "  'allow',\n",
       "  'people',\n",
       "  'record',\n",
       "  'store',\n",
       "  'play',\n",
       "  'pause',\n",
       "  'forward',\n",
       "  'wind',\n",
       "  'tv',\n",
       "  'programmes',\n",
       "  'want',\n",
       "  'essentially',\n",
       "  'technology',\n",
       "  'allows',\n",
       "  'much',\n",
       "  'personalised',\n",
       "  'tv',\n",
       "  'also',\n",
       "  'built',\n",
       "  'high',\n",
       "  'definition',\n",
       "  'tv',\n",
       "  'sets',\n",
       "  'big',\n",
       "  'business',\n",
       "  'japan',\n",
       "  'us',\n",
       "  'slower',\n",
       "  'take',\n",
       "  'europe',\n",
       "  'lack',\n",
       "  'high',\n",
       "  'definition',\n",
       "  'programming',\n",
       "  'people',\n",
       "  'forward',\n",
       "  'wind',\n",
       "  'adverts',\n",
       "  'also',\n",
       "  'forget',\n",
       "  'abiding',\n",
       "  'network',\n",
       "  'channel',\n",
       "  'schedules',\n",
       "  'putting',\n",
       "  'together',\n",
       "  'la',\n",
       "  'carte',\n",
       "  'entertainment',\n",
       "  'us',\n",
       "  'networks',\n",
       "  'cable',\n",
       "  'satellite',\n",
       "  'companies',\n",
       "  'worried',\n",
       "  'means',\n",
       "  'terms',\n",
       "  'advertising',\n",
       "  'revenues',\n",
       "  'well',\n",
       "  'brand',\n",
       "  'identity',\n",
       "  'viewer',\n",
       "  'loyalty',\n",
       "  'channels',\n",
       "  'although',\n",
       "  'us',\n",
       "  'leads',\n",
       "  'technology',\n",
       "  'moment',\n",
       "  'also',\n",
       "  'concern',\n",
       "  'raised',\n",
       "  'europe',\n",
       "  'particularly',\n",
       "  'growing',\n",
       "  'uptake',\n",
       "  'services',\n",
       "  'like',\n",
       "  'sky',\n",
       "  'happens',\n",
       "  'today',\n",
       "  'see',\n",
       "  'nine',\n",
       "  'months',\n",
       "  'years',\n",
       "  'time',\n",
       "  'uk',\n",
       "  'adam',\n",
       "  'hume',\n",
       "  'bbc',\n",
       "  'broadcast',\n",
       "  'futurologist',\n",
       "  'told',\n",
       "  'bbc',\n",
       "  'news',\n",
       "  'website',\n",
       "  'likes',\n",
       "  'bbc',\n",
       "  'issues',\n",
       "  'lost',\n",
       "  'advertising',\n",
       "  'revenue',\n",
       "  'yet',\n",
       "  'pressing',\n",
       "  'issue',\n",
       "  'moment',\n",
       "  'commercial',\n",
       "  'uk',\n",
       "  'broadcasters',\n",
       "  'brand',\n",
       "  'loyalty',\n",
       "  'important',\n",
       "  'everyone',\n",
       "  'talking',\n",
       "  'content',\n",
       "  'brands',\n",
       "  'rather',\n",
       "  'network',\n",
       "  'brands',\n",
       "  'said',\n",
       "  'tim',\n",
       "  'hanlon',\n",
       "  'brand',\n",
       "  'communications',\n",
       "  'firm',\n",
       "  'starcom',\n",
       "  'mediavest',\n",
       "  'reality',\n",
       "  'broadband',\n",
       "  'connections',\n",
       "  'anybody',\n",
       "  'producer',\n",
       "  'content',\n",
       "  'added',\n",
       "  'challenge',\n",
       "  'hard',\n",
       "  'promote',\n",
       "  'programme',\n",
       "  'much',\n",
       "  'choice',\n",
       "  'means',\n",
       "  'said',\n",
       "  'stacey',\n",
       "  'jolna',\n",
       "  'senior',\n",
       "  'vice',\n",
       "  'president',\n",
       "  'tv',\n",
       "  'guide',\n",
       "  'tv',\n",
       "  'group',\n",
       "  'way',\n",
       "  'people',\n",
       "  'find',\n",
       "  'content',\n",
       "  'want',\n",
       "  'watch',\n",
       "  'simplified',\n",
       "  'tv',\n",
       "  'viewers',\n",
       "  'means',\n",
       "  'networks',\n",
       "  'us',\n",
       "  'terms',\n",
       "  'channels',\n",
       "  'could',\n",
       "  'take',\n",
       "  'leaf',\n",
       "  'google',\n",
       "  'book',\n",
       "  'search',\n",
       "  'engine',\n",
       "  'future',\n",
       "  'instead',\n",
       "  'scheduler',\n",
       "  'help',\n",
       "  'people',\n",
       "  'find',\n",
       "  'want',\n",
       "  'watch',\n",
       "  'kind',\n",
       "  'channel',\n",
       "  'model',\n",
       "  'might',\n",
       "  'work',\n",
       "  'younger',\n",
       "  'ipod',\n",
       "  'generation',\n",
       "  'used',\n",
       "  'taking',\n",
       "  'control',\n",
       "  'gadgets',\n",
       "  'play',\n",
       "  'might',\n",
       "  'suit',\n",
       "  'everyone',\n",
       "  'panel',\n",
       "  'recognised',\n",
       "  'older',\n",
       "  'generations',\n",
       "  'comfortable',\n",
       "  'familiar',\n",
       "  'schedules',\n",
       "  'channel',\n",
       "  'brands',\n",
       "  'know',\n",
       "  'getting',\n",
       "  'perhaps',\n",
       "  'want',\n",
       "  'much',\n",
       "  'choice',\n",
       "  'put',\n",
       "  'hands',\n",
       "  'mr',\n",
       "  'hanlon',\n",
       "  'suggested',\n",
       "  'end',\n",
       "  'kids',\n",
       "  'diapers',\n",
       "  'pushing',\n",
       "  'buttons',\n",
       "  'already',\n",
       "  'everything',\n",
       "  'possible',\n",
       "  'available',\n",
       "  'said',\n",
       "  'mr',\n",
       "  'hanlon',\n",
       "  'ultimately',\n",
       "  'consumer',\n",
       "  'tell',\n",
       "  'market',\n",
       "  'want',\n",
       "  'new',\n",
       "  'gadgets',\n",
       "  'technologies',\n",
       "  'showcased',\n",
       "  'ces',\n",
       "  'many',\n",
       "  'enhancing',\n",
       "  'tv',\n",
       "  'watching',\n",
       "  'experience',\n",
       "  'high',\n",
       "  'definition',\n",
       "  'tv',\n",
       "  'sets',\n",
       "  'everywhere',\n",
       "  'many',\n",
       "  'new',\n",
       "  'models',\n",
       "  'lcd',\n",
       "  'liquid',\n",
       "  'crystal',\n",
       "  'display',\n",
       "  'tvs',\n",
       "  'launched',\n",
       "  'dvr',\n",
       "  'capability',\n",
       "  'built',\n",
       "  'instead',\n",
       "  'external',\n",
       "  'boxes',\n",
       "  'one',\n",
       "  'example',\n",
       "  'launched',\n",
       "  'show',\n",
       "  'humax',\n",
       "  'inch',\n",
       "  'lcd',\n",
       "  'tv',\n",
       "  'hour',\n",
       "  'tivo',\n",
       "  'dvr',\n",
       "  'dvd',\n",
       "  'recorder',\n",
       "  'one',\n",
       "  'us',\n",
       "  'biggest',\n",
       "  'satellite',\n",
       "  'tv',\n",
       "  'companies',\n",
       "  'directtv',\n",
       "  'even',\n",
       "  'launched',\n",
       "  'branded',\n",
       "  'dvr',\n",
       "  'show',\n",
       "  'hours',\n",
       "  'recording',\n",
       "  'capability',\n",
       "  'instant',\n",
       "  'replay',\n",
       "  'search',\n",
       "  'function',\n",
       "  'set',\n",
       "  'pause',\n",
       "  'rewind',\n",
       "  'tv',\n",
       "  'hours',\n",
       "  'microsoft',\n",
       "  'chief',\n",
       "  'bill',\n",
       "  'gates',\n",
       "  'announced',\n",
       "  'pre',\n",
       "  'show',\n",
       "  'keynote',\n",
       "  'speech',\n",
       "  'partnership',\n",
       "  'tivo',\n",
       "  'called',\n",
       "  'tivotogo',\n",
       "  'means',\n",
       "  'people',\n",
       "  'play',\n",
       "  'recorded',\n",
       "  'programmes',\n",
       "  'windows',\n",
       "  'pcs',\n",
       "  'mobile',\n",
       "  'devices',\n",
       "  'reflect',\n",
       "  'increasing',\n",
       "  'trend',\n",
       "  'freeing',\n",
       "  'multimedia',\n",
       "  'people',\n",
       "  'watch',\n",
       "  'want',\n",
       "  'want'],\n",
       " ['worldcom',\n",
       "  'boss',\n",
       "  'left',\n",
       "  'books',\n",
       "  'alone',\n",
       "  'former',\n",
       "  'worldcom',\n",
       "  'boss',\n",
       "  'bernie',\n",
       "  'ebbers',\n",
       "  'accused',\n",
       "  'overseeing',\n",
       "  'bn',\n",
       "  'bn',\n",
       "  'fraud',\n",
       "  'never',\n",
       "  'made',\n",
       "  'accounting',\n",
       "  'decisions',\n",
       "  'witness',\n",
       "  'told',\n",
       "  'jurors',\n",
       "  'david',\n",
       "  'myers',\n",
       "  'made',\n",
       "  'comments',\n",
       "  'questioning',\n",
       "  'defence',\n",
       "  'lawyers',\n",
       "  'arguing',\n",
       "  'mr',\n",
       "  'ebbers',\n",
       "  'responsible',\n",
       "  'worldcom',\n",
       "  'problems',\n",
       "  'phone',\n",
       "  'company',\n",
       "  'collapsed',\n",
       "  'prosecutors',\n",
       "  'claim',\n",
       "  'losses',\n",
       "  'hidden',\n",
       "  'protect',\n",
       "  'firm',\n",
       "  'shares',\n",
       "  'mr',\n",
       "  'myers',\n",
       "  'already',\n",
       "  'pleaded',\n",
       "  'guilty',\n",
       "  'fraud',\n",
       "  'assisting',\n",
       "  'prosecutors',\n",
       "  'monday',\n",
       "  'defence',\n",
       "  'lawyer',\n",
       "  'reid',\n",
       "  'weingarten',\n",
       "  'tried',\n",
       "  'distance',\n",
       "  'client',\n",
       "  'allegations',\n",
       "  'cross',\n",
       "  'examination',\n",
       "  'asked',\n",
       "  'mr',\n",
       "  'myers',\n",
       "  'ever',\n",
       "  'knew',\n",
       "  'mr',\n",
       "  'ebbers',\n",
       "  'make',\n",
       "  'accounting',\n",
       "  'decision',\n",
       "  'aware',\n",
       "  'mr',\n",
       "  'myers',\n",
       "  'replied',\n",
       "  'ever',\n",
       "  'know',\n",
       "  'mr',\n",
       "  'ebbers',\n",
       "  'make',\n",
       "  'accounting',\n",
       "  'entry',\n",
       "  'worldcom',\n",
       "  'books',\n",
       "  'mr',\n",
       "  'weingarten',\n",
       "  'pressed',\n",
       "  'replied',\n",
       "  'witness',\n",
       "  'mr',\n",
       "  'myers',\n",
       "  'admitted',\n",
       "  'ordered',\n",
       "  'false',\n",
       "  'accounting',\n",
       "  'entries',\n",
       "  'request',\n",
       "  'former',\n",
       "  'worldcom',\n",
       "  'chief',\n",
       "  'financial',\n",
       "  'officer',\n",
       "  'scott',\n",
       "  'sullivan',\n",
       "  'defence',\n",
       "  'lawyers',\n",
       "  'trying',\n",
       "  'paint',\n",
       "  'mr',\n",
       "  'sullivan',\n",
       "  'admitted',\n",
       "  'fraud',\n",
       "  'testify',\n",
       "  'later',\n",
       "  'trial',\n",
       "  'mastermind',\n",
       "  'behind',\n",
       "  'worldcom',\n",
       "  'accounting',\n",
       "  'house',\n",
       "  'cards',\n",
       "  'mr',\n",
       "  'ebbers',\n",
       "  'team',\n",
       "  'meanwhile',\n",
       "  'looking',\n",
       "  'portray',\n",
       "  'affable',\n",
       "  'boss',\n",
       "  'admission',\n",
       "  'pe',\n",
       "  'graduate',\n",
       "  'economist',\n",
       "  'whatever',\n",
       "  'abilities',\n",
       "  'mr',\n",
       "  'ebbers',\n",
       "  'transformed',\n",
       "  'worldcom',\n",
       "  'relative',\n",
       "  'unknown',\n",
       "  'bn',\n",
       "  'telecoms',\n",
       "  'giant',\n",
       "  'investor',\n",
       "  'darling',\n",
       "  'late',\n",
       "  'worldcom',\n",
       "  'problems',\n",
       "  'mounted',\n",
       "  'however',\n",
       "  'competition',\n",
       "  'increased',\n",
       "  'telecoms',\n",
       "  'boom',\n",
       "  'petered',\n",
       "  'firm',\n",
       "  'finally',\n",
       "  'collapsed',\n",
       "  'shareholders',\n",
       "  'lost',\n",
       "  'bn',\n",
       "  'workers',\n",
       "  'lost',\n",
       "  'jobs',\n",
       "  'mr',\n",
       "  'ebbers',\n",
       "  'trial',\n",
       "  'expected',\n",
       "  'last',\n",
       "  'two',\n",
       "  'months',\n",
       "  'found',\n",
       "  'guilty',\n",
       "  'former',\n",
       "  'ceo',\n",
       "  'faces',\n",
       "  'substantial',\n",
       "  'jail',\n",
       "  'sentence',\n",
       "  'firmly',\n",
       "  'declared',\n",
       "  'innocence'],\n",
       " ['tigers',\n",
       "  'wary',\n",
       "  'farrell',\n",
       "  'gamble',\n",
       "  'leicester',\n",
       "  'say',\n",
       "  'rushed',\n",
       "  'making',\n",
       "  'bid',\n",
       "  'andy',\n",
       "  'farrell',\n",
       "  'great',\n",
       "  'britain',\n",
       "  'rugby',\n",
       "  'league',\n",
       "  'captain',\n",
       "  'decide',\n",
       "  'switch',\n",
       "  'codes',\n",
       "  'anybody',\n",
       "  'else',\n",
       "  'involved',\n",
       "  'process',\n",
       "  'still',\n",
       "  'way',\n",
       "  'away',\n",
       "  'going',\n",
       "  'next',\n",
       "  'stage',\n",
       "  'tigers',\n",
       "  'boss',\n",
       "  'john',\n",
       "  'wells',\n",
       "  'told',\n",
       "  'bbc',\n",
       "  'radio',\n",
       "  'leicester',\n",
       "  'moment',\n",
       "  'still',\n",
       "  'lot',\n",
       "  'unknowns',\n",
       "  'andy',\n",
       "  'farrell',\n",
       "  'least',\n",
       "  'medical',\n",
       "  'situation',\n",
       "  'whoever',\n",
       "  'take',\n",
       "  'going',\n",
       "  'take',\n",
       "  'big',\n",
       "  'big',\n",
       "  'gamble',\n",
       "  'farrell',\n",
       "  'persistent',\n",
       "  'knee',\n",
       "  'problems',\n",
       "  'operation',\n",
       "  'knee',\n",
       "  'five',\n",
       "  'weeks',\n",
       "  'ago',\n",
       "  'expected',\n",
       "  'another',\n",
       "  'three',\n",
       "  'months',\n",
       "  'leicester',\n",
       "  'saracens',\n",
       "  'believed',\n",
       "  'head',\n",
       "  'list',\n",
       "  'rugby',\n",
       "  'union',\n",
       "  'clubs',\n",
       "  'interested',\n",
       "  'signing',\n",
       "  'farrell',\n",
       "  'decides',\n",
       "  'move',\n",
       "  'man',\n",
       "  'game',\n",
       "  'move',\n",
       "  'across',\n",
       "  'union',\n",
       "  'wells',\n",
       "  'believes',\n",
       "  'would',\n",
       "  'better',\n",
       "  'playing',\n",
       "  'backs',\n",
       "  'least',\n",
       "  'initially',\n",
       "  'sure',\n",
       "  'could',\n",
       "  'make',\n",
       "  'step',\n",
       "  'league',\n",
       "  'union',\n",
       "  'involved',\n",
       "  'centre',\n",
       "  'said',\n",
       "  'wells',\n",
       "  'think',\n",
       "  'england',\n",
       "  'would',\n",
       "  'prefer',\n",
       "  'progress',\n",
       "  'position',\n",
       "  'back',\n",
       "  'row',\n",
       "  'make',\n",
       "  'use',\n",
       "  'rugby',\n",
       "  'league',\n",
       "  'skills',\n",
       "  'within',\n",
       "  'forwards',\n",
       "  'jury',\n",
       "  'whether',\n",
       "  'cross',\n",
       "  'divide',\n",
       "  'club',\n",
       "  'balance',\n",
       "  'struck',\n",
       "  'cost',\n",
       "  'gamble',\n",
       "  'option',\n",
       "  'bringing',\n",
       "  'ready',\n",
       "  'made',\n",
       "  'replacement']]"
      ]
     },
     "execution_count": 39,
     "metadata": {},
     "output_type": "execute_result"
    }
   ],
   "source": [
    "tokenizer = TreebankWordTokenizer()\n",
    "Tokens = [tokenizer.tokenize(text) for text in preprocessed_text]\n",
    "Tokens[:3]"
   ]
  },
  {
   "cell_type": "markdown",
   "metadata": {},
   "source": [
    "## 4.1 LDA"
   ]
  },
  {
   "cell_type": "markdown",
   "metadata": {},
   "source": [
    "### (1) Option 설정\n",
    "- min_count: 특정 개수 이하 단어는 제거\n",
    "- N_grams: N_gram 수 (1: Uni-gram)"
   ]
  },
  {
   "cell_type": "code",
   "execution_count": 91,
   "metadata": {},
   "outputs": [],
   "source": [
    "min_count = 3\n",
    "N_grams = 2"
   ]
  },
  {
   "cell_type": "markdown",
   "metadata": {},
   "source": [
    "### (2) LDA 구성 요소 생성"
   ]
  },
  {
   "cell_type": "code",
   "execution_count": 92,
   "metadata": {},
   "outputs": [],
   "source": [
    "def get_ngrams(token, n):\n",
    "    n_grams = ngrams(token, n)\n",
    "    return [' '.join(grams) for grams in n_grams]"
   ]
  },
  {
   "cell_type": "code",
   "execution_count": 93,
   "metadata": {},
   "outputs": [],
   "source": [
    "if N_grams > 1:\n",
    "    gram_tokens = [get_ngrams(token, N_grams) for token in Tokens]\n",
    "else:\n",
    "    gram_tokens = Tokens"
   ]
  },
  {
   "cell_type": "code",
   "execution_count": 96,
   "metadata": {},
   "outputs": [],
   "source": [
    "id2word=corpora.Dictionary(gram_tokens)\n",
    "id2word.filter_extremes(no_below = min_count)\n",
    "texts = gram_tokens\n",
    "corpus=[id2word.doc2bow(text) for text in texts]"
   ]
  },
  {
   "cell_type": "markdown",
   "metadata": {},
   "source": [
    "### (3) 최적의 Topic 개수 확인"
   ]
  },
  {
   "cell_type": "code",
   "execution_count": 103,
   "metadata": {},
   "outputs": [],
   "source": [
    "def compute_coherence_values(dictionary, corpus, texts, limit, start=4, step=2):\n",
    "\n",
    "    coherence_values = []\n",
    "    model_list = []\n",
    "    for num_topics in range(start, limit, step):\n",
    "        model = LdaModel(corpus=corpus, num_topics=num_topics, id2word=dictionary)\n",
    "        model_list.append(model)\n",
    "        coherencemodel = gensim.models.coherencemodel.CoherenceModel(model=model, texts=texts, dictionary=dictionary, coherence='c_v')\n",
    "        coherence_values.append(coherencemodel.get_coherence())\n",
    "    \n",
    "    x = range(start, limit, step) \n",
    "    plt.plot(x, coherence_values) \n",
    "    plt.xlabel(\"Num Topics\") \n",
    "    plt.ylabel(\"Coherence score\") \n",
    "    plt.legend((\"coherence_values\"), loc='best') \n",
    "    plt.show()\n",
    "    \n",
    "    return model_list, coherence_values"
   ]
  },
  {
   "cell_type": "code",
   "execution_count": 104,
   "metadata": {},
   "outputs": [],
   "source": [
    "start_topic_num = 3\n",
    "end_topic_num = 10\n",
    "step = 1"
   ]
  },
  {
   "cell_type": "code",
   "execution_count": 105,
   "metadata": {},
   "outputs": [
    {
     "data": {
      "image/png": "[encoded data removed]",
      "text/plain": [
       "<Figure size 432x288 with 1 Axes>"
      ]
     },
     "metadata": {
      "needs_background": "light"
     },
     "output_type": "display_data"
    }
   ],
   "source": [
    "model_list, coherence_values = compute_coherence_values(dictionary=id2word, corpus=corpus, texts=texts, start=start_topic_num, limit=end_topic_num+1, step=step)"
   ]
  },
  {
   "cell_type": "code",
   "execution_count": 106,
   "metadata": {},
   "outputs": [
    {
     "name": "stdout",
     "output_type": "stream",
     "text": [
      "Best topic number: 10\n"
     ]
    }
   ],
   "source": [
    "best_topic_num = range(start_topic_num, end_topic_num+1, step)[coherence_values.index(max(coherence_values))]\n",
    "print(\"Best topic number: {}\".format(best_topic_num))"
   ]
  },
  {
   "cell_type": "markdown",
   "metadata": {},
   "source": [
    "### (4) 최적의 LDA 모델 저장"
   ]
  },
  {
   "cell_type": "code",
   "execution_count": 110,
   "metadata": {},
   "outputs": [
    {
     "data": {
      "text/plain": [
       "[(0,\n",
       "  '0.012*\"mr blair\" + 0.006*\"tony blair\" + 0.006*\"prime minister\" + 0.005*\"said mr\" + 0.005*\"mr brown\" + 0.004*\"last year\" + 0.004*\"camera phones\" + 0.004*\"mobile phone\"'),\n",
       " (1,\n",
       "  '0.004*\"mr jackson\" + 0.004*\"six nations\" + 0.004*\"new zealand\" + 0.004*\"prime minister\" + 0.003*\"world cup\" + 0.003*\"grand slam\" + 0.003*\"first half\" + 0.003*\"standard life\"'),\n",
       " (2,\n",
       "  '0.011*\"p p\" + 0.004*\"said mr\" + 0.004*\"kilroy silk\" + 0.004*\"spider man\" + 0.003*\"mr kilroy\" + 0.003*\"video games\" + 0.002*\"bot nets\" + 0.002*\"told bbc\"'),\n",
       " (3,\n",
       "  '0.008*\"mr blair\" + 0.006*\"prime minister\" + 0.003*\"michael howard\" + 0.003*\"last year\" + 0.003*\"general election\" + 0.003*\"tony blair\" + 0.003*\"told bbc\" + 0.003*\"mr campbell\"'),\n",
       " (4,\n",
       "  '0.009*\"high definition\" + 0.005*\"told bbc\" + 0.004*\"home secretary\" + 0.004*\"mr blunkett\" + 0.003*\"prime minister\" + 0.003*\"bbc news\" + 0.003*\"said mr\" + 0.002*\"says mr\"'),\n",
       " (5,\n",
       "  '0.004*\"chief executive\" + 0.004*\"mr brown\" + 0.004*\"bn bn\" + 0.003*\"last year\" + 0.002*\"fourth quarter\" + 0.002*\"prime minister\" + 0.002*\"world biggest\" + 0.002*\"anti doping\"'),\n",
       " (6,\n",
       "  '0.006*\"davis cup\" + 0.004*\"e mail\" + 0.004*\"box office\" + 0.004*\"e mails\" + 0.003*\"year old\" + 0.003*\"phishing attacks\" + 0.003*\"alfa romeo\" + 0.002*\"bn euros\"'),\n",
       " (7,\n",
       "  '0.006*\"year old\" + 0.005*\"blu ray\" + 0.004*\"wal mart\" + 0.004*\"next generation\" + 0.003*\"high definition\" + 0.003*\"kelly holmes\" + 0.003*\"new york\" + 0.002*\"double olympic\"'),\n",
       " (8,\n",
       "  '0.007*\"said mr\" + 0.007*\"e mail\" + 0.005*\"kilroy silk\" + 0.003*\"mr kilroy\" + 0.003*\"anti virus\" + 0.003*\"deutsche boerse\" + 0.003*\"mobile tv\" + 0.002*\"security firm\"'),\n",
       " (9,\n",
       "  '0.004*\"last year\" + 0.004*\"lord goldsmith\" + 0.003*\"house prices\" + 0.003*\"said mr\" + 0.003*\"bank china\" + 0.003*\"attorney general\" + 0.003*\"search engine\" + 0.002*\"halifax said\"')]"
      ]
     },
     "execution_count": 110,
     "metadata": {},
     "output_type": "execute_result"
    }
   ],
   "source": [
    "best_model = model_list[coherence_values.index(max(coherence_values))]\n",
    "topics = best_model.print_topics(num_words=8) \n",
    "topics"
   ]
  },
  {
   "cell_type": "markdown",
   "metadata": {},
   "source": [
    "### (5) pyLDAvis 시각화"
   ]
  },
  {
   "cell_type": "code",
   "execution_count": 111,
   "metadata": {},
   "outputs": [
    {
     "name": "stderr",
     "output_type": "stream",
     "text": [
      "/home/jongwook95.lee/miniforge3/envs/bert_eng/lib/python3.8/site-packages/pyLDAvis/_prepare.py:246: FutureWarning: In a future version of pandas all arguments of DataFrame.drop except for the argument 'labels' will be keyword-only.\n",
      "  default_term_info = default_term_info.sort_values(\n",
      "/home/jongwook95.lee/miniforge3/envs/bert_eng/lib/python3.8/site-packages/joblib/backports.py:36: DeprecationWarning: distutils Version classes are deprecated. Use packaging.version instead.\n",
      "  if LooseVersion(np.__version__) < '1.13':\n",
      "/home/jongwook95.lee/miniforge3/envs/bert_eng/lib/python3.8/site-packages/setuptools/_distutils/version.py:346: DeprecationWarning: distutils Version classes are deprecated. Use packaging.version instead.\n",
      "  other = LooseVersion(other)\n",
      "/home/jongwook95.lee/miniforge3/envs/bert_eng/lib/python3.8/site-packages/joblib/backports.py:36: DeprecationWarning: distutils Version classes are deprecated. Use packaging.version instead.\n",
      "  if LooseVersion(np.__version__) < '1.13':\n",
      "/home/jongwook95.lee/miniforge3/envs/bert_eng/lib/python3.8/site-packages/setuptools/_distutils/version.py:346: DeprecationWarning: distutils Version classes are deprecated. Use packaging.version instead.\n",
      "  other = LooseVersion(other)\n",
      "/home/jongwook95.lee/miniforge3/envs/bert_eng/lib/python3.8/site-packages/joblib/backports.py:36: DeprecationWarning: distutils Version classes are deprecated. Use packaging.version instead.\n",
      "  if LooseVersion(np.__version__) < '1.13':\n",
      "/home/jongwook95.lee/miniforge3/envs/bert_eng/lib/python3.8/site-packages/setuptools/_distutils/version.py:346: DeprecationWarning: distutils Version classes are deprecated. Use packaging.version instead.\n",
      "  other = LooseVersion(other)\n",
      "/home/jongwook95.lee/miniforge3/envs/bert_eng/lib/python3.8/site-packages/joblib/backports.py:36: DeprecationWarning: distutils Version classes are deprecated. Use packaging.version instead.\n",
      "  if LooseVersion(np.__version__) < '1.13':\n",
      "/home/jongwook95.lee/miniforge3/envs/bert_eng/lib/python3.8/site-packages/setuptools/_distutils/version.py:346: DeprecationWarning: distutils Version classes are deprecated. Use packaging.version instead.\n",
      "  other = LooseVersion(other)\n",
      "/home/jongwook95.lee/miniforge3/envs/bert_eng/lib/python3.8/site-packages/joblib/backports.py:36: DeprecationWarning: distutils Version classes are deprecated. Use packaging.version instead.\n",
      "  if LooseVersion(np.__version__) < '1.13':\n",
      "/home/jongwook95.lee/miniforge3/envs/bert_eng/lib/python3.8/site-packages/setuptools/_distutils/version.py:346: DeprecationWarning: distutils Version classes are deprecated. Use packaging.version instead.\n",
      "  other = LooseVersion(other)\n",
      "/home/jongwook95.lee/miniforge3/envs/bert_eng/lib/python3.8/site-packages/joblib/backports.py:36: DeprecationWarning: distutils Version classes are deprecated. Use packaging.version instead.\n",
      "  if LooseVersion(np.__version__) < '1.13':\n",
      "/home/jongwook95.lee/miniforge3/envs/bert_eng/lib/python3.8/site-packages/setuptools/_distutils/version.py:346: DeprecationWarning: distutils Version classes are deprecated. Use packaging.version instead.\n",
      "  other = LooseVersion(other)\n",
      "/home/jongwook95.lee/miniforge3/envs/bert_eng/lib/python3.8/site-packages/joblib/backports.py:36: DeprecationWarning: distutils Version classes are deprecated. Use packaging.version instead.\n",
      "  if LooseVersion(np.__version__) < '1.13':\n",
      "/home/jongwook95.lee/miniforge3/envs/bert_eng/lib/python3.8/site-packages/setuptools/_distutils/version.py:346: DeprecationWarning: distutils Version classes are deprecated. Use packaging.version instead.\n",
      "  other = LooseVersion(other)\n",
      "/home/jongwook95.lee/miniforge3/envs/bert_eng/lib/python3.8/site-packages/joblib/backports.py:36: DeprecationWarning: distutils Version classes are deprecated. Use packaging.version instead.\n",
      "  if LooseVersion(np.__version__) < '1.13':\n",
      "/home/jongwook95.lee/miniforge3/envs/bert_eng/lib/python3.8/site-packages/setuptools/_distutils/version.py:346: DeprecationWarning: distutils Version classes are deprecated. Use packaging.version instead.\n",
      "  other = LooseVersion(other)\n",
      "/home/jongwook95.lee/miniforge3/envs/bert_eng/lib/python3.8/site-packages/past/builtins/misc.py:45: DeprecationWarning: the imp module is deprecated in favour of importlib; see the module's documentation for alternative uses\n",
      "  from imp import reload\n",
      "/home/jongwook95.lee/miniforge3/envs/bert_eng/lib/python3.8/site-packages/past/builtins/misc.py:45: DeprecationWarning: the imp module is deprecated in favour of importlib; see the module's documentation for alternative uses\n",
      "  from imp import reload\n",
      "/home/jongwook95.lee/miniforge3/envs/bert_eng/lib/python3.8/site-packages/past/builtins/misc.py:45: DeprecationWarning: the imp module is deprecated in favour of importlib; see the module's documentation for alternative uses\n",
      "  from imp import reload\n",
      "/home/jongwook95.lee/miniforge3/envs/bert_eng/lib/python3.8/site-packages/past/builtins/misc.py:45: DeprecationWarning: the imp module is deprecated in favour of importlib; see the module's documentation for alternative uses\n",
      "  from imp import reload\n",
      "/home/jongwook95.lee/miniforge3/envs/bert_eng/lib/python3.8/site-packages/joblib/backports.py:36: DeprecationWarning: distutils Version classes are deprecated. Use packaging.version instead.\n",
      "  if LooseVersion(np.__version__) < '1.13':\n",
      "/home/jongwook95.lee/miniforge3/envs/bert_eng/lib/python3.8/site-packages/setuptools/_distutils/version.py:346: DeprecationWarning: distutils Version classes are deprecated. Use packaging.version instead.\n",
      "  other = LooseVersion(other)\n",
      "/home/jongwook95.lee/miniforge3/envs/bert_eng/lib/python3.8/site-packages/joblib/backports.py:36: DeprecationWarning: distutils Version classes are deprecated. Use packaging.version instead.\n",
      "  if LooseVersion(np.__version__) < '1.13':\n",
      "/home/jongwook95.lee/miniforge3/envs/bert_eng/lib/python3.8/site-packages/setuptools/_distutils/version.py:346: DeprecationWarning: distutils Version classes are deprecated. Use packaging.version instead.\n",
      "  other = LooseVersion(other)\n",
      "/home/jongwook95.lee/miniforge3/envs/bert_eng/lib/python3.8/site-packages/joblib/backports.py:36: DeprecationWarning: distutils Version classes are deprecated. Use packaging.version instead.\n",
      "  if LooseVersion(np.__version__) < '1.13':\n",
      "/home/jongwook95.lee/miniforge3/envs/bert_eng/lib/python3.8/site-packages/setuptools/_distutils/version.py:346: DeprecationWarning: distutils Version classes are deprecated. Use packaging.version instead.\n",
      "  other = LooseVersion(other)\n",
      "/home/jongwook95.lee/miniforge3/envs/bert_eng/lib/python3.8/site-packages/joblib/backports.py:36: DeprecationWarning: distutils Version classes are deprecated. Use packaging.version instead.\n",
      "  if LooseVersion(np.__version__) < '1.13':\n",
      "/home/jongwook95.lee/miniforge3/envs/bert_eng/lib/python3.8/site-packages/setuptools/_distutils/version.py:346: DeprecationWarning: distutils Version classes are deprecated. Use packaging.version instead.\n",
      "  other = LooseVersion(other)\n",
      "/home/jongwook95.lee/miniforge3/envs/bert_eng/lib/python3.8/site-packages/joblib/backports.py:36: DeprecationWarning: distutils Version classes are deprecated. Use packaging.version instead.\n",
      "  if LooseVersion(np.__version__) < '1.13':\n",
      "/home/jongwook95.lee/miniforge3/envs/bert_eng/lib/python3.8/site-packages/setuptools/_distutils/version.py:346: DeprecationWarning: distutils Version classes are deprecated. Use packaging.version instead.\n",
      "  other = LooseVersion(other)\n",
      "/home/jongwook95.lee/miniforge3/envs/bert_eng/lib/python3.8/site-packages/joblib/backports.py:36: DeprecationWarning: distutils Version classes are deprecated. Use packaging.version instead.\n",
      "  if LooseVersion(np.__version__) < '1.13':\n",
      "/home/jongwook95.lee/miniforge3/envs/bert_eng/lib/python3.8/site-packages/setuptools/_distutils/version.py:346: DeprecationWarning: distutils Version classes are deprecated. Use packaging.version instead.\n",
      "  other = LooseVersion(other)\n",
      "/home/jongwook95.lee/miniforge3/envs/bert_eng/lib/python3.8/site-packages/joblib/backports.py:36: DeprecationWarning: distutils Version classes are deprecated. Use packaging.version instead.\n",
      "  if LooseVersion(np.__version__) < '1.13':\n",
      "/home/jongwook95.lee/miniforge3/envs/bert_eng/lib/python3.8/site-packages/setuptools/_distutils/version.py:346: DeprecationWarning: distutils Version classes are deprecated. Use packaging.version instead.\n",
      "  other = LooseVersion(other)\n",
      "/home/jongwook95.lee/miniforge3/envs/bert_eng/lib/python3.8/site-packages/joblib/backports.py:36: DeprecationWarning: distutils Version classes are deprecated. Use packaging.version instead.\n",
      "  if LooseVersion(np.__version__) < '1.13':\n",
      "/home/jongwook95.lee/miniforge3/envs/bert_eng/lib/python3.8/site-packages/setuptools/_distutils/version.py:346: DeprecationWarning: distutils Version classes are deprecated. Use packaging.version instead.\n",
      "  other = LooseVersion(other)\n"
     ]
    },
    {
     "data": {
      "text/html": [
       "\n",
       "<link rel=\"stylesheet\" type=\"text/css\" href=\"https://cdn.jsdelivr.net/gh/bmabey/pyLDAvis@3.3.1/pyLDAvis/js/ldavis.v1.0.0.css\">\n",
       "\n",
       "\n",
       "<div id=\"ldavis_el36301406658709516966558466192\"></div>\n",
       "<script type=\"text/javascript\">\n",
       "\n",
       "var ldavis_el36301406658709516966558466192_data = {\"mdsDat\": {\"x\": [-0.1715153654274163, -0.04160787592656985, -0.10238929192513062, -0.003539712984294013, -0.001422606967534715, 0.07389813191819596, 0.1316635115215873, -0.0033000331745675427, 0.03430141078008891, 0.08391183218564104], \"y\": [-0.09663673795351352, -0.027191105095166933, 0.0371578736696609, 0.0788566418121934, 0.012293255569951495, -0.1526459032094268, -0.03055014356711437, 0.1030851847002093, 0.08684510535131232, -0.01121417127810577], \"topics\": [1, 2, 3, 4, 5, 6, 7, 8, 9, 10], \"cluster\": [1, 1, 1, 1, 1, 1, 1, 1, 1, 1], \"Freq\": [13.0851686645465, 11.63740992734324, 10.993576086611974, 10.143613356460918, 10.032104988532836, 9.63539191701006, 8.750350128076656, 8.699623990679664, 8.62432738403563, 8.398433556702527]}, \"tinfo\": {\"Term\": [\"p p\", \"mr blair\", \"high definition\", \"e mail\", \"blu ray\", \"davis cup\", \"kilroy silk\", \"wal mart\", \"mr jackson\", \"camera phones\", \"mr blunkett\", \"mr kilroy\", \"lord goldsmith\", \"mr brown\", \"spider man\", \"tony blair\", \"e mails\", \"bank china\", \"house prices\", \"deutsche boerse\", \"new zealand\", \"next generation\", \"home secretary\", \"mr campbell\", \"anti virus\", \"bot nets\", \"box office\", \"year old\", \"phishing attacks\", \"halifax said\", \"experts believe\", \"already use\", \"close gap\", \"member public\", \"party got\", \"natural resources\", \"hugh grant\", \"winning double\", \"tv radio\", \"mefin davies\", \"kolo toure\", \"indecency laws\", \"year know\", \"budget expected\", \"europe wait\", \"central london\", \"devices bought\", \"cm cm\", \"phones different\", \"use phone\", \"top fees\", \"remain said\", \"support given\", \"attention design\", \"swap data\", \"year globally\", \"least month\", \"new market\", \"according gartner\", \"counter attack\", \"post war\", \"camera phones\", \"camera phone\", \"mobile gaming\", \"digital cameras\", \"contrast said\", \"economic expansion\", \"mr blair\", \"kennedy said\", \"people see\", \"climate change\", \"also used\", \"mobile phone\", \"prime ministers\", \"tony blair\", \"battery life\", \"public services\", \"mobile phones\", \"mr brown\", \"mr kennedy\", \"blair said\", \"prime minister\", \"mr bush\", \"income tax\", \"gordon brown\", \"last year\", \"said mr\", \"michael howard\", \"pre election\", \"election campaign\", \"lib dem\", \"labour party\", \"mobile operators\", \"iraq war\", \"mr blunkett\", \"general election\", \"charles kennedy\", \"told bbc\", \"lib dems\", \"can not\", \"lawyer said\", \"tools allow\", \"would free\", \"based desktop\", \"alarm bells\", \"concerns said\", \"taken new\", \"street said\", \"windows pcs\", \"vote said\", \"perform strongly\", \"introduce free\", \"many things\", \"another way\", \"new laws\", \"held hollywood\", \"globe awards\", \"observers believe\", \"allow foreign\", \"gadgets cheaper\", \"years developing\", \"someone followed\", \"portable gadgets\", \"came us\", \"said review\", \"search site\", \"still take\", \"affairs commissioner\", \"open books\", \"broke human\", \"show presenter\", \"lot easier\", \"fundamental lack\", \"rings return\", \"star wars\", \"users search\", \"countries could\", \"trust tony\", \"lack trust\", \"finished second\", \"manager players\", \"costs could\", \"high definition\", \"want watch\", \"downlink packet\", \"fake versions\", \"home secretary\", \"mr blunkett\", \"personal care\", \"mr clarke\", \"definition dvds\", \"g networks\", \"says mr\", \"people watch\", \"look like\", \"told bbc\", \"home entertainment\", \"free personal\", \"per second\", \"bbc news\", \"david blunkett\", \"prime minister\", \"jack straw\", \"packet access\", \"government mr\", \"said mr\", \"company said\", \"human rights\", \"high speed\", \"last year\", \"mr blair\", \"box office\", \"vice president\", \"search engine\", \"tony blair\", \"read said\", \"early goal\", \"said determined\", \"presidential campaign\", \"make back\", \"device use\", \"comments may\", \"barclays capital\", \"one fifth\", \"jamie cullum\", \"labour conservative\", \"year election\", \"get core\", \"rate lowest\", \"first term\", \"protection spyware\", \"offered new\", \"court london\", \"according study\", \"mp former\", \"first president\", \"also pointed\", \"million americans\", \"us way\", \"completed first\", \"scientists work\", \"hemisphere squad\", \"report government\", \"annual income\", \"case one\", \"street media\", \"meeting wednesday\", \"say lib\", \"get full\", \"told guardian\", \"times likely\", \"mr campbell\", \"nominations announced\", \"collins said\", \"alastair campbell\", \"unemployment rate\", \"new jobs\", \"mr blair\", \"liberal democrats\", \"prime minister\", \"mr howard\", \"michael howard\", \"howard said\", \"general election\", \"human rights\", \"personal data\", \"ibm said\", \"lib dems\", \"tony blair\", \"asylum seekers\", \"mr prescott\", \"lowest level\", \"last year\", \"told bbc\", \"interest rate\", \"said would\", \"said people\", \"mr kennedy\", \"downing street\", \"three years\", \"say sorry\", \"labour party\", \"said mr\", \"bn euros\", \"mr brown\", \"bbc radio\", \"day lewis\", \"uk house\", \"title last\", \"said prices\", \"office deputy\", \"blu ray\", \"official data\", \"us added\", \"dvd format\", \"use search\", \"former prime\", \"spending bn\", \"would seem\", \"touching void\", \"kevin mcdonald\", \"personality year\", \"votes cast\", \"title sheffield\", \"voters register\", \"tour australia\", \"deal said\", \"hd dvd\", \"cinema award\", \"rise since\", \"technology next\", \"generation dvd\", \"toshiba hd\", \"definition images\", \"part bbc\", \"deal help\", \"generation dvds\", \"nearly decade\", \"house price\", \"mr fox\", \"wal mart\", \"mr doherty\", \"kelly holmes\", \"double olympic\", \"next generation\", \"olympic champion\", \"dance music\", \"year old\", \"film festival\", \"george michael\", \"desktop search\", \"search engines\", \"subscription service\", \"used help\", \"high definition\", \"mr macklin\", \"search sites\", \"years ago\", \"open source\", \"new york\", \"ask jeeves\", \"told bbc\", \"world cup\", \"can not\", \"prime minister\", \"said mr\", \"three years\", \"tv mobile\", \"halifax said\", \"bank china\", \"construction bank\", \"new tool\", \"tv appearance\", \"better analysts\", \"corporate networks\", \"connect corporate\", \"wait get\", \"year nominees\", \"prices fell\", \"baroness morgan\", \"security threat\", \"producer prices\", \"china construction\", \"sharp rise\", \"part new\", \"oxford university\", \"traditionally quiet\", \"change things\", \"bbc pundit\", \"like good\", \"gold world\", \"years main\", \"hotel accommodation\", \"low tax\", \"november fall\", \"birmingham february\", \"growth december\", \"blair lib\", \"lord goldsmith\", \"number different\", \"parliamentary answer\", \"war ii\", \"statement lord\", \"showed exports\", \"china economy\", \"get know\", \"relief africa\", \"military action\", \"attorney general\", \"goldsmith said\", \"house prices\", \"lord falconer\", \"better job\", \"housing market\", \"said lord\", \"search engine\", \"van persie\", \"nine years\", \"previous year\", \"time time\", \"last year\", \"us economy\", \"interest rates\", \"ask jeeves\", \"men women\", \"said mr\", \"first time\", \"new york\", \"told bbc\", \"prime minister\", \"box office\", \"tony blair\", \"last month\", \"dollar slide\", \"see get\", \"could indicate\", \"range bluetooth\", \"music store\", \"portable hard\", \"remain popular\", \"market analyst\", \"opportunity thank\", \"warning windows\", \"different films\", \"plan take\", \"help staff\", \"firms warning\", \"users must\", \"mail security\", \"finnish security\", \"virus firms\", \"software movement\", \"face tough\", \"meeting g\", \"said mps\", \"subject line\", \"f secure\", \"pop band\", \"however recent\", \"sophos said\", \"web logs\", \"band busted\", \"take break\", \"retirement age\", \"firm sophos\", \"range radio\", \"every type\", \"sensitive information\", \"anti virus\", \"virus firm\", \"security firm\", \"e mail\", \"lg electronics\", \"ms jowell\", \"would fund\", \"kilroy silk\", \"new machines\", \"mr kilroy\", \"mobile tv\", \"deutsche boerse\", \"take part\", \"said mr\", \"civil service\", \"hansard society\", \"civil servants\", \"source software\", \"oil company\", \"short range\", \"oil prices\", \"open source\", \"bn bn\", \"general election\", \"last week\", \"last year\", \"said would\", \"bn euros\", \"mr brown\", \"new york\", \"prime minister\", \"owns stake\", \"china one\", \"abc network\", \"sal oppenheim\", \"hard time\", \"lost last\", \"people handing\", \"league games\", \"leader eurosceptic\", \"jailed life\", \"popular music\", \"deliver better\", \"bn november\", \"information come\", \"better leader\", \"dollar trading\", \"anywhere else\", \"black players\", \"england black\", \"mr hockney\", \"parents year\", \"suite programs\", \"racist chanting\", \"questions racism\", \"admitted side\", \"routine drugs\", \"search giant\", \"google launched\", \"massachusetts institute\", \"called bot\", \"deputy chairman\", \"p p\", \"criminally insane\", \"benitez said\", \"disappeared said\", \"test versions\", \"option buy\", \"eurosceptic party\", \"spider man\", \"mr houston\", \"comments made\", \"nets used\", \"mortgage lending\", \"bot nets\", \"playing games\", \"us policy\", \"kilroy silk\", \"see going\", \"video games\", \"mr kilroy\", \"said mr\", \"last month\", \"said company\", \"robert kilroy\", \"bbc news\", \"firm said\", \"told bbc\", \"could lose\", \"legal action\", \"new zealand\", \"make money\", \"south korea\", \"mail messages\", \"track field\", \"news website\", \"can not\", \"last year\", \"champions league\", \"year old\", \"gm said\", \"times monday\", \"reconstruction efforts\", \"record level\", \"jowell said\", \"consumer goods\", \"elections mr\", \"gold medals\", \"usa track\", \"imports rose\", \"marion jones\", \"bank told\", \"television programme\", \"post christmas\", \"indoor outdoor\", \"market seen\", \"us anti\", \"soft drinks\", \"also failed\", \"new network\", \"said fiat\", \"return growth\", \"giant unilever\", \"come across\", \"bank america\", \"operating loss\", \"first wta\", \"systems said\", \"finished version\", \"said australian\", \"trade gap\", \"field take\", \"blair brown\", \"doping agency\", \"anti doping\", \"high fuel\", \"per share\", \"enhancing drugs\", \"performance enhancing\", \"us retail\", \"sales rose\", \"fuel prices\", \"chief executive\", \"fourth quarter\", \"retail sales\", \"world biggest\", \"bn bn\", \"mr brown\", \"financial services\", \"rose bn\", \"secretary tessa\", \"file sharing\", \"year earlier\", \"identity theft\", \"last year\", \"prime minister\", \"told bbc\", \"said would\", \"high definition\", \"said mr\", \"labour party\", \"bn euros\", \"come go\", \"taken legal\", \"awards sunday\", \"channel five\", \"france russia\", \"grew bn\", \"header wide\", \"strictly come\", \"come dancing\", \"victory italy\", \"mr jackson\", \"gara penalty\", \"converted try\", \"rate three\", \"ireland captain\", \"prison convicted\", \"even day\", \"standard life\", \"set tries\", \"chart debut\", \"murphy peter\", \"helped return\", \"failed live\", \"four last\", \"tries geordan\", \"connell ireland\", \"nations economic\", \"get behind\", \"first elected\", \"second series\", \"scotland murrayfield\", \"km h\", \"brian driscoll\", \"cup winner\", \"six minutes\", \"gordon arcy\", \"late goal\", \"de marigny\", \"store sales\", \"uk athletics\", \"mike tindall\", \"subs used\", \"new zealand\", \"sir clive\", \"little britain\", \"first half\", \"six nations\", \"world cup\", \"grand slam\", \"deutsche boerse\", \"prime minister\", \"vera drake\", \"clive woodward\", \"bn bn\", \"us tv\", \"year old\", \"fly half\", \"second half\", \"fourth quarter\", \"last year\", \"knee injury\", \"champions league\", \"tony blair\", \"economic growth\", \"place january\", \"also looked\", \"fender stratocaster\", \"decision retire\", \"engineering firm\", \"bbc leads\", \"enduring love\", \"remaining members\", \"two banks\", \"social environmental\", \"played games\", \"music hall\", \"make mark\", \"elena bovina\", \"income bn\", \"alfa romeo\", \"tv film\", \"grant dean\", \"farina elia\", \"longer able\", \"called denial\", \"legal challenges\", \"tackle corruption\", \"scarlett johansson\", \"made films\", \"handed first\", \"would spend\", \"round bye\", \"film wasp\", \"financial products\", \"phones also\", \"service attacks\", \"hide seek\", \"phishing attacks\", \"left back\", \"awards including\", \"month ban\", \"nominations year\", \"oscar nominee\", \"davis cup\", \"denial service\", \"paid tribute\", \"e mails\", \"work closely\", \"short film\", \"number four\", \"amount spam\", \"wells fargo\", \"interactive tv\", \"box office\", \"mr johnson\", \"e mail\", \"great britain\", \"higher education\", \"bn euros\", \"year old\", \"euros bn\", \"lib dems\", \"two years\", \"world cup\", \"last week\", \"six nations\", \"said mr\", \"last month\", \"last year\", \"told bbc\"], \"Freq\": [136.0, 379.0, 211.0, 172.0, 67.0, 101.0, 125.0, 63.0, 44.0, 69.0, 86.0, 84.0, 49.0, 181.0, 49.0, 221.0, 74.0, 36.0, 71.0, 67.0, 98.0, 76.0, 90.0, 53.0, 57.0, 39.0, 114.0, 239.0, 35.0, 30.0, 15.587394943808215, 15.640326774481062, 15.564016596507857, 15.54224063475409, 15.28131091929344, 14.8991062561244, 10.830837061344413, 10.544357079431105, 10.510204291715452, 10.562399940685749, 10.458763137425379, 10.560384597492577, 10.468446124371223, 10.488463124619269, 10.370465284265885, 10.309177241879771, 10.442712728141812, 10.405532805216422, 15.670372876953019, 15.875813354408459, 16.310090969597372, 10.264578731698094, 10.557655963818949, 15.21446305688509, 10.552337875102026, 10.246949743738915, 10.736343012188462, 10.392654203666229, 15.794329760241965, 10.351043455792286, 15.284709807949985, 57.12436349329243, 28.572645782089914, 12.553014204454703, 30.995234804105106, 18.960337773583746, 14.016276975297513, 188.19869177103593, 38.24589205510859, 22.08379375199907, 20.496642771533597, 20.3026057852766, 55.17634613124524, 18.112316885073295, 99.59006005520015, 16.56105567825598, 27.725987379118507, 42.166718888379876, 71.56230410475608, 44.61464757760446, 37.2432894907427, 92.34862521975398, 32.394924988596806, 27.569607368855344, 32.42010899549595, 66.10059036652056, 71.67269473418311, 37.994396270097404, 19.646473770741824, 28.47581041873817, 26.501504777238004, 27.668471810133518, 23.622554520255186, 25.407284216860074, 27.264829975297705, 31.327333329056607, 23.443858315396835, 33.36462645727116, 23.16303612793633, 22.740075932950784, 15.284441180915142, 14.864381603998208, 14.56397306121747, 14.753069415499763, 15.07432344369409, 14.757525486137435, 14.612908404192437, 15.129167640570182, 13.623379775193047, 13.783349616592, 8.034871098382768, 13.819563333927036, 8.010294305282445, 7.970839513178051, 14.797610577707028, 7.882442049035139, 14.016576705522827, 14.217013564136304, 7.764060571573675, 7.752531954611407, 7.75273472536959, 7.788079541503895, 7.6854522933107825, 7.6859490409513125, 8.036795384734527, 14.176076672514263, 7.648781731014539, 7.710939518971945, 7.6436090408298725, 7.715424905863813, 13.338814224783638, 13.296893609965268, 25.45581329479249, 8.57501656720646, 29.349544430534994, 13.572909400574801, 14.170329058011212, 23.928793132314468, 24.768146806177686, 13.700376473815597, 12.815725929859196, 20.773455377029226, 127.54519780086584, 18.661807216028638, 17.99139334300772, 11.621836135886142, 56.57978427168209, 51.24316410827867, 26.096529802313658, 29.07144067115445, 24.97192246040784, 21.825407268954567, 34.73975470660726, 18.03063966397117, 21.434134624976547, 71.44948351845514, 17.73136468301931, 17.413128600326303, 23.78684057213966, 39.86854542929763, 20.31424882867695, 47.442142369066964, 19.948277740750186, 16.8759766467921, 16.665355647207363, 39.603008570882096, 21.747911379670303, 23.233045129626518, 21.56860991165079, 29.516855550588666, 29.266116885818565, 23.29430307144821, 19.867154779349658, 20.315388905228982, 20.974279861670396, 20.25103751249375, 13.175441055713236, 13.814925072674516, 19.622448144007095, 13.340156262851785, 13.325198238212565, 13.377874425167201, 13.82547815753364, 13.247286346656768, 13.09145794782064, 13.598610680972552, 13.628754439327993, 12.74396235700565, 13.780050196671922, 13.754388306838807, 13.778563933372038, 7.369011911095168, 7.350605940229195, 7.329953650090103, 7.337410353074466, 12.76338071011937, 7.309852169745379, 7.3011823004960466, 7.550169867597977, 7.290562287631182, 7.256784415492791, 7.248147625602618, 13.101170970814612, 13.014406119602976, 7.439027836548468, 13.308376999436533, 12.398859250074013, 13.857615908887684, 12.610167888519065, 12.382265720374981, 17.004086087715084, 37.39821259933166, 10.724172073982107, 11.895622189901614, 22.117142631439695, 17.862924720271263, 13.922693009089812, 106.51137618541182, 33.55163086179144, 78.39660417484053, 36.250294216372914, 41.28471112264023, 30.256560508747853, 40.391916143263686, 31.775727770259973, 19.00042079723267, 20.245038609174646, 30.596243985789375, 39.64716283543475, 17.950075753768893, 18.83413316660294, 17.023453667858934, 40.606750425965146, 38.27780660654151, 20.159278447336533, 29.18115208106551, 19.705523492741378, 23.79226137777551, 21.770203235431026, 24.089217092807594, 15.288412047050405, 21.128054406838896, 28.203643170745185, 20.93266771017321, 21.586658949344237, 18.67095961145868, 23.389805763012934, 22.769746666390994, 17.00710159262127, 21.81641031263053, 22.811731949034797, 63.626276103171016, 11.642950441823205, 11.341860245154095, 28.558819399389694, 21.555743815818808, 11.051703257420952, 10.581556108294711, 11.055561786524107, 11.070381207167172, 11.067267269128992, 11.172410767569287, 11.305566931766771, 11.250302516955596, 11.526684215081499, 11.068884217123287, 10.763674281139476, 29.167530048016552, 11.574793031679112, 16.459536847427508, 11.655626235186737, 11.630849594849215, 11.61118004003362, 15.432109068934583, 6.131577524784212, 6.08979666752336, 11.53196946300315, 10.747094530809909, 22.396490050678857, 21.149263816515365, 53.588626377487714, 17.082822741934464, 33.06256327823641, 29.179057368221716, 45.0773045773836, 23.695499789660534, 23.523772530638638, 75.75390280232732, 21.680555449453983, 14.67383711912861, 18.103752916415196, 21.657323356454295, 16.785953077650817, 16.47858105931818, 41.630689781627396, 13.68080958979966, 15.745412262614161, 28.637364174304867, 21.44752612872035, 32.03123438201888, 20.875698645887866, 24.975568949063735, 21.231330670424256, 19.279876027451134, 20.708654715604492, 20.441577211644187, 18.63198810595459, 22.534355934194615, 29.43007250803209, 35.061180246289894, 23.607940121709678, 12.093521452892036, 11.357449103594883, 11.817991957428465, 11.75207837301936, 11.608287593436767, 11.393040178711848, 11.607450098562815, 18.114049565381748, 12.045414287156708, 16.039727098214446, 11.606968521460105, 22.628687481715613, 12.127088640564235, 9.634574726311637, 12.096724010825795, 6.536752090310993, 6.515539531546336, 6.484351447082709, 6.755508138212791, 6.4683119811312615, 6.469840251324552, 6.472557020110972, 6.45472673318429, 6.430267390017259, 11.964879993829063, 6.4360273610489305, 10.33774398697327, 42.843224735506894, 11.820809815286006, 17.935159817896476, 11.863467999284854, 11.587501855194628, 10.864254479788713, 11.403339329839898, 11.009560191423265, 10.213632581909977, 28.693686361409995, 32.75445119658205, 16.046567458693737, 41.51000309691765, 18.406180132747448, 17.562229598391433, 24.989501992503783, 16.07505772857178, 31.252666339925682, 17.110045547126298, 16.77256249121336, 21.716140992528555, 14.97762073231642, 51.07756138513453, 24.450096325053266, 20.918399395794566, 20.845241796629114, 16.321825979286107, 38.83606238029758, 22.305880593308846, 25.302574845770373, 23.28111775075554, 23.393955618366352, 17.94259267265374, 17.347368989765044, 16.581106810581602, 20.907548894732038, 19.542004515405345, 15.804545456886974, 16.216912231498135, 11.07792827618672, 11.058013716485682, 10.821804087063152, 10.71115341017606, 10.213662950493939, 10.783408416805322, 10.707210413658872, 10.763301022459293, 10.688491293907386, 11.003747620095574, 10.997111006771586, 10.974331571523093, 10.975280911313824, 11.40533048802139, 10.875757332840404, 10.402729228944894, 10.699118775286305, 10.35120664364036, 11.258488254353672, 16.704152788127196, 11.020876191149378, 10.570476491172018, 11.169395951379126, 11.57425363703476, 11.143979536072711, 11.07405607560563, 20.706151312706726, 16.280689256217837, 18.29853660280505, 14.459693718311392, 26.058657159785604, 37.49943955561714, 15.678884693052954, 26.809978694508708, 80.73426691115677, 14.47889627316938, 17.5655262683921, 14.256533654600728, 54.5515186345775, 24.625426471572542, 39.56531621374768, 29.119444615591295, 31.91921487171849, 26.17512389138495, 84.27238079554967, 17.159489324715167, 14.085251989544757, 15.028348252959846, 18.24798021346651, 15.16578002110253, 17.25387446672185, 19.096506591194053, 19.050880295996016, 25.595854011803763, 20.946122566200632, 19.690367176081658, 22.156843649996755, 19.64784106863773, 18.52421651666518, 18.475744899082994, 17.33212487776815, 17.76608643563042, 16.68842926688535, 11.398969693550383, 11.39974733391839, 11.350876004523009, 11.265758061564984, 10.714366953949796, 11.227675726881643, 11.46761390701166, 11.373967637246073, 11.265102884247057, 11.314194647132581, 11.274377011029607, 10.66965936825713, 10.540867427749117, 11.126850673120371, 11.214910178541315, 10.92757757339988, 6.425187410613088, 6.410582467260561, 22.681726851096954, 10.80385315390417, 8.623764099436285, 6.139042697057428, 6.136059497157482, 6.123178221234829, 6.0642685956244, 6.098650096934328, 6.096490461046169, 6.288303724071045, 11.026342798658806, 9.776986395733564, 112.25935037087807, 11.310316242336551, 15.824656961865388, 10.359740902789463, 10.139775221496972, 10.865144685838652, 11.507091095835413, 37.48637069938946, 17.151294284858793, 11.914648126501275, 14.896500932896425, 18.602376110082375, 25.351389502445453, 17.945277346899232, 13.632627147699463, 44.15479728164747, 18.748317776123578, 27.50863736112769, 28.194832120379317, 47.10639191762888, 22.438108656312036, 13.490988833238067, 15.444120178569152, 21.706847494631013, 14.663478241204416, 24.075121231949907, 12.655962279963354, 16.200720169942205, 18.07180494561127, 12.869550085607685, 15.366625560478601, 14.61358434534087, 12.824192221119096, 15.850851808277476, 16.286335312883555, 18.21559738512357, 14.891520360649675, 16.450899934950403, 21.369962707343124, 10.626604381977991, 15.665586429332945, 10.479105339018274, 15.033350445222924, 10.434255139709117, 9.796970053431842, 10.391104614049704, 10.389664274559985, 10.600504164191786, 21.249273702898694, 15.09592059460254, 10.81272229921865, 15.239776784009225, 10.077489866281134, 9.98293456173277, 15.997367352381595, 5.719084055724288, 5.647857259031154, 10.793020208244338, 10.605217227729147, 5.705876885297649, 5.6980676397464665, 10.102213664969176, 15.959778509553146, 5.677540062572636, 5.876470061343559, 5.620338008552418, 5.584350828106659, 5.6589489688801216, 10.945054555176327, 9.761360307679078, 14.506133838141722, 16.492389997681634, 21.89496949517341, 19.406699625794182, 19.179406018610358, 16.034012608477557, 15.944942891055927, 21.879859932140953, 18.518424121269366, 14.917760461727724, 46.1207370181524, 25.432289872980434, 18.885959067526006, 22.11822576867346, 37.35947941811043, 40.154147118668796, 13.417508693387816, 17.886932048763924, 13.771224659755784, 16.60796780586416, 16.378564216993368, 14.65333702100338, 29.7997766404976, 24.059136193678256, 21.777964740345112, 18.081914811164886, 18.216391139685022, 18.625520606640922, 16.352645411366055, 15.816470209216936, 13.782249032830064, 20.862310252367937, 13.931347713636667, 13.773781974521018, 13.260736176673268, 13.689675057322251, 13.862263035598898, 21.014695576050595, 20.96835668758289, 14.315184873995674, 41.346112219991184, 14.532644036833569, 14.14271397407341, 13.225097284201246, 14.191061299465739, 7.500403290093315, 7.483959212772936, 26.989281247649767, 7.391219275680305, 7.385735301421266, 7.3858934175493465, 7.3284375168855656, 13.489316576183942, 7.374551904591263, 7.35628164634122, 7.320325314619692, 7.318050132166013, 7.314210686338346, 12.695089608888486, 7.880154174485784, 12.76897570644919, 13.313729219447142, 26.924707103739003, 18.89570047508882, 13.166367402062738, 13.712569307073643, 11.922093654516214, 15.484947301429239, 12.470127775423503, 17.028741275294127, 13.241892596584766, 21.75484562054915, 40.24876697921852, 16.757678331050233, 16.604334654652337, 29.29572241495439, 40.30761997467813, 35.78956145117016, 29.359842729367763, 22.43572022191766, 38.77042221943889, 19.042771407077286, 18.148180529231023, 25.14882641469875, 17.332954291734456, 25.224526623255677, 16.131772620559936, 17.007341283302765, 16.895545938789738, 20.41115545222696, 15.199361813268814, 16.199932741696102, 17.265424221123922, 15.716144462509979, 21.41823121869321, 20.24009711779907, 14.904721498609584, 14.496773301712974, 14.483202375634777, 14.360947678408772, 14.290876283200236, 7.840725956474327, 7.6990810316792935, 13.783774288189075, 7.685340851023298, 7.9528841479830525, 7.685541840834434, 7.9533490103824915, 7.6443877077806555, 26.86556051344325, 13.778308775781003, 7.650757086649333, 8.188673405541406, 7.584285289666543, 7.638185232731751, 7.529423298879613, 7.480304209947703, 7.5838680301171095, 7.49013978152421, 7.4791200155926205, 7.459884350363733, 7.461123199842897, 7.517664807238674, 7.528752157463481, 12.605453302031947, 19.724491255632554, 19.953636095633307, 28.165769478574486, 14.50103169987522, 14.492263372442054, 12.649933170001564, 12.205370741486911, 17.89179798571546, 62.95812836588711, 18.912155084868157, 17.691835455836777, 39.97603656501327, 12.610744858346171, 12.291294473436885, 13.394767324078723, 12.442678588729402, 14.856180696151819, 11.959851696463174, 40.51230088870329, 19.19644283123983, 44.47971281958661, 18.385363140639786, 18.817866180486302, 24.963167268085567, 34.65914848231122, 18.3480765922266, 22.025396755174587, 19.660109870223476, 18.672315471232768, 18.44648049853118, 18.30668326954378, 19.963556294498712, 17.22097039578065, 19.113679693454436, 17.935582029309682], \"Total\": [136.0, 379.0, 211.0, 172.0, 67.0, 101.0, 125.0, 63.0, 44.0, 69.0, 86.0, 84.0, 49.0, 181.0, 49.0, 221.0, 74.0, 36.0, 71.0, 67.0, 98.0, 76.0, 90.0, 53.0, 57.0, 39.0, 114.0, 239.0, 35.0, 30.0, 16.384909843704143, 16.485542324882847, 16.44477288322145, 16.50825595060148, 16.243475884216572, 15.917607014735644, 11.625424656203538, 11.339342349142628, 11.30608118922916, 11.366425296876685, 11.255834684999185, 11.37800071257281, 11.285125806799181, 11.397690397452367, 11.29438454283196, 11.231644702587973, 11.377158473392269, 11.35183814659139, 17.144409570705392, 17.4467754398704, 17.97003628759843, 11.33266172796423, 11.668463941286095, 16.849292760920157, 11.704809983309794, 11.382399012136515, 11.958695312956573, 11.603000591769371, 17.713059085806794, 11.634649902746723, 17.32402200656837, 69.02697734332246, 34.08418257374337, 14.178109693178154, 38.47269625442909, 22.4292402413779, 16.26784422834728, 379.85286215103497, 56.06996929263365, 28.524499453869648, 26.156973166064414, 26.339522679110136, 99.3725901328781, 23.033487389891405, 221.96534068475265, 20.92160379517019, 44.537857301081324, 83.52888469737715, 181.68184168520938, 91.08270897910555, 76.2236887108459, 355.7457250830163, 64.96334757734796, 50.139830753954826, 67.74020884593219, 315.27256304653525, 381.72528253708936, 123.18773949432646, 28.660660651394796, 78.60353429014788, 73.87048393293595, 85.4162269575784, 54.4790910974978, 68.51988862296432, 86.41957449913193, 136.33807025034963, 53.71627071113103, 274.90451712196773, 113.45572342097326, 129.61793356925963, 16.05690518265104, 15.629328016915064, 15.376370441184573, 15.585520686452135, 15.950064264392273, 15.627682471409353, 15.486128258976063, 16.05300582422908, 14.843958641745687, 15.067527188354436, 8.809390002977624, 15.152703870058364, 8.806467295977798, 8.778329136195678, 16.455152874325425, 8.768309205512178, 15.61202883996397, 15.86589505084635, 8.686303613155665, 8.703614844734549, 8.706848920311216, 8.769405556007008, 8.67453668287855, 8.689410446404809, 9.09224952497041, 16.03850759683737, 8.653788877326809, 8.731879790689664, 8.67546230771336, 8.757674277385588, 15.151175515235254, 15.169657181019899, 29.534888607649417, 9.74131606749848, 35.4240693825691, 15.799571391348955, 16.660689245679308, 29.365002629355686, 30.748448421631323, 16.182540698229253, 15.088202978278906, 25.86217852755727, 211.93820035579137, 23.55908452098346, 22.964660390221795, 13.668134979063304, 90.78993945103981, 86.41957449913193, 37.06762967526877, 42.98129637871881, 35.63003819096397, 30.70439963541778, 66.10807252957667, 24.257605816679696, 32.785021057174326, 274.90451712196773, 23.88937518793405, 23.71413380047254, 44.01618726510896, 158.49818041502357, 35.200603985911684, 355.7457250830163, 35.76780864599466, 22.672226955635043, 22.02982639851026, 381.72528253708936, 52.82937967615572, 85.59266411151224, 68.92582744639755, 315.27256304653525, 379.85286215103497, 114.65049046337299, 57.99642670821996, 74.47977634523421, 221.96534068475265, 21.03338696068144, 13.954845983835236, 14.640313774241212, 20.832221127463384, 14.175494146060993, 14.190309550762906, 14.255756765459418, 14.749980267805778, 14.159185632751804, 14.108459232531246, 14.682520732939606, 14.71973487087327, 13.899505155110422, 15.037021902833672, 15.03664176197683, 15.118326846889731, 8.14122727107237, 8.1231070281587, 8.109838442921761, 8.121218235826214, 14.14422965402169, 8.102160596466915, 8.129534600381955, 8.431372185943033, 8.1490361675602, 8.124715441903225, 8.116663043051856, 14.692016818814379, 14.632553241571946, 8.390453705986195, 15.094218450427306, 14.225166953109392, 16.190851292564137, 14.780048710126497, 14.6233081645677, 21.414398700325055, 53.87808342594993, 12.62999723041307, 14.325662154402016, 31.050911406005774, 24.16805030796975, 17.89145479741672, 379.85286215103497, 69.45198297930295, 355.7457250830163, 95.39268224009558, 123.18773949432646, 71.33712689965364, 136.33807025034963, 85.59266411151224, 33.14702657286348, 39.08607868008878, 113.45572342097326, 221.96534068475265, 31.198314004704088, 35.63890882757496, 27.798197381974276, 315.27256304653525, 274.90451712196773, 45.971260578334736, 138.59187465921303, 46.80967532894381, 91.08270897910555, 68.79507583836991, 100.96601753938475, 21.76437568222518, 85.4162269575784, 381.72528253708936, 94.36504971500896, 181.68184168520938, 58.71897168047798, 24.488807998164607, 23.952756982125045, 17.96562757575448, 23.05923394927027, 24.171020690845044, 67.80850435080818, 12.433510362011766, 12.133906195432813, 30.594885446468236, 23.1396608852105, 11.871393366532827, 11.38305246755158, 11.915024348703335, 11.945110521730516, 11.943158999776388, 12.103666117008183, 12.263248526915497, 12.207663743960483, 12.520614904726733, 12.067808220494419, 11.735579154819767, 31.909661552066403, 12.862997319632557, 18.293946768200875, 13.061344080598815, 13.067689887048267, 13.070237506831965, 17.377884416950497, 6.943441761444003, 6.897071679364223, 13.073079545807465, 12.191090998724333, 25.746619795291508, 24.315663411817912, 63.75028197913619, 19.72489196916924, 43.45462765245428, 41.39094507498923, 76.15706152085772, 36.87340086354528, 36.576176817091046, 239.20665480851858, 33.943101686264264, 19.18968840863469, 28.482570980921615, 39.896100984951815, 25.310684546423445, 24.998218931111914, 211.93820035579137, 18.245209673582266, 24.944776261018994, 103.95840806349038, 52.89484521108481, 147.88968449876896, 59.33674984403143, 274.90451712196773, 119.02167782964803, 129.61793356925963, 355.7457250830163, 381.72528253708936, 100.96601753938475, 23.523651811062933, 30.840049571355035, 36.86271124025999, 25.0668966226458, 12.877673999929902, 12.194191316791605, 12.69774226928581, 12.62953042769652, 12.558506647247226, 12.354211081702008, 12.626218693566985, 19.714824795628495, 13.229081374420172, 17.63113062389909, 12.790767799089952, 24.99186442669122, 13.4279252386653, 10.672713971305265, 13.458882094901467, 7.322338250648925, 7.2988549622713785, 7.284873375007837, 7.600473303391913, 7.2841034583450535, 7.292529422028277, 7.29705951426604, 7.279739471471816, 7.278005150990906, 13.562035148762975, 7.312960658200235, 11.790033987517942, 49.913618004928516, 13.631787009736177, 21.08873256054515, 13.757399733314418, 13.440279633687144, 12.583778358018577, 13.357402667762644, 12.880264222255327, 11.924760476516147, 38.44571437293701, 46.23074817506937, 19.979464891262104, 71.75148325131791, 25.509180238379873, 24.598471792266864, 45.15828180011631, 22.61610419324107, 74.47977634523421, 27.009693881106955, 27.559686501772816, 47.89380624275578, 21.857330761131873, 315.27256304653525, 78.41120207913465, 56.73114372931988, 59.33674984403143, 30.71844707459474, 381.72528253708936, 89.4877675977643, 147.88968449876896, 274.90451712196773, 355.7457250830163, 114.65049046337299, 221.96534068475265, 94.22424921259422, 21.84864344964423, 20.42657026501771, 16.713871131662327, 17.171547100070807, 11.873278177339246, 11.853951776626435, 11.614365942568918, 11.551141780879515, 11.015883771669522, 11.634214364942196, 11.552735055278037, 11.613693816954143, 11.54062414813633, 11.928627672749586, 11.930491848758294, 11.92326465008085, 11.926316109904452, 12.431756167007844, 11.870653638258947, 11.445391047442584, 11.848643001855306, 11.46480451258591, 12.47579544620683, 18.514127676511993, 12.232406881607709, 11.739152463645711, 12.503083587403722, 12.965065756526016, 12.489342273286766, 12.44998216014657, 23.486500213208583, 19.47752954492105, 22.364407145037415, 16.964437051999624, 34.249549593261136, 57.80139449119912, 19.276342012042182, 39.23888569757012, 172.55699255739995, 17.740667156157645, 23.29278985193738, 17.389737099391052, 125.04203897477518, 39.61438045076835, 84.27472127124207, 55.27798734191424, 67.91490174423015, 49.48508221639143, 381.72528253708936, 27.757199568815807, 19.155013144640016, 23.16338484146933, 36.696578684350605, 24.917281089720806, 34.37211758940106, 49.88997915620435, 52.89484521108481, 154.94845897453357, 136.33807025034963, 132.01626545901388, 315.27256304653525, 138.59187465921303, 94.36504971500896, 181.68184168520938, 147.88968449876896, 355.7457250830163, 17.50395219153553, 12.189080913976412, 12.190079344499368, 12.141570450801074, 12.107308070884503, 11.515421254727025, 12.218476326460488, 12.595315008260902, 12.589561945529205, 12.508849062881477, 12.579354170111204, 12.536462767053148, 11.875867758124304, 11.760069516852313, 12.502112093969448, 12.607304098504512, 12.293585297959286, 7.273932268738134, 7.271930782303251, 25.831951527364556, 12.320924057309012, 9.839374565238934, 7.007898573350353, 7.0078729128728225, 7.002672006860739, 6.950324134824643, 6.991599920651624, 6.991057944680899, 7.257515969203735, 12.757323973354978, 11.315620559458532, 136.68534071476293, 13.142399155384316, 18.597564084311184, 12.050898768499973, 11.833895063940929, 12.82257531962654, 13.70247984012395, 49.77545316596433, 21.392162015583374, 14.411699240469412, 19.13855308081481, 25.874436826879617, 39.739103390292044, 26.193135119601155, 17.58151927455921, 125.04203897477518, 30.433164756440217, 62.81662050552111, 84.27472127124207, 381.72528253708936, 94.22424921259422, 21.748401587423793, 33.71169635924177, 158.49818041502357, 34.905443261079256, 274.90451712196773, 19.99161923096883, 56.26735024144655, 98.4250772879281, 21.549600683896493, 51.308465925029275, 41.60979191618106, 23.30383130744869, 105.67681285503716, 129.61793356925963, 315.27256304653525, 70.12049338399017, 239.20665480851858, 22.7052035647265, 11.43716299730456, 16.896144638801243, 11.32725814508457, 16.265511392410644, 11.37940895528086, 10.694996484587122, 11.41253931819698, 11.41628898231301, 11.665244774921574, 23.63238500475358, 16.789788762138294, 12.052238397051632, 17.038005417443298, 11.362584722749453, 11.26218664239968, 18.072917230205604, 6.513349661308996, 6.442795492483159, 12.321880426454449, 12.121926214538055, 6.528566514731873, 6.528530764234372, 11.612342014028005, 18.35692837226963, 6.531652483792384, 6.791147805915417, 6.497149663183289, 6.462976731316693, 6.554620597578132, 12.705917551637343, 11.333903749852942, 16.961113229205765, 19.778694811290837, 26.58867688033749, 23.629163178663443, 23.589082732990477, 19.584856227308094, 19.61836771080114, 28.308497221502975, 24.556040356084704, 18.889632524954283, 144.17874972110027, 57.668823644525055, 34.12086782255689, 47.81476134053292, 154.94845897453357, 181.68184168520938, 19.354779804053738, 38.614694603252104, 23.056824665410563, 37.956744468690374, 36.742006445972564, 28.59438515763675, 315.27256304653525, 355.7457250830163, 274.90451712196773, 138.59187465921303, 211.93820035579137, 381.72528253708936, 85.4162269575784, 94.36504971500896, 14.555573195219019, 22.036196684739195, 14.718255930508374, 14.551887547170901, 14.040108503964639, 14.537472129148648, 14.741109886252428, 22.42449112702957, 22.411034803487954, 15.441697004309693, 44.8029476593413, 15.76052008086616, 15.380725485452471, 14.486765052108376, 15.63275737313254, 8.270988435735827, 8.300510635254167, 29.983076937119865, 8.304723246978327, 8.303020765431867, 8.306839587471275, 8.250347488987089, 15.193592046535297, 8.310992849121927, 8.302899094806031, 8.270730223548997, 8.271826560676386, 8.273013547800472, 14.372831802591955, 8.925413854642656, 14.782602397604334, 15.492895880953391, 33.09641448988442, 22.711232689246263, 15.610455534802176, 16.512790966919997, 14.4837945840116, 19.796384492009164, 15.42126997949699, 22.416826081898122, 17.00347651022671, 33.85024967896154, 98.4250772879281, 24.837496161909073, 25.006855071384027, 67.5516754664379, 130.0835991187887, 119.02167782964803, 82.70397859082304, 67.91490174423015, 355.7457250830163, 43.56049466385925, 38.703562273148, 154.94845897453357, 36.61328855977283, 239.20665480851858, 37.78009682251432, 54.90106813221351, 57.668823644525055, 315.27256304653525, 29.972930544682878, 70.12049338399017, 221.96534068475265, 62.53087390547309, 22.188132979651364, 21.204036603038986, 15.671271518986256, 15.275236986689105, 15.318588932265035, 15.200827661110225, 15.403861794988815, 8.606853241668476, 8.494112899881381, 15.299148044274817, 8.530880817853403, 8.874388062451528, 8.585827676878148, 8.887720318394859, 8.546045985955287, 30.0348927941993, 15.406625092557737, 8.57588322828283, 9.215588700554095, 8.538837906009922, 8.607995905971668, 8.507494499587729, 8.455108814960154, 8.589583314947998, 8.497308273116447, 8.5027762510193, 8.483292215316393, 8.497959621750853, 8.565201278887201, 8.587427627168836, 14.584074344234066, 23.395952350589866, 23.7945580525858, 35.03197067516927, 17.238893275716347, 17.251788974947782, 15.182905800197954, 14.747150254980326, 23.029124068541638, 101.50736146497121, 25.021451093459756, 24.213968931519602, 74.93481025547294, 16.481538077266148, 16.08566557304111, 18.104722339287793, 16.467191870595762, 21.834298657263183, 16.07693323584086, 114.65049046337299, 35.03996086383228, 172.55699255739995, 37.23585811285879, 39.96496127730953, 94.36504971500896, 239.20665480851858, 50.12314623005467, 113.45572342097326, 76.84622341900088, 119.02167782964803, 132.01626545901388, 130.0835991187887, 381.72528253708936, 94.22424921259422, 315.27256304653525, 274.90451712196773], \"Category\": [\"Default\", \"Default\", \"Default\", \"Default\", \"Default\", \"Default\", \"Default\", \"Default\", \"Default\", \"Default\", \"Default\", \"Default\", \"Default\", \"Default\", \"Default\", \"Default\", \"Default\", \"Default\", \"Default\", \"Default\", \"Default\", \"Default\", \"Default\", \"Default\", \"Default\", \"Default\", \"Default\", \"Default\", \"Default\", \"Default\", \"Topic1\", \"Topic1\", \"Topic1\", \"Topic1\", \"Topic1\", \"Topic1\", \"Topic1\", \"Topic1\", \"Topic1\", \"Topic1\", \"Topic1\", \"Topic1\", \"Topic1\", \"Topic1\", \"Topic1\", \"Topic1\", \"Topic1\", \"Topic1\", \"Topic1\", \"Topic1\", \"Topic1\", \"Topic1\", \"Topic1\", \"Topic1\", \"Topic1\", \"Topic1\", \"Topic1\", \"Topic1\", \"Topic1\", \"Topic1\", \"Topic1\", \"Topic1\", \"Topic1\", \"Topic1\", \"Topic1\", \"Topic1\", \"Topic1\", \"Topic1\", \"Topic1\", \"Topic1\", \"Topic1\", \"Topic1\", \"Topic1\", \"Topic1\", \"Topic1\", \"Topic1\", \"Topic1\", \"Topic1\", \"Topic1\", \"Topic1\", \"Topic1\", \"Topic1\", \"Topic1\", \"Topic1\", \"Topic1\", \"Topic1\", \"Topic1\", \"Topic1\", \"Topic1\", \"Topic1\", \"Topic1\", \"Topic1\", \"Topic1\", \"Topic1\", \"Topic1\", \"Topic1\", \"Topic1\", \"Topic1\", \"Topic1\", \"Topic1\", \"Topic2\", \"Topic2\", \"Topic2\", \"Topic2\", \"Topic2\", \"Topic2\", \"Topic2\", \"Topic2\", \"Topic2\", \"Topic2\", \"Topic2\", \"Topic2\", \"Topic2\", \"Topic2\", \"Topic2\", \"Topic2\", \"Topic2\", \"Topic2\", \"Topic2\", \"Topic2\", \"Topic2\", \"Topic2\", \"Topic2\", \"Topic2\", \"Topic2\", \"Topic2\", \"Topic2\", \"Topic2\", \"Topic2\", \"Topic2\", \"Topic2\", \"Topic2\", \"Topic2\", \"Topic2\", \"Topic2\", \"Topic2\", \"Topic2\", \"Topic2\", \"Topic2\", \"Topic2\", \"Topic2\", \"Topic2\", \"Topic2\", \"Topic2\", \"Topic2\", \"Topic2\", \"Topic2\", \"Topic2\", \"Topic2\", \"Topic2\", \"Topic2\", \"Topic2\", \"Topic2\", \"Topic2\", \"Topic2\", \"Topic2\", \"Topic2\", \"Topic2\", \"Topic2\", \"Topic2\", \"Topic2\", \"Topic2\", \"Topic2\", \"Topic2\", \"Topic2\", \"Topic2\", \"Topic2\", \"Topic2\", \"Topic2\", \"Topic2\", \"Topic2\", \"Topic2\", \"Topic2\", \"Topic2\", \"Topic2\", \"Topic3\", \"Topic3\", \"Topic3\", \"Topic3\", \"Topic3\", \"Topic3\", \"Topic3\", \"Topic3\", \"Topic3\", \"Topic3\", \"Topic3\", \"Topic3\", \"Topic3\", \"Topic3\", \"Topic3\", \"Topic3\", \"Topic3\", \"Topic3\", \"Topic3\", \"Topic3\", \"Topic3\", \"Topic3\", \"Topic3\", \"Topic3\", \"Topic3\", \"Topic3\", \"Topic3\", \"Topic3\", \"Topic3\", \"Topic3\", \"Topic3\", \"Topic3\", \"Topic3\", \"Topic3\", \"Topic3\", \"Topic3\", \"Topic3\", \"Topic3\", \"Topic3\", \"Topic3\", \"Topic3\", \"Topic3\", \"Topic3\", \"Topic3\", \"Topic3\", \"Topic3\", \"Topic3\", \"Topic3\", \"Topic3\", \"Topic3\", \"Topic3\", \"Topic3\", \"Topic3\", \"Topic3\", \"Topic3\", \"Topic3\", \"Topic3\", \"Topic3\", \"Topic3\", \"Topic3\", \"Topic3\", \"Topic3\", \"Topic3\", \"Topic3\", \"Topic3\", \"Topic3\", \"Topic3\", \"Topic3\", \"Topic3\", \"Topic3\", \"Topic3\", \"Topic4\", \"Topic4\", \"Topic4\", \"Topic4\", \"Topic4\", \"Topic4\", \"Topic4\", \"Topic4\", \"Topic4\", \"Topic4\", \"Topic4\", \"Topic4\", \"Topic4\", \"Topic4\", \"Topic4\", \"Topic4\", \"Topic4\", \"Topic4\", \"Topic4\", \"Topic4\", \"Topic4\", \"Topic4\", \"Topic4\", \"Topic4\", \"Topic4\", \"Topic4\", \"Topic4\", \"Topic4\", \"Topic4\", \"Topic4\", \"Topic4\", \"Topic4\", \"Topic4\", \"Topic4\", \"Topic4\", \"Topic4\", \"Topic4\", \"Topic4\", \"Topic4\", \"Topic4\", \"Topic4\", \"Topic4\", \"Topic4\", \"Topic4\", \"Topic4\", \"Topic4\", \"Topic4\", \"Topic4\", \"Topic4\", \"Topic4\", \"Topic4\", \"Topic4\", \"Topic4\", \"Topic4\", \"Topic4\", \"Topic4\", \"Topic4\", \"Topic4\", \"Topic4\", \"Topic4\", \"Topic4\", \"Topic5\", \"Topic5\", \"Topic5\", \"Topic5\", \"Topic5\", \"Topic5\", \"Topic5\", \"Topic5\", \"Topic5\", \"Topic5\", \"Topic5\", \"Topic5\", \"Topic5\", \"Topic5\", \"Topic5\", \"Topic5\", \"Topic5\", \"Topic5\", \"Topic5\", \"Topic5\", \"Topic5\", \"Topic5\", \"Topic5\", \"Topic5\", \"Topic5\", \"Topic5\", \"Topic5\", \"Topic5\", \"Topic5\", \"Topic5\", \"Topic5\", \"Topic5\", \"Topic5\", \"Topic5\", \"Topic5\", \"Topic5\", \"Topic5\", \"Topic5\", \"Topic5\", \"Topic5\", \"Topic5\", \"Topic5\", \"Topic5\", \"Topic5\", \"Topic5\", \"Topic5\", \"Topic5\", \"Topic5\", \"Topic5\", \"Topic5\", \"Topic5\", \"Topic5\", \"Topic5\", \"Topic5\", \"Topic5\", \"Topic5\", \"Topic5\", \"Topic5\", \"Topic5\", \"Topic5\", \"Topic5\", \"Topic5\", \"Topic5\", \"Topic5\", \"Topic5\", \"Topic5\", \"Topic6\", \"Topic6\", \"Topic6\", \"Topic6\", \"Topic6\", \"Topic6\", \"Topic6\", \"Topic6\", \"Topic6\", \"Topic6\", \"Topic6\", \"Topic6\", \"Topic6\", \"Topic6\", \"Topic6\", \"Topic6\", \"Topic6\", \"Topic6\", \"Topic6\", \"Topic6\", \"Topic6\", \"Topic6\", \"Topic6\", \"Topic6\", \"Topic6\", \"Topic6\", \"Topic6\", \"Topic6\", \"Topic6\", \"Topic6\", \"Topic6\", \"Topic6\", \"Topic6\", \"Topic6\", \"Topic6\", \"Topic6\", \"Topic6\", \"Topic6\", \"Topic6\", \"Topic6\", \"Topic6\", \"Topic6\", \"Topic6\", \"Topic6\", \"Topic6\", \"Topic6\", \"Topic6\", \"Topic6\", \"Topic6\", \"Topic6\", \"Topic6\", \"Topic6\", \"Topic6\", \"Topic6\", \"Topic6\", \"Topic6\", \"Topic6\", \"Topic6\", \"Topic6\", \"Topic6\", \"Topic6\", \"Topic6\", \"Topic6\", \"Topic6\", \"Topic6\", \"Topic6\", \"Topic7\", \"Topic7\", \"Topic7\", \"Topic7\", \"Topic7\", \"Topic7\", \"Topic7\", \"Topic7\", \"Topic7\", \"Topic7\", \"Topic7\", \"Topic7\", \"Topic7\", \"Topic7\", \"Topic7\", \"Topic7\", \"Topic7\", \"Topic7\", \"Topic7\", \"Topic7\", \"Topic7\", \"Topic7\", \"Topic7\", \"Topic7\", \"Topic7\", \"Topic7\", \"Topic7\", \"Topic7\", \"Topic7\", \"Topic7\", \"Topic7\", \"Topic7\", \"Topic7\", \"Topic7\", \"Topic7\", \"Topic7\", \"Topic7\", \"Topic7\", \"Topic7\", \"Topic7\", \"Topic7\", \"Topic7\", \"Topic7\", \"Topic7\", \"Topic7\", \"Topic7\", \"Topic7\", \"Topic7\", \"Topic7\", \"Topic7\", \"Topic7\", \"Topic7\", \"Topic7\", \"Topic7\", \"Topic7\", \"Topic7\", \"Topic7\", \"Topic7\", \"Topic7\", \"Topic7\", \"Topic7\", \"Topic7\", \"Topic7\", \"Topic7\", \"Topic7\", \"Topic7\", \"Topic7\", \"Topic7\", \"Topic7\", \"Topic8\", \"Topic8\", \"Topic8\", \"Topic8\", \"Topic8\", \"Topic8\", \"Topic8\", \"Topic8\", \"Topic8\", \"Topic8\", \"Topic8\", \"Topic8\", \"Topic8\", \"Topic8\", \"Topic8\", \"Topic8\", \"Topic8\", \"Topic8\", \"Topic8\", \"Topic8\", \"Topic8\", \"Topic8\", \"Topic8\", \"Topic8\", \"Topic8\", \"Topic8\", \"Topic8\", \"Topic8\", \"Topic8\", \"Topic8\", \"Topic8\", \"Topic8\", \"Topic8\", \"Topic8\", \"Topic8\", \"Topic8\", \"Topic8\", \"Topic8\", \"Topic8\", \"Topic8\", \"Topic8\", \"Topic8\", \"Topic8\", \"Topic8\", \"Topic8\", \"Topic8\", \"Topic8\", \"Topic8\", \"Topic8\", \"Topic8\", \"Topic8\", \"Topic8\", \"Topic8\", \"Topic8\", \"Topic8\", \"Topic8\", \"Topic8\", \"Topic8\", \"Topic8\", \"Topic8\", \"Topic8\", \"Topic8\", \"Topic9\", \"Topic9\", \"Topic9\", \"Topic9\", \"Topic9\", \"Topic9\", \"Topic9\", \"Topic9\", \"Topic9\", \"Topic9\", \"Topic9\", \"Topic9\", \"Topic9\", \"Topic9\", \"Topic9\", \"Topic9\", \"Topic9\", \"Topic9\", \"Topic9\", \"Topic9\", \"Topic9\", \"Topic9\", \"Topic9\", \"Topic9\", \"Topic9\", \"Topic9\", \"Topic9\", \"Topic9\", \"Topic9\", \"Topic9\", \"Topic9\", \"Topic9\", \"Topic9\", \"Topic9\", \"Topic9\", \"Topic9\", \"Topic9\", \"Topic9\", \"Topic9\", \"Topic9\", \"Topic9\", \"Topic9\", \"Topic9\", \"Topic9\", \"Topic9\", \"Topic9\", \"Topic9\", \"Topic9\", \"Topic9\", \"Topic9\", \"Topic9\", \"Topic9\", \"Topic9\", \"Topic9\", \"Topic9\", \"Topic9\", \"Topic9\", \"Topic9\", \"Topic9\", \"Topic9\", \"Topic9\", \"Topic9\", \"Topic9\", \"Topic9\", \"Topic10\", \"Topic10\", \"Topic10\", \"Topic10\", \"Topic10\", \"Topic10\", \"Topic10\", \"Topic10\", \"Topic10\", \"Topic10\", \"Topic10\", \"Topic10\", \"Topic10\", \"Topic10\", \"Topic10\", \"Topic10\", \"Topic10\", \"Topic10\", \"Topic10\", \"Topic10\", \"Topic10\", \"Topic10\", \"Topic10\", \"Topic10\", \"Topic10\", \"Topic10\", \"Topic10\", \"Topic10\", \"Topic10\", \"Topic10\", \"Topic10\", \"Topic10\", \"Topic10\", \"Topic10\", \"Topic10\", \"Topic10\", \"Topic10\", \"Topic10\", \"Topic10\", \"Topic10\", \"Topic10\", \"Topic10\", \"Topic10\", \"Topic10\", \"Topic10\", \"Topic10\", \"Topic10\", \"Topic10\", \"Topic10\", \"Topic10\", \"Topic10\", \"Topic10\", \"Topic10\", \"Topic10\", \"Topic10\", \"Topic10\", \"Topic10\", \"Topic10\", \"Topic10\", \"Topic10\", \"Topic10\", \"Topic10\", \"Topic10\", \"Topic10\", \"Topic10\", \"Topic10\"], \"logprob\": [30.0, 29.0, 28.0, 27.0, 26.0, 25.0, 24.0, 23.0, 22.0, 21.0, 20.0, 19.0, 18.0, 17.0, 16.0, 15.0, 14.0, 13.0, 12.0, 11.0, 10.0, 9.0, 8.0, 7.0, 6.0, 5.0, 4.0, 3.0, 2.0, 1.0, -6.9169, -6.9135, -6.9184, -6.9198, -6.9367, -6.9621, -7.281, -7.3078, -7.311, -7.3061, -7.3159, -7.3063, -7.315, -7.3131, -7.3244, -7.3303, -7.3175, -7.321, -6.9116, -6.8986, -6.8716, -7.3347, -7.3065, -6.9411, -7.307, -7.3364, -7.2897, -7.3223, -6.9037, -7.3263, -6.9365, -5.6181, -6.3109, -7.1334, -6.2295, -6.721, -7.0232, -4.4259, -6.0193, -6.5685, -6.6431, -6.6526, -5.6528, -6.7668, -5.0623, -6.8563, -6.341, -5.9217, -5.3928, -5.8653, -6.0459, -5.1378, -6.1854, -6.3467, -6.1846, -5.4722, -5.3913, -6.0259, -6.6855, -6.3143, -6.3862, -6.3431, -6.5012, -6.4283, -6.3578, -6.2189, -6.5088, -6.1559, -6.5208, -6.5392, -6.8193, -6.8471, -6.8676, -6.8547, -6.8331, -6.8544, -6.8642, -6.8295, -6.9343, -6.9227, -7.4623, -6.92, -7.4654, -7.4703, -6.8517, -7.4815, -6.9059, -6.8917, -7.4966, -7.4981, -7.4981, -7.4935, -7.5068, -7.5067, -7.4621, -6.8946, -7.5116, -7.5035, -7.5122, -7.5029, -6.9554, -6.9586, -6.3092, -7.3973, -6.1668, -6.938, -6.895, -6.371, -6.3366, -6.9287, -6.9954, -6.5124, -4.6976, -6.6196, -6.6562, -7.0932, -5.5105, -5.6095, -6.2843, -6.1764, -6.3284, -6.463, -5.9982, -6.654, -6.4811, -5.2771, -6.6708, -6.6889, -6.377, -5.8605, -6.5348, -5.6866, -6.553, -6.7202, -6.7328, -5.8672, -6.4666, -6.4005, -6.4749, -6.1612, -6.1697, -6.3979, -6.557, -6.5347, -6.5028, -6.481, -6.9108, -6.8635, -6.5125, -6.8984, -6.8995, -6.8956, -6.8627, -6.9054, -6.9172, -6.8792, -6.877, -6.9441, -6.866, -6.8678, -6.8661, -7.4919, -7.4944, -7.4972, -7.4962, -6.9426, -7.5, -7.5012, -7.4676, -7.5026, -7.5073, -7.5085, -6.9165, -6.9231, -7.4825, -6.9008, -6.9716, -6.8604, -6.9547, -6.9729, -6.6557, -5.8676, -7.1167, -7.013, -6.3928, -6.6065, -6.8557, -4.821, -5.9761, -5.1274, -5.8988, -5.7687, -6.0795, -5.7906, -6.0305, -6.5447, -6.4813, -6.0683, -5.8092, -6.6016, -6.5535, -6.6546, -5.7853, -5.8443, -6.4855, -6.1157, -6.5083, -6.3198, -6.4087, -6.3074, -6.7621, -6.4386, -6.1498, -6.4479, -6.4171, -6.5622, -6.2564, -6.2833, -6.5751, -6.3261, -6.2815, -5.2557, -6.954, -6.9802, -6.0568, -6.3381, -7.0062, -7.0496, -7.0058, -7.0045, -7.0047, -6.9953, -6.9834, -6.9883, -6.9641, -7.0046, -7.0326, -6.0357, -6.9599, -6.6078, -6.9529, -6.9551, -6.9568, -6.6723, -7.5953, -7.6021, -6.9636, -7.0341, -6.2998, -6.3571, -5.4274, -6.5707, -5.9103, -6.0353, -5.6004, -6.2435, -6.2507, -5.0812, -6.3323, -6.7227, -6.5126, -6.3334, -6.5882, -6.6067, -5.6799, -6.7927, -6.6522, -6.054, -6.3431, -5.942, -6.3702, -6.1908, -6.3533, -6.4497, -6.3782, -6.3912, -6.4839, -6.2826, -6.0157, -5.8406, -6.2361, -6.905, -6.9678, -6.9281, -6.9337, -6.946, -6.9647, -6.946, -6.501, -6.909, -6.6226, -6.9461, -6.2785, -6.9022, -7.1323, -6.9047, -7.5202, -7.5235, -7.5283, -7.4873, -7.5308, -7.5305, -7.5301, -7.5329, -7.5367, -6.9157, -7.5358, -7.0619, -5.6401, -6.9278, -6.5109, -6.9242, -6.9478, -7.0122, -6.9638, -6.9989, -7.074, -6.041, -5.9086, -6.6222, -5.6717, -6.485, -6.5319, -6.1792, -6.6204, -5.9556, -6.558, -6.5779, -6.3196, -6.6911, -5.4643, -6.201, -6.3571, -6.3606, -6.6052, -5.7383, -6.2928, -6.1668, -6.25, -6.2452, -6.5105, -6.5442, -6.5894, -6.3172, -6.3848, -6.597, -6.5713, -6.9524, -6.9542, -6.9758, -6.986, -7.0336, -6.9793, -6.9864, -6.9812, -6.9882, -6.9591, -6.9597, -6.9618, -6.9617, -6.9233, -6.9708, -7.0153, -6.9872, -7.0202, -6.9362, -6.5417, -6.9575, -6.9993, -6.9442, -6.9086, -6.9464, -6.9527, -6.3269, -6.5674, -6.4505, -6.686, -6.097, -5.733, -6.605, -6.0686, -4.9662, -6.6846, -6.4914, -6.7001, -5.3582, -6.1536, -5.6794, -5.9859, -5.8941, -6.0925, -4.9233, -6.5148, -6.7122, -6.6474, -6.4533, -6.6383, -6.5093, -6.4078, -6.4102, -6.1149, -6.3154, -6.3772, -6.2592, -6.3794, -6.4383, -6.4409, -6.5048, -6.48, -6.4463, -6.8275, -6.8274, -6.8317, -6.8392, -6.8894, -6.8426, -6.8215, -6.8297, -6.8393, -6.8349, -6.8385, -6.8936, -6.9057, -6.8516, -6.8437, -6.8697, -7.4008, -7.403, -6.1394, -6.8811, -7.1065, -7.4463, -7.4468, -7.4489, -7.4586, -7.4529, -7.4533, -7.4223, -6.8607, -6.981, -4.5402, -6.8353, -6.4994, -6.9231, -6.9445, -6.8754, -6.818, -5.637, -6.4189, -6.7832, -6.5599, -6.3377, -6.0282, -6.3737, -6.6485, -5.4733, -6.3299, -5.9465, -5.9218, -5.4086, -6.1502, -6.659, -6.5238, -6.1834, -6.5756, -6.0798, -6.7229, -6.4759, -6.3666, -6.7061, -6.5288, -6.579, -6.7097, -6.4978, -6.4707, -6.3587, -6.5602, -6.4606, -6.1932, -6.8918, -6.5037, -6.9058, -6.5449, -6.9101, -6.9731, -6.9142, -6.9144, -6.8943, -6.1988, -6.5407, -6.8744, -6.5313, -6.9449, -6.9543, -6.4827, -7.5114, -7.5239, -6.8763, -6.8938, -7.5137, -7.515, -6.9424, -6.4851, -7.5187, -7.4842, -7.5288, -7.5352, -7.5219, -6.8623, -6.9767, -6.5806, -6.4523, -6.1689, -6.2896, -6.3013, -6.4805, -6.486, -6.1696, -6.3364, -6.5526, -5.4239, -6.0192, -6.3168, -6.1588, -5.6346, -5.5624, -6.6586, -6.3711, -6.6326, -6.4453, -6.4592, -6.5705, -5.8607, -6.0747, -6.1743, -6.3603, -6.3528, -6.3306, -6.4608, -6.4941, -6.6231, -6.2085, -6.6123, -6.6237, -6.6617, -6.6298, -6.6173, -6.2013, -6.2035, -6.5852, -5.5245, -6.5701, -6.5973, -6.6644, -6.5939, -7.2315, -7.2337, -5.951, -7.2462, -7.2469, -7.2469, -7.2547, -6.6446, -7.2484, -7.2509, -7.2558, -7.2561, -7.2567, -6.7053, -7.1821, -6.6995, -6.6577, -5.9534, -6.3075, -6.6688, -6.6282, -6.7681, -6.5066, -6.7231, -6.4116, -6.6631, -6.1666, -5.5514, -6.4276, -6.4368, -5.869, -5.5499, -5.6688, -5.8669, -6.1358, -5.5888, -6.2998, -6.3479, -6.0217, -6.3939, -6.0187, -6.4657, -6.4128, -6.4194, -6.2304, -6.5252, -6.4615, -6.3978, -6.4918, -6.1557, -6.2123, -6.5183, -6.546, -6.5469, -6.5554, -6.5603, -7.1606, -7.1788, -6.5964, -7.1806, -7.1464, -7.1806, -7.1463, -7.186, -5.9291, -6.5968, -7.1851, -7.1172, -7.1939, -7.1868, -7.2011, -7.2077, -7.1939, -7.2063, -7.2078, -7.2104, -7.2102, -7.2027, -7.2012, -6.6858, -6.2381, -6.2265, -5.8818, -6.5457, -6.5463, -6.6823, -6.7181, -6.3356, -5.0775, -6.2801, -6.3468, -5.5317, -6.6854, -6.711, -6.6251, -6.6988, -6.5215, -6.7384, -5.5183, -6.2652, -5.4249, -6.3084, -6.2851, -6.0025, -5.6744, -6.3104, -6.1277, -6.2413, -6.2929, -6.3051, -6.3127, -6.226, -6.3738, -6.2695, -6.3332], \"loglift\": [30.0, 29.0, 28.0, 27.0, 26.0, 25.0, 24.0, 23.0, 22.0, 21.0, 20.0, 19.0, 18.0, 17.0, 16.0, 15.0, 14.0, 13.0, 12.0, 11.0, 10.0, 9.0, 8.0, 7.0, 6.0, 5.0, 4.0, 3.0, 2.0, 1.0, 1.9838, 1.9811, 1.9786, 1.9734, 1.9726, 1.9676, 1.9629, 1.961, 1.9607, 1.9603, 1.9602, 1.9591, 1.9586, 1.9506, 1.9483, 1.948, 1.948, 1.9466, 1.9438, 1.9393, 1.9368, 1.9347, 1.9337, 1.9316, 1.93, 1.9286, 1.9259, 1.9235, 1.919, 1.9168, 1.9084, 1.8444, 1.8573, 1.912, 1.8176, 1.8657, 1.8847, 1.3314, 1.6511, 1.7778, 1.7898, 1.7734, 1.4453, 1.7933, 1.2322, 1.8, 1.5597, 1.3501, 1.102, 1.32, 1.3175, 0.685, 1.3379, 1.4356, 1.2968, 0.4714, 0.3611, 0.8574, 1.6561, 1.0183, 1.0086, 0.9064, 1.1981, 1.0416, 0.8801, 0.563, 1.2046, -0.0752, 0.4448, 0.2932, 2.1016, 2.1008, 2.0967, 2.0961, 2.0945, 2.0937, 2.0929, 2.0917, 2.0651, 2.0619, 2.0589, 2.0589, 2.0562, 2.0544, 2.0448, 2.0444, 2.0431, 2.0412, 2.0387, 2.0352, 2.0349, 2.0323, 2.0299, 2.0282, 2.0276, 2.0275, 2.0275, 2.0266, 2.0243, 2.0242, 2.0235, 2.0192, 2.0023, 2.0234, 1.9628, 1.999, 1.989, 1.9462, 1.9347, 1.9844, 1.9877, 1.9318, 1.6431, 1.9179, 1.9069, 1.9888, 1.678, 1.6283, 1.8, 1.7599, 1.7955, 1.8096, 1.5075, 1.8543, 1.726, 0.8035, 1.8528, 1.8421, 1.5355, 0.7708, 1.6012, 0.1362, 1.567, 1.8557, 1.8719, -0.1149, 1.2634, 0.8469, 0.9892, -0.2175, -0.4124, 0.5573, 1.0796, 0.8518, -0.2083, 2.17, 2.1504, 2.1498, 2.148, 2.1471, 2.145, 2.1443, 2.1431, 2.1413, 2.133, 2.1312, 2.1309, 2.1211, 2.1206, 2.1187, 2.1151, 2.1082, 2.1079, 2.1068, 2.1064, 2.1051, 2.105, 2.1004, 2.0975, 2.0965, 2.0949, 2.0947, 2.0933, 2.0907, 2.0875, 2.0819, 2.0705, 2.0522, 2.0491, 2.0415, 1.9772, 1.8428, 2.0443, 2.022, 1.8686, 1.9056, 1.9571, 0.9363, 1.4803, 0.6954, 1.2403, 1.1146, 1.3502, 0.9914, 1.217, 1.6514, 1.55, 0.8973, 0.4854, 1.6551, 1.5701, 1.7175, 0.1584, 0.2363, 1.3835, 0.6498, 1.3427, 0.8655, 1.0573, 0.7748, 1.8547, 0.8109, -0.3974, 0.702, 0.0777, 1.0621, 2.2424, 2.2377, 2.2335, 2.2329, 2.2304, 2.2247, 2.2226, 2.2208, 2.2195, 2.2174, 2.2168, 2.2153, 2.2135, 2.2123, 2.2122, 2.2083, 2.207, 2.2067, 2.2056, 2.2019, 2.2019, 2.1985, 2.1828, 2.1827, 2.1745, 2.1718, 2.17, 2.1696, 2.164, 2.1638, 2.1629, 2.1623, 2.1489, 2.1488, 2.1147, 2.1445, 2.015, 1.9387, 1.7639, 1.8461, 1.8469, 1.1385, 1.8401, 2.02, 1.8352, 1.6774, 1.8776, 1.8716, 0.6609, 2.0004, 1.8282, 0.999, 1.3856, 0.7586, 1.2437, -0.1102, 0.5645, 0.3828, -0.5553, -0.6388, 0.5984, 2.2564, 2.2526, 2.2493, 2.2394, 2.2366, 2.2283, 2.2276, 2.2274, 2.2207, 2.2184, 2.2153, 2.2147, 2.2056, 2.2048, 2.2023, 2.2, 2.1975, 2.197, 2.1927, 2.1859, 2.1859, 2.183, 2.1815, 2.1806, 2.1797, 2.1795, 2.1791, 2.1755, 2.1741, 2.1716, 2.1679, 2.1466, 2.1568, 2.1374, 2.1513, 2.1511, 2.1524, 2.1412, 2.1424, 2.1445, 2.0068, 1.9548, 2.0802, 1.7521, 1.973, 1.9624, 1.7077, 1.958, 1.431, 1.8428, 1.8028, 1.5084, 1.9214, 0.4793, 1.134, 1.3017, 1.2533, 1.667, 0.014, 0.9101, 0.5338, -0.1694, -0.4224, 0.4447, -0.2497, 0.562, 2.2957, 2.2955, 2.2838, 2.2825, 2.2704, 2.2702, 2.269, 2.2642, 2.2641, 2.2638, 2.2637, 2.2637, 2.263, 2.259, 2.2583, 2.2568, 2.2566, 2.2536, 2.2522, 2.2442, 2.2377, 2.2375, 2.2371, 2.2369, 2.2354, 2.2349, 2.2269, 2.2263, 2.2258, 2.2226, 2.2137, 2.1604, 2.1391, 2.18, 2.0664, 1.907, 2.1332, 1.9588, 1.5802, 2.1366, 2.0575, 2.1411, 1.5102, 1.8643, 1.5836, 1.6988, 1.5847, 1.7029, 0.8291, 1.8588, 2.0323, 1.9071, 1.6411, 1.8432, 1.6505, 1.3794, 1.3185, 0.5391, 0.4665, 0.4369, -0.3156, 0.3862, 0.7116, 0.0539, 0.1958, -0.6572, 2.3884, 2.3691, 2.369, 2.3687, 2.364, 2.364, 2.3515, 2.3423, 2.3345, 2.3313, 2.3301, 2.33, 2.329, 2.3266, 2.3195, 2.319, 2.3183, 2.312, 2.31, 2.306, 2.3047, 2.3042, 2.3037, 2.3032, 2.3019, 2.2997, 2.2994, 2.2992, 2.2927, 2.2903, 2.2899, 2.2392, 2.2859, 2.2746, 2.2849, 2.2816, 2.2704, 2.2615, 2.1525, 2.2151, 2.2458, 2.1855, 2.1061, 1.9866, 2.0579, 2.1817, 1.3951, 1.9516, 1.6104, 1.3411, 0.3438, 1.0012, 1.9586, 1.6555, 0.448, 1.5688, 0.0008, 1.9789, 1.191, 0.7411, 1.9206, 1.2304, 1.3897, 1.8388, 0.5389, 0.3618, -0.4151, 0.8867, -0.2409, 2.3813, 2.3684, 2.3663, 2.3641, 2.3631, 2.3552, 2.3542, 2.3481, 2.3477, 2.3462, 2.3356, 2.3355, 2.3334, 2.3304, 2.3219, 2.3213, 2.3199, 2.3118, 2.3102, 2.3094, 2.3082, 2.3072, 2.3058, 2.3026, 2.302, 2.3017, 2.2972, 2.2969, 2.2958, 2.295, 2.2927, 2.2925, 2.2855, 2.2602, 2.2477, 2.245, 2.2349, 2.2418, 2.2346, 2.1843, 2.1597, 2.2058, 1.3021, 1.6232, 1.8504, 1.671, 1.0194, 0.9324, 2.0755, 1.6723, 1.9265, 1.6153, 1.6339, 1.7733, 0.083, -0.2518, -0.0936, 0.4053, -0.0121, -0.5783, 0.7887, 0.6558, 2.396, 2.3958, 2.3956, 2.3956, 2.3935, 2.3905, 2.3891, 2.3857, 2.384, 2.3748, 2.3703, 2.3695, 2.3667, 2.3595, 2.3538, 2.3528, 2.347, 2.3454, 2.3341, 2.3335, 2.3331, 2.3321, 2.3316, 2.331, 2.3295, 2.3285, 2.3281, 2.3274, 2.3265, 2.326, 2.3042, 2.299, 2.2442, 2.2667, 2.2803, 2.2648, 2.2559, 2.205, 2.2382, 2.1757, 2.2006, 2.0085, 1.5564, 2.0571, 2.0411, 1.6151, 1.2789, 1.2489, 1.4149, 1.343, 0.234, 1.6231, 1.6932, 0.6323, 1.7028, 0.2011, 1.5996, 1.2787, 1.2229, -0.2868, 1.7715, 0.9854, -0.1032, 1.0696, 2.4418, 2.4306, 2.427, 2.4248, 2.421, 2.4203, 2.4021, 2.3839, 2.3789, 2.3728, 2.3727, 2.3675, 2.3664, 2.366, 2.3656, 2.3656, 2.3654, 2.363, 2.359, 2.3586, 2.3576, 2.355, 2.3546, 2.3526, 2.351, 2.3488, 2.3486, 2.347, 2.3467, 2.3456, 2.3313, 2.3064, 2.3011, 2.259, 2.3042, 2.3028, 2.2946, 2.288, 2.2247, 1.9995, 2.1972, 2.1633, 1.8488, 2.2094, 2.2081, 2.1758, 2.1969, 2.0921, 2.1813, 1.4368, 1.8754, 1.1214, 1.7714, 1.7239, 1.1474, 0.5454, 1.4722, 0.8379, 1.1139, 0.6249, 0.5091, 0.5162, -0.4737, 0.7776, -0.3259, -0.2525]}, \"token.table\": {\"Topic\": [7, 1, 3, 7, 2, 2, 1, 2, 3, 4, 9, 8, 10, 2, 1, 8, 10, 3, 1, 3, 4, 5, 6, 7, 8, 9, 2, 5, 6, 10, 3, 4, 2, 2, 3, 7, 8, 1, 3, 4, 5, 6, 7, 10, 7, 1, 2, 4, 5, 8, 1, 2, 3, 4, 7, 1, 1, 2, 4, 5, 6, 7, 8, 9, 10, 8, 9, 10, 9, 6, 6, 8, 5, 10, 1, 8, 3, 5, 2, 1, 2, 4, 5, 6, 7, 9, 10, 1, 2, 3, 4, 5, 6, 7, 8, 9, 10, 5, 1, 2, 3, 4, 5, 6, 7, 8, 9, 10, 1, 7, 5, 4, 5, 6, 8, 7, 5, 7, 1, 3, 8, 3, 5, 1, 2, 3, 4, 5, 6, 7, 8, 9, 3, 4, 7, 9, 1, 2, 3, 4, 5, 6, 7, 8, 9, 10, 1, 2, 3, 6, 7, 8, 9, 10, 3, 7, 2, 7, 10, 1, 2, 3, 4, 5, 6, 7, 8, 9, 10, 1, 2, 3, 7, 8, 9, 2, 1, 7, 10, 10, 2, 1, 4, 5, 1, 2, 4, 1, 2, 3, 4, 5, 6, 7, 8, 9, 10, 3, 1, 1, 2, 3, 4, 5, 6, 7, 8, 9, 10, 5, 9, 1, 2, 3, 4, 5, 6, 7, 8, 9, 10, 9, 1, 2, 3, 4, 5, 6, 7, 8, 9, 10, 5, 6, 10, 1, 5, 7, 4, 1, 2, 3, 5, 6, 8, 10, 1, 2, 4, 6, 8, 10, 1, 3, 5, 9, 10, 2, 3, 4, 6, 7, 8, 9, 10, 1, 1, 3, 8, 8, 4, 9, 9, 2, 5, 7, 3, 1, 2, 4, 5, 6, 7, 8, 9, 10, 3, 2, 5, 9, 5, 10, 8, 1, 5, 6, 9, 5, 2, 4, 8, 9, 6, 3, 7, 9, 1, 2, 5, 3, 7, 8, 2, 3, 6, 9, 1, 4, 5, 7, 9, 1, 2, 3, 5, 7, 8, 10, 1, 4, 5, 6, 8, 9, 10, 4, 3, 5, 6, 8, 9, 4, 4, 10, 2, 4, 8, 4, 7, 2, 7, 10, 1, 7, 2, 4, 7, 2, 4, 6, 7, 8, 9, 10, 3, 1, 6, 1, 2, 3, 4, 5, 6, 7, 5, 7, 6, 5, 7, 2, 3, 7, 8, 1, 4, 8, 1, 2, 3, 4, 5, 6, 7, 8, 9, 10, 1, 2, 6, 10, 4, 7, 1, 2, 3, 4, 5, 6, 7, 8, 9, 10, 2, 4, 5, 6, 7, 8, 9, 10, 3, 1, 7, 1, 2, 3, 4, 5, 6, 7, 8, 9, 10, 1, 2, 3, 4, 5, 6, 7, 8, 9, 10, 8, 10, 10, 10, 7, 2, 3, 7, 8, 1, 1, 3, 6, 7, 8, 9, 10, 7, 9, 2, 6, 1, 5, 6, 6, 6, 9, 2, 4, 10, 10, 3, 8, 1, 2, 4, 5, 7, 8, 9, 1, 2, 3, 4, 6, 7, 8, 9, 10, 10, 10, 1, 4, 6, 8, 2, 6, 7, 8, 6, 1, 2, 3, 5, 6, 7, 8, 9, 10, 6, 7, 10, 6, 2, 9, 1, 2, 3, 4, 5, 6, 7, 8, 9, 10, 3, 8, 3, 1, 2, 3, 4, 5, 6, 7, 8, 9, 10, 8, 1, 2, 3, 4, 6, 7, 8, 9, 10, 4, 9, 1, 2, 3, 4, 5, 6, 8, 9, 10, 9, 2, 5, 6, 10, 6, 8, 10, 2, 10, 1, 2, 6, 10, 2, 9, 1, 2, 3, 4, 5, 6, 7, 8, 9, 10, 4, 4, 1, 2, 4, 9, 3, 3, 5, 3, 5, 8, 2, 10, 8, 8, 5, 1, 5, 6, 7, 6, 9, 1, 2, 3, 4, 5, 6, 7, 8, 9, 10, 1, 2, 3, 8, 1, 2, 4, 5, 6, 7, 8, 9, 10, 10, 1, 3, 4, 5, 6, 8, 9, 10, 9, 5, 5, 8, 10, 1, 4, 6, 7, 4, 7, 9, 2, 6, 9, 3, 2, 6, 10, 1, 2, 3, 4, 5, 6, 7, 8, 9, 5, 8, 10, 1, 2, 3, 4, 5, 6, 7, 8, 9, 10, 1, 5, 7, 8, 10, 2, 8, 1, 2, 3, 4, 5, 6, 7, 8, 9, 10, 5, 4, 5, 9, 1, 2, 4, 5, 6, 8, 9, 10, 2, 3, 4, 5, 6, 7, 8, 9, 10, 1, 2, 3, 4, 5, 7, 8, 9, 10, 6, 1, 1, 2, 3, 4, 5, 6, 7, 8, 9, 10, 3, 4, 5, 6, 8, 2, 5, 6, 7, 8, 8, 10, 1, 2, 3, 4, 6, 8, 9, 10, 1, 2, 8, 7, 1, 2, 10, 1, 2, 3, 4, 5, 6, 8, 9, 10, 1, 2, 3, 4, 5, 6, 7, 8, 9, 10, 2, 5, 1, 2, 3, 4, 5, 6, 7, 8, 9, 10, 9, 1, 2, 3, 4, 5, 6, 7, 9, 10, 7, 3, 2, 8, 1, 3, 4, 5, 6, 7, 8, 9, 1, 2, 3, 9, 10, 4, 1, 2, 3, 4, 6, 7, 8, 9, 10, 3, 4, 9, 1, 3, 4, 5, 8, 9, 10, 1, 3, 1, 2, 3, 4, 5, 6, 7, 8, 9, 2, 10, 1, 2, 3, 4, 5, 6, 7, 8, 9, 10, 1, 2, 3, 4, 5, 6, 7, 8, 9, 10, 1, 2, 3, 4, 5, 6, 7, 8, 9, 10, 1, 9, 2, 7, 7, 1, 4, 5, 10, 1, 2, 3, 4, 5, 6, 7, 8, 9, 10, 10, 2, 6, 1, 2, 3, 4, 5, 6, 7, 8, 9, 10, 1, 2, 3, 4, 5, 6, 7, 8, 9, 10, 1, 2, 3, 4, 5, 6, 7, 8, 9, 10, 5, 1, 5, 9, 10, 10, 1, 2, 3, 4, 5, 6, 7, 8, 9, 1, 2, 3, 5, 6, 10, 1, 2, 3, 5, 6, 9, 10, 7, 2, 6, 5, 1, 3, 4, 6, 8, 10, 1, 2, 4, 5, 6, 7, 10, 6, 3, 10, 1, 3, 4, 5, 7, 9, 10, 2, 5, 7, 9, 2, 2, 3, 8, 6, 3, 8, 7, 6, 3, 9, 1, 1, 1, 3, 5, 8, 1, 2, 3, 4, 5, 6, 7, 8, 9, 10, 2, 9, 1, 2, 3, 5, 7, 3, 1, 1, 2, 3, 5, 6, 8, 10, 1, 2, 3, 4, 5, 6, 7, 8, 9, 10, 1, 2, 3, 4, 5, 6, 7, 8, 9, 10, 1, 2, 6, 7, 9, 4, 7, 10, 5, 7, 9, 3, 1, 2, 3, 4, 5, 6, 7, 8, 9, 10, 1, 2, 3, 5, 7, 8, 10, 1, 2, 3, 4, 5, 6, 7, 8, 9, 10, 1, 2, 4, 6, 7, 9, 2, 3, 6, 9, 1, 2, 3, 4, 5, 8, 9, 10, 2, 4, 4, 6, 6, 7, 9, 4, 7, 8, 9, 1, 2, 3, 4, 5, 7, 8, 9, 10, 5, 8, 9, 5, 6, 7, 10, 1, 2, 3, 4, 6, 8, 9, 10, 1, 3, 4, 6, 7, 8, 9, 10, 4, 5, 1, 3, 5, 6, 8, 9, 4, 6, 10, 9, 10, 6, 9, 1, 2, 4, 7, 10, 3, 5, 7, 9, 2, 8, 4, 5, 6, 7, 1, 3, 8, 5, 1, 2, 3, 4, 5, 6, 7, 8, 9, 10, 1, 2, 3, 4, 5, 6, 7, 8, 9, 10, 1, 2, 3, 4, 5, 6, 7, 8, 9, 10, 1, 2, 3, 4, 5, 6, 7, 8, 1, 3, 4, 5, 10, 2, 3, 5, 9, 10, 5, 2, 5, 2, 3, 4, 5, 9, 10, 2, 9, 3, 4, 4, 1, 6, 7, 9, 1, 2, 3, 4, 5, 6, 7, 8, 9, 1, 4, 5, 7, 8, 10, 3, 2, 1, 2, 3, 4, 5, 6, 7, 8, 8, 6, 1, 7, 1, 2, 4, 6, 10, 7, 5, 1, 2, 4, 5, 7, 8, 10, 1, 2, 6, 10, 1, 4, 5, 7, 9, 10, 6, 7, 1, 5, 10, 4, 5, 1, 7, 1, 2, 6, 7, 9, 1, 2, 9, 1, 2, 3, 6, 8, 10, 3, 6, 8, 2, 2, 3, 7, 8, 2, 5, 6, 10, 2, 3, 4, 5, 6, 8, 10, 4, 6, 7, 10, 5, 6, 10, 1, 4, 10, 6, 10, 1, 2, 4, 5, 7, 6, 7, 2, 6, 8, 9, 1, 8, 1, 2, 3, 4, 8, 3, 1, 2, 3, 4, 5, 6, 7, 8, 10, 5, 1, 2, 3, 4, 5, 6, 7, 8, 9, 10, 1, 5, 10, 9, 5, 3, 1, 2, 3, 4, 6, 7, 8, 9, 7, 7, 6, 1, 5, 6, 8, 3, 9, 3, 8, 8, 1, 5, 6, 1, 10, 3, 10, 1, 3, 5, 8, 9, 2, 5, 6, 8, 2, 1, 4, 1, 3, 4, 6, 7, 8, 9, 10, 3, 7, 8, 9, 10, 10, 7, 8, 1, 2, 3, 5, 6, 7, 8, 10, 3, 8, 10, 1, 3, 5, 8, 6, 1, 2, 3, 4, 5, 6, 7, 8, 9, 10, 1, 2, 3, 4, 5, 6, 7, 8, 9, 10, 4, 2, 1, 2, 3, 4, 5, 6, 7, 8, 9, 10, 7, 1, 2, 3, 8, 9, 10, 3, 10, 3, 5, 10, 1, 2, 3, 4, 6, 7, 8, 9, 10, 10, 3, 1, 9, 1, 2, 3, 4, 5, 7, 8, 9, 10, 1, 2, 4, 5, 8, 7, 2, 7, 4, 5, 8, 1, 2, 3, 4, 5, 6, 7, 8, 9, 10, 9, 2, 7, 8, 2, 3, 4, 5, 6, 7, 10, 5, 8, 6, 1, 2, 7, 9, 10, 1, 6, 7, 7, 10, 9, 5, 2, 7, 10, 1, 6, 7, 10, 1, 2, 1, 5, 2, 3, 4, 6, 7, 8, 9, 10, 3, 9, 10, 1, 2, 3, 4, 5, 6, 7, 8, 9, 10, 10, 8, 6, 2, 6, 10, 1, 2, 3, 4, 5, 6, 8, 1, 2, 3, 4, 5, 6, 7, 9, 10, 4, 1, 2, 3, 5, 6, 7, 4, 9, 2, 4, 6, 8, 10, 1, 5, 2, 8, 9, 3, 9, 2, 4, 9, 6, 1, 2, 5, 6, 7, 8, 9, 10, 1, 3, 4, 6, 7, 1, 1, 8, 10, 6, 1, 2, 3, 4, 5, 6, 7, 8, 9, 10, 9, 2, 4, 8, 1, 7, 1, 2, 3, 4, 5, 6, 7, 8, 9, 10, 1, 2, 3, 5, 7, 3, 6, 8, 4, 4, 1, 2, 3, 4, 5, 6, 7, 8, 9, 10, 2, 3, 1, 2, 3, 4, 5, 6, 7, 8, 9, 10, 2, 1, 10, 4, 4, 4, 7, 8, 6, 8, 5, 9, 2, 10, 5, 4, 10, 5, 1, 10, 1, 2, 3, 4, 5, 6, 7, 8, 9, 10, 2, 4, 8, 9, 4, 3, 5, 6, 4, 7, 8, 1, 3, 4, 5, 6, 7, 8, 9, 1, 7, 9, 4, 7, 8, 9, 1, 2, 5, 7, 8, 9, 10, 3, 8, 1, 4, 7, 2, 4, 5, 6, 6, 2, 4, 7, 5, 9, 1, 3, 4, 6, 7, 8, 9, 10, 1, 2, 3, 4, 5, 6, 7, 8, 9, 10, 9, 2, 3, 4, 5, 6, 7, 8, 9, 6, 7, 10, 6, 2, 4, 4, 5, 4, 7, 8, 9, 2, 4, 5, 6, 9, 1, 5, 6, 6, 3, 6, 7, 10, 2, 1, 3, 7, 10, 1, 2, 3, 4, 5, 6, 7, 8, 9, 10, 1, 2, 3, 4, 5, 6, 7, 8, 9, 10, 2, 3, 6, 8, 10, 4, 10, 1, 2, 3, 5, 6, 7, 8, 9, 10, 3, 1, 1, 5, 1, 2, 3, 4, 5, 6, 7, 8, 9, 10, 1, 2, 3, 4, 5, 6, 7, 8, 9, 10, 2, 5], \"Freq\": [0.9023731256485727, 0.9032883547947151, 0.8631491304379282, 0.8568157974729661, 0.9161830203537584, 0.9404350823517844, 0.06441034769797985, 0.06441034769797985, 0.7085138246777782, 0.032205173848989924, 0.1288206953959597, 0.06658921720493918, 0.8989544322666789, 0.9209901422146656, 0.9705473853808266, 0.9312727692505883, 0.9432166324940968, 0.8639670760232115, 0.7593152026199014, 0.03796576013099507, 0.03796576013099507, 0.03796576013099507, 0.03796576013099507, 0.03796576013099507, 0.03796576013099507, 0.03796576013099507, 0.06072680805921898, 0.06072680805921898, 0.06072680805921898, 0.7287216967106278, 0.8884300494507161, 0.06834077303467047, 0.911335161382091, 0.03760999482977308, 0.03760999482977308, 0.03760999482977308, 0.8274198862550077, 0.01730062066499556, 0.01730062066499556, 0.01730062066499556, 0.05190186199498668, 0.6401229646048358, 0.10380372398997335, 0.12110434465496892, 0.894775586892945, 0.016852962163052956, 0.03370592432610591, 0.35391220542411206, 0.35391220542411206, 0.2527944324457943, 0.06410602828404252, 0.2243710989941488, 0.5769542545563826, 0.03205301414202126, 0.06410602828404252, 0.8902450810748946, 0.06489187647665619, 0.043261250984437456, 0.021630625492218728, 0.713810641243218, 0.021630625492218728, 0.021630625492218728, 0.021630625492218728, 0.021630625492218728, 0.06489187647665619, 0.057965003018072614, 0.057965003018072614, 0.8115100422530166, 0.9511996574934157, 0.8807509442292815, 0.05447534466118098, 0.8716055145788957, 0.9494689571768229, 0.027127684490766368, 0.059560010799840656, 0.8934001619976099, 0.9491538121279571, 0.9070924624595075, 0.9624317532771873, 0.81255720959234, 0.047797482917196474, 0.047797482917196474, 0.047797482917196474, 0.047797482917196474, 0.047797482917196474, 0.047797482917196474, 0.9210024817147016, 0.11987519320568205, 0.2523688278014359, 0.07571064834043076, 0.10725675181561024, 0.08832908973050256, 0.08201986903546667, 0.13880285529078973, 0.09463831042553845, 0.012618441390071794, 0.031546103475179485, 0.8236244737738554, 0.06812108396186137, 0.15327243891418807, 0.3235751488188415, 0.0851513549523267, 0.06812108396186137, 0.017030270990465342, 0.034060541980930684, 0.06812108396186137, 0.034060541980930684, 0.1703027099046534, 0.10754096563039621, 0.8603277250431697, 0.9450498951318647, 0.12195879586890125, 0.7317527752134075, 0.04065293195630042, 0.12195879586890125, 0.8798513337043258, 0.8848229538097421, 0.8248633309093029, 0.058958394209530716, 0.058958394209530716, 0.8843759131429607, 0.08481739756294983, 0.8481739756294984, 0.48541340134245237, 0.1180735300562722, 0.2361470601125444, 0.026238562234727154, 0.026238562234727154, 0.013119281117363577, 0.013119281117363577, 0.039357843352090735, 0.039357843352090735, 0.014747412726086494, 0.9438344144695356, 0.014747412726086494, 0.014747412726086494, 0.019361276774576136, 0.09680638387288068, 0.10326014279773939, 0.025815035699434847, 0.03872255354915227, 0.1677977320463265, 0.06453758924858712, 0.23878908021977235, 0.1613439731214678, 0.07744510709830454, 0.010597143783848904, 0.042388575135395616, 0.22254001946082697, 0.20134573189312915, 0.042388575135395616, 0.16955430054158246, 0.052985718919244515, 0.2649285945962226, 0.08420437313440932, 0.9262481044785025, 0.02516413091102333, 0.6291032727755832, 0.32713370184330326, 0.061055124768404426, 0.20060969566761455, 0.026166482043601898, 0.10466592817440759, 0.1569988922616114, 0.017444321362401264, 0.026166482043601898, 0.043610803406003165, 0.017444321362401264, 0.35760858792922595, 0.03021475333243847, 0.03021475333243847, 0.06042950666487694, 0.03021475333243847, 0.03021475333243847, 0.8157983399758386, 0.9134845332918942, 0.8773707348846059, 0.8622497965070625, 0.07838634513700568, 0.9293684717542814, 0.9206608491269913, 0.8508345458265456, 0.05867824453976177, 0.08801736680964264, 0.8257641025840757, 0.014487089519018873, 0.13038380567116986, 0.17744458167673421, 0.13115469080454267, 0.10800974536844692, 0.14658465442860652, 0.10800974536844692, 0.05400487268422346, 0.12343970899251075, 0.07714981812031922, 0.03857490906015961, 0.03857490906015961, 0.8342814638266616, 0.8903415541355061, 0.07130583027445718, 0.21391749082337153, 0.042783498164674305, 0.042783498164674305, 0.05704466421956574, 0.042783498164674305, 0.21391749082337153, 0.02852233210978287, 0.22817865687826297, 0.05704466421956574, 0.9590545415936891, 0.9620745043980088, 0.4281756662462043, 0.11169799989031416, 0.26062866641073307, 0.03723266663010472, 0.01861633331505236, 0.01861633331505236, 0.01861633331505236, 0.01861633331505236, 0.01861633331505236, 0.0930816665752618, 0.8430666618519419, 0.06935834871188733, 0.12484502768139719, 0.07629418358307606, 0.08323001845426478, 0.06935834871188733, 0.048550844098321125, 0.05548667896950986, 0.3190484040746817, 0.06242251384069859, 0.09016585332545352, 0.9202994865575569, 0.040013021154676386, 0.040013021154676386, 0.07486485395947859, 0.8235133935542645, 0.9024470407270025, 0.9329085361531266, 0.0431715833779916, 0.12951475013397482, 0.0431715833779916, 0.0431715833779916, 0.647573750669874, 0.0431715833779916, 0.0863431667559832, 0.0720533782610738, 0.1441067565221476, 0.0720533782610738, 0.6124537152191273, 0.0360266891305369, 0.0360266891305369, 0.7646144633411804, 0.07646144633411804, 0.03823072316705902, 0.03823072316705902, 0.03823072316705902, 0.025837414988898483, 0.1550244899333909, 0.025837414988898483, 0.025837414988898483, 0.07751224496669545, 0.05167482997779697, 0.46507346980017267, 0.18086190492228937, 0.9729535405335241, 0.8809146035087448, 0.8376576154500905, 0.06980480128750755, 0.8611527276685225, 0.04462087577697949, 0.9370383913165693, 0.961830895440002, 0.0693880702972142, 0.0693880702972142, 0.8326568435665703, 0.911912304192646, 0.018928861291387548, 0.4164349484105261, 0.018928861291387548, 0.09464430645693774, 0.018928861291387548, 0.037857722582775095, 0.24607519678803813, 0.037857722582775095, 0.1135731677483253, 0.8589972919577533, 0.959835217246211, 0.9555276225959837, 0.8463581583242934, 0.957438025188888, 0.039893251049537, 0.8787802634827782, 0.8471084974580828, 0.08916931552190345, 0.044584657760951725, 0.9102301457263248, 0.9501540907399089, 0.8119965600586815, 0.03866650285993722, 0.11599950857981164, 0.03866650285993722, 0.9572887019387156, 0.20008384282367872, 0.6502724891769558, 0.10004192141183936, 0.8595015822211537, 0.8403013701027215, 0.06002152643590868, 0.8617392305351319, 0.836985688073049, 0.07608960800664082, 0.04403107544547763, 0.04403107544547763, 0.04403107544547763, 0.836590433464075, 0.10936080115762425, 0.6561648069457455, 0.027340200289406064, 0.10936080115762425, 0.10936080115762425, 0.1420430172732589, 0.5681720690930356, 0.056817206909303565, 0.056817206909303565, 0.028408603454651783, 0.08522581036395535, 0.028408603454651783, 0.14777253377013738, 0.06896051575939745, 0.09851502251342492, 0.029554506754027477, 0.029554506754027477, 0.009851502251342492, 0.620644641834577, 0.9392045542487739, 0.05051427448298205, 0.05051427448298205, 0.05051427448298205, 0.05051427448298205, 0.7577141172447307, 0.8699344125930679, 0.9373205919268444, 0.9165160587819128, 0.7016551558549879, 0.1683972374051971, 0.11226482493679808, 0.8631660586583777, 0.8774404873525331, 0.03996570767477932, 0.15986283069911728, 0.7593484458208071, 0.0883734122000156, 0.883734122000156, 0.17554595065695205, 0.6319654223650274, 0.14043676052556164, 0.014724309014920382, 0.029448618029840765, 0.47117788847745223, 0.029448618029840765, 0.0883458540895223, 0.3239347983282484, 0.014724309014920382, 0.9161181405870803, 0.878954092393718, 0.9521554807036355, 0.8057662451050903, 0.05198491903903809, 0.025992459519519045, 0.05198491903903809, 0.025992459519519045, 0.025992459519519045, 0.025992459519519045, 0.08298136256972925, 0.8298136256972926, 0.9611580713649274, 0.07931909884831133, 0.8725100873314247, 0.05055945346955561, 0.05055945346955561, 0.05055945346955561, 0.8089512555128897, 0.21743886213988173, 0.7006363335618411, 0.04831974714219594, 0.2471107094923556, 0.13082331679007062, 0.31979032993128376, 0.014535924087785625, 0.14535924087785623, 0.02907184817557125, 0.014535924087785625, 0.02907184817557125, 0.0581436963511425, 0.014535924087785625, 0.04354516822838772, 0.783813028110979, 0.13063550468516316, 0.04354516822838772, 0.9478708475879473, 0.0326852016409637, 0.028975933840158827, 0.06374705444834942, 0.011590373536063531, 0.03477112060819059, 0.057951867680317654, 0.469410128210573, 0.057951867680317654, 0.011590373536063531, 0.011590373536063531, 0.2549882177933977, 0.06672466351691095, 0.06672466351691095, 0.08006959622029314, 0.17348412514396847, 0.06672466351691095, 0.013344932703382191, 0.013344932703382191, 0.5337973081352876, 0.931576028503554, 0.8605934384105128, 0.1229419197729304, 0.06396840073028141, 0.03198420036514071, 0.12793680146056283, 0.09595260109542211, 0.09595260109542211, 0.1759131020082739, 0.03198420036514071, 0.11194470127799247, 0.25587360292112565, 0.03198420036514071, 0.35621807915969883, 0.11449866830133178, 0.1653869653241459, 0.03816622276711059, 0.012722074255703531, 0.1272207425570353, 0.025444148511407062, 0.11449866830133178, 0.03816622276711059, 0.012722074255703531, 0.9350166701233888, 0.9001183333191134, 0.9088629972358282, 0.9139222980592073, 0.825090361778665, 0.05105985912756676, 0.05105985912756676, 0.05105985912756676, 0.8169577460410682, 0.8853957435287213, 0.019950862529862168, 0.15960690023889734, 0.09975431264931084, 0.09975431264931084, 0.23941035035834604, 0.039901725059724336, 0.359115525537519, 0.8757538883481, 0.8433216108740827, 0.05894684255862934, 0.8252557958208109, 0.9765082721006216, 0.05401280673183718, 0.918217714441232, 0.8737141403512334, 0.06581722063730394, 0.8556238682849513, 0.8779544552626577, 0.07316287127188814, 0.8680942976023869, 0.957165471980178, 0.08823085338209044, 0.8823085338209045, 0.0526915579298365, 0.02634577896491825, 0.02634577896491825, 0.0526915579298365, 0.34249512654393727, 0.44787824240361024, 0.0526915579298365, 0.08838320162161281, 0.08838320162161281, 0.058922134414408536, 0.6481434785584939, 0.058922134414408536, 0.029461067207204268, 0.029461067207204268, 0.029461067207204268, 0.029461067207204268, 0.9340119092962363, 0.9315944596365113, 0.10333364782487024, 0.05166682391243512, 0.10333364782487024, 0.6716687108616566, 0.8651299113699696, 0.061794993669283545, 0.061794993669283545, 0.9283647844385212, 0.9223300723066384, 0.05729765369374545, 0.028648826846872723, 0.028648826846872723, 0.05729765369374545, 0.05729765369374545, 0.4297324027030909, 0.17189296108123633, 0.1432441342343636, 0.028648826846872723, 0.8214594136848402, 0.05134121335530251, 0.05134121335530251, 0.9221513406046703, 0.0695757115740868, 0.9044842504631284, 0.029606963649534822, 0.04441044547430223, 0.07401740912383704, 0.04441044547430223, 0.08882089094860446, 0.014803481824767411, 0.059213927299069644, 0.1332313364229067, 0.4293009729182549, 0.07401740912383704, 0.9191027237247703, 0.07070020951729002, 0.9310589572867137, 0.11174711659976455, 0.122921828259741, 0.0782229816198352, 0.122921828259741, 0.245843656519482, 0.02234942331995291, 0.0782229816198352, 0.04469884663990582, 0.0782229816198352, 0.06704826995985873, 0.8835030795197406, 0.026468963398846277, 0.15881378039307767, 0.052937926797692554, 0.026468963398846277, 0.026468963398846277, 0.026468963398846277, 0.1323448169942314, 0.42350341438154043, 0.10587585359538511, 0.9265972123382408, 0.8422579741167223, 0.017340391858243456, 0.03468078371648691, 0.017340391858243456, 0.05202117557473037, 0.05202117557473037, 0.05202117557473037, 0.4335097964560864, 0.2947866615901388, 0.05202117557473037, 0.9259187702380695, 0.7168720621649377, 0.04216894483323163, 0.12650683449969488, 0.08433788966646326, 0.05293909231314812, 0.7940863846972218, 0.10587818462629624, 0.8464565528622005, 0.10157478634346405, 0.03256862247345464, 0.7165096944160021, 0.1628431123672732, 0.06513724494690928, 0.9191583201593282, 0.9517452421008963, 0.2273759628772544, 0.05867766783929146, 0.2933883391964573, 0.10268591871876005, 0.022004125439734297, 0.15402887807814009, 0.014669416959822865, 0.06601237631920288, 0.044008250879468594, 0.022004125439734297, 0.9182954373514417, 0.9179168502687187, 0.05211132034588091, 0.15633396103764272, 0.7816698051882136, 0.8461245662846852, 0.935285095039538, 0.8795640836483236, 0.06765877566525566, 0.07763815887193815, 0.8540197475913197, 0.9190429235426365, 0.896744436197974, 0.064053174014141, 0.9248981159818533, 0.8762291827599905, 0.8237115294025764, 0.10010278107471675, 0.800822248597734, 0.050051390537358374, 0.8582392032045824, 0.06055911456780962, 0.8478276039493348, 0.47239299295313003, 0.11809824823828251, 0.10333596720849719, 0.029524562059570627, 0.029524562059570627, 0.059049124119141254, 0.029524562059570627, 0.10333596720849719, 0.029524562059570627, 0.029524562059570627, 0.09078600819728873, 0.7716810696769542, 0.045393004098644364, 0.045393004098644364, 0.0604565836516456, 0.03627395019098736, 0.16927843422460767, 0.0604565836516456, 0.01209131673032912, 0.0604565836516456, 0.09673053384263296, 0.3506481851795445, 0.1330044840336203, 0.9328485226590311, 0.026855833346691865, 0.10742333338676746, 0.10742333338676746, 0.026855833346691865, 0.026855833346691865, 0.18799083342684306, 0.05371166669338373, 0.4834050002404536, 0.9630285014909175, 0.8204611347487595, 0.9403357129145435, 0.03242536941084633, 0.8232605202519413, 0.0522056545954301, 0.1566169637862903, 0.7308791643360214, 0.908542174329623, 0.9088156561197378, 0.031338470900680614, 0.94972496019831, 0.9123765839565532, 0.9531546871991639, 0.8484491119124249, 0.8624233829679848, 0.0420264161994523, 0.0840528323989046, 0.840528323989046, 0.04718356569609676, 0.6039496409100386, 0.018873426278438705, 0.1981709759236064, 0.018873426278438705, 0.004718356569609676, 0.018873426278438705, 0.08493041825297418, 0.004718356569609676, 0.08464116925672388, 0.8040911079388768, 0.04232058462836194, 0.10155844709218445, 0.3191836908611511, 0.029016699169195557, 0.08705009750758667, 0.1450834958459778, 0.11606679667678223, 0.014508349584597778, 0.058033398338391114, 0.014508349584597778, 0.10155844709218445, 0.20017534721201077, 0.025021918401501347, 0.2251972656135121, 0.07506575520450404, 0.4754164496285256, 0.7534730338653381, 0.16743845197007512, 0.13217323497028244, 0.6278228661088415, 0.06608661748514122, 0.011014436247523535, 0.06608661748514122, 0.011014436247523535, 0.011014436247523535, 0.04405774499009414, 0.02202887249504707, 0.011014436247523535, 0.8222490152738596, 0.8544810998460978, 0.038840049993004444, 0.038840049993004444, 0.013936994117562473, 0.013936994117562473, 0.25086589411612453, 0.5853537529376239, 0.027873988235124946, 0.06968497058781237, 0.013936994117562473, 0.027873988235124946, 0.04428866467622886, 0.02214433233811443, 0.155010326366801, 0.5536083084528608, 0.02214433233811443, 0.06643299701434328, 0.02214433233811443, 0.04428866467622886, 0.02214433233811443, 0.23830508374570578, 0.1682153532322629, 0.4205383830806572, 0.02803589220537715, 0.02803589220537715, 0.0560717844107543, 0.02803589220537715, 0.02803589220537715, 0.014017946102688575, 0.937035278659618, 0.9462019947916654, 0.07009946544230768, 0.26871461752884607, 0.3738638156923076, 0.011683244240384612, 0.08178270968269229, 0.023366488480769224, 0.04673297696153845, 0.04673297696153845, 0.07009946544230768, 0.011683244240384612, 0.5116911359590645, 0.051169113595906444, 0.23026101118157902, 0.07675367039385966, 0.12792278398976611, 0.06994380151817521, 0.10491570227726281, 0.13988760303635042, 0.13988760303635042, 0.5245785113863141, 0.9429720689314858, 0.936105423858862, 0.5584382631325789, 0.17949801314975752, 0.05983267104991918, 0.01994422368330639, 0.05983267104991918, 0.01994422368330639, 0.01994422368330639, 0.07977689473322556, 0.966777932070692, 0.08800814466077096, 0.8800814466077096, 0.9353686204181765, 0.1244018352667741, 0.06220091763338705, 0.7464110116006446, 0.02175272088299616, 0.02175272088299616, 0.43505441765992314, 0.04350544176599232, 0.28278537147895005, 0.04350544176599232, 0.04350544176599232, 0.08701088353198463, 0.02175272088299616, 0.05288100684720613, 0.03525400456480409, 0.03525400456480409, 0.03525400456480409, 0.3701670479304429, 0.1586430205416184, 0.017627002282402045, 0.05288100684720613, 0.17627002282402043, 0.03525400456480409, 0.9239275128753688, 0.06599482234824063, 0.3648575691295169, 0.08756581659108405, 0.18972593594734877, 0.014594302765180676, 0.2189145414777101, 0.014594302765180676, 0.014594302765180676, 0.043782908295542024, 0.014594302765180676, 0.02918860553036135, 0.8955553819354543, 0.11183240325369853, 0.5591620162684927, 0.0838743024402739, 0.027958100813424633, 0.027958100813424633, 0.027958100813424633, 0.027958100813424633, 0.13979050406712318, 0.027958100813424633, 0.8793774666800634, 0.9214330059532395, 0.061479776188690376, 0.9221966428303556, 0.0920500350846772, 0.0230125087711693, 0.7594127894485868, 0.0230125087711693, 0.0230125087711693, 0.0230125087711693, 0.0460250175423386, 0.0460250175423386, 0.6777246443934178, 0.053504577188954044, 0.12484401344089276, 0.01783485906298468, 0.08917429531492341, 0.9210293524691376, 0.023991931230465557, 0.007997310410155186, 0.031989241640620746, 0.03998655205077593, 0.4398520725585352, 0.35188165804682814, 0.023991931230465557, 0.015994620820310373, 0.07997310410155185, 0.06454571228542089, 0.06454571228542089, 0.8390942597104716, 0.03336343766950734, 0.03336343766950734, 0.13345375067802936, 0.13345375067802936, 0.06672687533901468, 0.5004515650426101, 0.06672687533901468, 0.8884281157155893, 0.9535147441400577, 0.32780656553591486, 0.058536886702841934, 0.24585492415193613, 0.023414754681136775, 0.058536886702841934, 0.07024426404341032, 0.011707377340568387, 0.1873180374490942, 0.023414754681136775, 0.8130491547798773, 0.16260983095597545, 0.05306489615766224, 0.03183893769459734, 0.05306489615766224, 0.05306489615766224, 0.18042064693605162, 0.10612979231532448, 0.23348554309371386, 0.03183893769459734, 0.06367787538919469, 0.18042064693605162, 0.06817341763689085, 0.1136223627281514, 0.053023769273137324, 0.12119718691002816, 0.0757482418187676, 0.1514964836375352, 0.0757482418187676, 0.09089789018252112, 0.10604753854627465, 0.1363468352737817, 0.20934266960064707, 0.09515575890938503, 0.1300462038428262, 0.05709345534563102, 0.16176479014595455, 0.06978088986688236, 0.05709345534563102, 0.09515575890938503, 0.06343717260625668, 0.060265313975943854, 0.13808536073880556, 0.8285121644328334, 0.9341775285692668, 0.8737396938506118, 0.8733406026594348, 0.9198327837721662, 0.0580083642265281, 0.0580083642265281, 0.8701254633979215, 0.035544591871091866, 0.0533168878066378, 0.08886147967772967, 0.14217836748436746, 0.08886147967772967, 0.035544591871091866, 0.2843567349687349, 0.1066337756132756, 0.14217836748436746, 0.017772295935545933, 0.9403473608343418, 0.11273533190130428, 0.78914732330913, 0.3655045772342877, 0.1353720656423288, 0.21659530502772606, 0.013537206564232879, 0.0676860328211644, 0.027074413128465757, 0.027074413128465757, 0.013537206564232879, 0.013537206564232879, 0.10829765251386303, 0.20272225416658227, 0.14102417681153548, 0.27323434257235, 0.017628022101441935, 0.017628022101441935, 0.08814011050720967, 0.008814011050720967, 0.026442033152162904, 0.03525604420288387, 0.1939082431158613, 0.1295859328117679, 0.08639062187451194, 0.4895468572889009, 0.04319531093725597, 0.08639062187451194, 0.028796873958170644, 0.028796873958170644, 0.028796873958170644, 0.028796873958170644, 0.04319531093725597, 0.9209952749753182, 0.11996710467734807, 0.11996710467734807, 0.679813593171639, 0.03998903489244936, 0.9368956394369929, 0.09150520278050918, 0.6405364194635642, 0.030501734260169725, 0.030501734260169725, 0.030501734260169725, 0.09150520278050918, 0.030501734260169725, 0.030501734260169725, 0.030501734260169725, 0.07840314668328295, 0.039201573341641476, 0.039201573341641476, 0.7056283201495466, 0.039201573341641476, 0.039201573341641476, 0.02003461259613076, 0.02003461259613076, 0.02003461259613076, 0.8614883416336228, 0.02003461259613076, 0.02003461259613076, 0.02003461259613076, 0.9552407816157444, 0.8569738818004042, 0.06592106783080033, 0.824205319917434, 0.07194711126473613, 0.6115504457502572, 0.21584133379420842, 0.035973555632368065, 0.035973555632368065, 0.8237902845241486, 0.02403280463440923, 0.02403280463440923, 0.02403280463440923, 0.12016402317204616, 0.26436085097850154, 0.3604920695161385, 0.2162952417096831, 0.922566119500284, 0.917075614158563, 0.9317680602353811, 0.04640457216208541, 0.04640457216208541, 0.04640457216208541, 0.18561828864834165, 0.6032594381071104, 0.04640457216208541, 0.04640457216208541, 0.8616002859131006, 0.0662769450702385, 0.0662769450702385, 0.0662769450702385, 0.9084232906484376, 0.04231481502179544, 0.04231481502179544, 0.8886111154577042, 0.9522868136038453, 0.08879270356213222, 0.8879270356213222, 0.826729148852055, 0.9283763548515706, 0.8435753365535716, 0.07029794471279763, 0.9677624858030456, 0.9692120141508369, 0.26042983164394035, 0.16276864477746272, 0.5208596632878807, 0.03255372895549254, 0.3084722567033558, 0.12988305545404458, 0.3328253296009892, 0.032470763863511144, 0.024353072897633356, 0.008117690965877786, 0.024353072897633356, 0.0568238367611445, 0.06494152772702229, 0.016235381931755572, 0.05881150242413966, 0.7645495315138156, 0.15606420892060635, 0.026010701486767724, 0.026010701486767724, 0.754310343116264, 0.026010701486767724, 0.8610579011092608, 0.916906434025898, 0.44053598392544235, 0.2386236579596146, 0.018355665996893433, 0.036711331993786865, 0.22026799196272118, 0.018355665996893433, 0.018355665996893433, 0.5534725413361533, 0.030189411345608364, 0.04025254846081115, 0.0805050969216223, 0.050315685576013944, 0.13082078249763623, 0.04025254846081115, 0.030189411345608364, 0.020126274230405576, 0.020126274230405576, 0.5028200741834976, 0.04788762611271406, 0.035915719584535544, 0.0838033456972496, 0.10774715875360663, 0.0838033456972496, 0.04788762611271406, 0.04788762611271406, 0.011971906528178516, 0.011971906528178516, 0.05427115103601585, 0.2894461388587512, 0.5246211266814865, 0.12663268575070366, 0.01809038367867195, 0.06586354503937988, 0.06586354503937988, 0.8562260855119385, 0.1932409208924601, 0.7343154993913483, 0.038648184178492015, 0.8619396495368103, 0.4949284808212094, 0.07634535076497379, 0.2816880183397309, 0.028958581324645228, 0.03422377792912618, 0.010530393208961902, 0.010530393208961902, 0.039488974533607134, 0.02369338472016428, 0.0026325983022404756, 0.3124292170666868, 0.5901440766815195, 0.011571452483951363, 0.023142904967902726, 0.011571452483951363, 0.03471435745185409, 0.011571452483951363, 0.39629717164993644, 0.060545401224295844, 0.12109080244859169, 0.027520636920134477, 0.038528891688188266, 0.09907429291248411, 0.016512382152080684, 0.2201650953610758, 0.016512382152080684, 0.0055041273840268955, 0.4925854530802853, 0.20011284031386592, 0.015393295408758915, 0.23089943113138373, 0.03078659081751783, 0.015393295408758915, 0.20416464915865848, 0.686735638079124, 0.03712084530157427, 0.055681267952361405, 0.046531867777498064, 0.674712082773722, 0.023265933888749032, 0.023265933888749032, 0.13959560333249418, 0.046531867777498064, 0.046531867777498064, 0.046531867777498064, 0.10139472515875253, 0.8618551638493965, 0.8636408410635249, 0.08225150867271665, 0.03871174808224111, 0.8903702058915454, 0.03871174808224111, 0.04674609323132174, 0.7946835849324696, 0.09349218646264348, 0.04674609323132174, 0.19917670364041712, 0.08386387521701774, 0.37738743847657985, 0.07338089081489052, 0.020965968804254435, 0.052414922010636085, 0.1257958128255266, 0.03144895320638165, 0.020965968804254435, 0.04463992001613325, 0.022319960008066624, 0.9151183603307316, 0.05707768932083397, 0.34246613592500386, 0.028538844660416986, 0.5422380485479228, 0.4940564515963512, 0.054895161288483464, 0.2634967741847206, 0.010979032257696694, 0.021958064515393387, 0.010979032257696694, 0.021958064515393387, 0.10979032257696693, 0.035597863211488556, 0.011865954403829518, 0.035597863211488556, 0.4746381761531807, 0.3322467233072265, 0.011865954403829518, 0.011865954403829518, 0.08306168082680662, 0.7673246978504709, 0.21923562795727738, 0.02805922046710555, 0.5331251888750055, 0.02805922046710555, 0.0561184409342111, 0.2805922046710555, 0.02805922046710555, 0.17172696037814036, 0.7727713217016317, 0.04293174009453509, 0.8426790870691296, 0.9014706077423912, 0.9264501206578364, 0.8462459831154403, 0.942352703274671, 0.0820271130864858, 0.9022982439513438, 0.7837583090352088, 0.15675166180704175, 0.7824964575838409, 0.055892604113131496, 0.055892604113131496, 0.055892604113131496, 0.91156855937839, 0.06077123729189266, 0.05048671662265536, 0.02524335831132768, 0.6310839577831919, 0.30292029973593215, 0.861846030335768, 0.08115644409704309, 0.892720885067474, 0.9318453006393329, 0.06085617148013401, 0.08790335880463801, 0.06761796831126, 0.21637749859603203, 0.16904492077815003, 0.11495054612914202, 0.074379765142386, 0.10818874929801602, 0.03380898415563, 0.06085617148013401, 0.010160012341922242, 0.07112008639345568, 0.1524001851288336, 0.020320024683844484, 0.010160012341922242, 0.020320024683844484, 0.18288022215460034, 0.020320024683844484, 0.40640049367688963, 0.09144011107730017, 0.15140502034205083, 0.1324793927992945, 0.0851653239424036, 0.12301657902791631, 0.1324793927992945, 0.05677688262826906, 0.15140502034205083, 0.09462813771378177, 0.009462813771378177, 0.06623969639964725, 0.05252303489814256, 0.0656537936226782, 0.02626151744907128, 0.5908841426041038, 0.01313075872453564, 0.07878455234721383, 0.1313075872453564, 0.01313075872453564, 0.03628488299152727, 0.03628488299152727, 0.14513953196610907, 0.6168430108559635, 0.14513953196610907, 0.07917658109947935, 0.8709423920942728, 0.06780971121266534, 0.06780971121266534, 0.8137165345519841, 0.8244017248576824, 0.07335795367736996, 0.8802954441284395, 0.05523420802924825, 0.05523420802924825, 0.05523420802924825, 0.05523420802924825, 0.05523420802924825, 0.7180447043802273, 0.8823958531890821, 0.06302827522779159, 0.8598212243592056, 0.9515526999946438, 0.9651337112858911, 0.120398368874909, 0.601991844374545, 0.08026557924993934, 0.16053115849987867, 0.10022052693878901, 0.0400882107755156, 0.12026463232654681, 0.0400882107755156, 0.0801764215510312, 0.38083800236739823, 0.0801764215510312, 0.0400882107755156, 0.12026463232654681, 0.1355991007854995, 0.6508756837703975, 0.08135946047129969, 0.0271198201570999, 0.0271198201570999, 0.0271198201570999, 0.918131899473761, 0.9221410590288882, 0.018905433903991024, 0.03781086780798205, 0.03781086780798205, 0.39701411198381154, 0.09452716951995513, 0.3592032441758295, 0.018905433903991024, 0.018905433903991024, 0.9186036787609836, 0.9077800934790039, 0.0779874537737654, 0.8578619915114194, 0.043423275545509135, 0.043423275545509135, 0.08684655109101827, 0.043423275545509135, 0.7816189598191645, 0.9712092340049222, 0.8916045118298402, 0.014632147014021282, 0.007316073507010641, 0.05121251454907449, 0.07316073507010641, 0.8194002327851918, 0.029264294028042565, 0.007316073507010641, 0.04410682735122569, 0.7498160649708366, 0.17642730940490275, 0.04410682735122569, 0.08259695077896036, 0.08259695077896036, 0.04129847538948018, 0.04129847538948018, 0.04129847538948018, 0.7433725570106432, 0.08116274358551707, 0.8927901794406877, 0.04741868659622045, 0.853536358731968, 0.04741868659622045, 0.8641247678229538, 0.9369687997716486, 0.9234476725868243, 0.900275918706677, 0.7712668204950909, 0.035057582749776856, 0.035057582749776856, 0.10517274824933058, 0.035057582749776856, 0.04122418376971041, 0.7420353078547874, 0.16489673507884164, 0.11359457305752224, 0.5452539506761067, 0.09087565844601779, 0.13631348766902668, 0.06815674383451334, 0.022718914611504448, 0.08478498391134569, 0.042392491955672844, 0.805457347157784, 0.9081219014365302, 0.05097264026963045, 0.05097264026963045, 0.05097264026963045, 0.8155622443140872, 0.7014206256988424, 0.026977716373032402, 0.18884401461122682, 0.053955432746064805, 0.06033723705514336, 0.5732037520238619, 0.06033723705514336, 0.06033723705514336, 0.18101171116543008, 0.06033723705514336, 0.03016861852757168, 0.9088155517230188, 0.057090707757916796, 0.11418141551583359, 0.7992699086108351, 0.06856794448496199, 0.06856794448496199, 0.8913832783045059, 0.9332488199149861, 0.05832805124468663, 0.9464518722354425, 0.947157740971417, 0.9377695188587822, 0.11453382675657656, 0.03817794225219219, 0.07635588450438438, 0.07635588450438438, 0.6872029605394594, 0.8992506631331304, 0.8744487078785188, 0.9222394569833426, 0.927960582874122, 0.8803847417869223, 0.058692316119128146, 0.8658497428779979, 0.057723316191866526, 0.6978206205105981, 0.03489103102552991, 0.13956412410211963, 0.03489103102552991, 0.03489103102552991, 0.9600512531826836, 0.14615668599233103, 0.10439763285166502, 0.020879526570333005, 0.020879526570333005, 0.4593495845473261, 0.04175905314066601, 0.08351810628133202, 0.10439763285166502, 0.020879526570333005, 0.9130185120382741, 0.2586116810779132, 0.13211683707241217, 0.21925772960953513, 0.05903092720256715, 0.0646529202694783, 0.05059793760220041, 0.01967697573418905, 0.06746391680293388, 0.10962886480476756, 0.01686597920073347, 0.7814708947590616, 0.04341504970883676, 0.13024514912651028, 0.9672362695412573, 0.9381766746523055, 0.9260283986306459, 0.6286786499565212, 0.04490561785403723, 0.1571696624891303, 0.022452808927018616, 0.06735842678105584, 0.022452808927018616, 0.04490561785403723, 0.022452808927018616, 0.8561799100235605, 0.8561767749916942, 0.9317739343319871, 0.08942781210472611, 0.044713906052363056, 0.804850308942535, 0.044713906052363056, 0.9310354198102053, 0.897370803850236, 0.9508692079590799, 0.9469615904717525, 0.8828261766365296, 0.08385912672789826, 0.8385912672789826, 0.9471029287688322, 0.8824052318904232, 0.9294918567066405, 0.8848342715856677, 0.06806417473735905, 0.029307578142514657, 0.08792273442754397, 0.029307578142514657, 0.5568439847077785, 0.26376820328263195, 0.042577650604478295, 0.042577650604478295, 0.8941306626940442, 0.9190378908541179, 0.9238998034391008, 0.05466289000787036, 0.8746062401259258, 0.02966329517635972, 0.02966329517635972, 0.05932659035271944, 0.32629624693995696, 0.4449494276453958, 0.02966329517635972, 0.02966329517635972, 0.05932659035271944, 0.0776906312693547, 0.1553812625387094, 0.4661437876161282, 0.1294843854489245, 0.1294843854489245, 0.8237271429347854, 0.8632690912840973, 0.9153847901153793, 0.04598039060388966, 0.04598039060388966, 0.04598039060388966, 0.04598039060388966, 0.13794117181166898, 0.5977450778505656, 0.04598039060388966, 0.04598039060388966, 0.9562636577251639, 0.9074465398747843, 0.08249513998861675, 0.1326488405945956, 0.04421628019819853, 0.7074604831711765, 0.04421628019819853, 0.8722346716877843, 0.18861732060674893, 0.10478740033708274, 0.07335118023595792, 0.05239370016854137, 0.10216771532865566, 0.22005354070787375, 0.12312519539607221, 0.0497740151601143, 0.03405590510955189, 0.05239370016854137, 0.1922679432564881, 0.08545241922510582, 0.4272620961255291, 0.021363104806276456, 0.06408931441882937, 0.06408931441882937, 0.06408931441882937, 0.021363104806276456, 0.021363104806276456, 0.04272620961255291, 0.9540646514276859, 0.8798702651119813, 0.08658516258263405, 0.10823145322829256, 0.2092474762413656, 0.04329258129131702, 0.10101602301307305, 0.14430860430439008, 0.08658516258263405, 0.12987774387395107, 0.06493887193697553, 0.03607715107609752, 0.9059783530123358, 0.04072317790242642, 0.04072317790242642, 0.08144635580485284, 0.7737403801461019, 0.04072317790242642, 0.04072317790242642, 0.8646858492505385, 0.06176327494646704, 0.6891996452832048, 0.13783992905664094, 0.09189328603776063, 0.06050698268672717, 0.5294360985088628, 0.10588721970177255, 0.04538023701504538, 0.10588721970177255, 0.07563372835840897, 0.04538023701504538, 0.015126745671681792, 0.015126745671681792, 0.9313606617073058, 0.8615686358561551, 0.06764708764419314, 0.8794121393745108, 0.026852927037931087, 0.26852927037931085, 0.013426463518965544, 0.10741170815172435, 0.41622036908793186, 0.053705854075862175, 0.08055878111379326, 0.013426463518965544, 0.013426463518965544, 0.05013021199125119, 0.10026042398250239, 0.5514323319037632, 0.22558595396063036, 0.07519531798687679, 0.8581726740795538, 0.8728991719130187, 0.06234994085092991, 0.64141685748463, 0.2806198751495256, 0.08017710718557874, 0.03642916373108757, 0.054643745596631356, 0.018214581865543786, 0.03642916373108757, 0.16393123678989407, 0.018214581865543786, 0.20036040052098164, 0.1275020730588065, 0.30964789171424434, 0.018214581865543786, 0.8963169809586711, 0.13011331974521828, 0.21685553290869714, 0.607195492144352, 0.02548492349419406, 0.02548492349419406, 0.02548492349419406, 0.05096984698838812, 0.6880929343432396, 0.1274246174709703, 0.05096984698838812, 0.9074857614809975, 0.05671786009256234, 0.9791168923865673, 0.1642944478504132, 0.032858889570082636, 0.6243189018315701, 0.032858889570082636, 0.13143555828033054, 0.1459873212751326, 0.7591340706306894, 0.05839492851005303, 0.12822730851237876, 0.8548487234158585, 0.8428938318380387, 0.8936600246660867, 0.06216715096178286, 0.12433430192356572, 0.7460058115413943, 0.3491201834972281, 0.4945869266210732, 0.08728004587430703, 0.029093348624769012, 0.06600147948879945, 0.8580192333543928, 0.0794673882159395, 0.8741412703753345, 0.040261707278433555, 0.12078512183530067, 0.040261707278433555, 0.040261707278433555, 0.040261707278433555, 0.08052341455686711, 0.6844490237333705, 0.040261707278433555, 0.06405962963544437, 0.8327751852607768, 0.06405962963544437, 0.12299782684663613, 0.06918627760123282, 0.04612418506748855, 0.1076230984908066, 0.04612418506748855, 0.023062092533744274, 0.04612418506748855, 0.08456100595706234, 0.3074945671165903, 0.13837255520246564, 0.9150836346889931, 0.9211849988096866, 0.9266549539064266, 0.9122625186971802, 0.8797829689855061, 0.07998026990777328, 0.027250496799758987, 0.08175149039927695, 0.08175149039927695, 0.027250496799758987, 0.2180039743980719, 0.49050894239566173, 0.08175149039927695, 0.1559196880235985, 0.03897992200589963, 0.05846988300884945, 0.07795984401179926, 0.09744980501474908, 0.19489961002949815, 0.2923494150442472, 0.019489961002949814, 0.03897992200589963, 0.9663488797364761, 0.12054134354125189, 0.04018044784708396, 0.02009022392354198, 0.02009022392354198, 0.04018044784708396, 0.7433382851710533, 0.03335214734955947, 0.9005079784381057, 0.8186524164349634, 0.028229393670171157, 0.028229393670171157, 0.05645878734034231, 0.028229393670171157, 0.07440321386569727, 0.8928385663883673, 0.9244505630314421, 0.12969100486918755, 0.7781460292151253, 0.8612569138769804, 0.0662505318366908, 0.9344044451388812, 0.04459410001035166, 0.9364761002173848, 0.8817073065545064, 0.05908375917365925, 0.029541879586829627, 0.05908375917365925, 0.029541879586829627, 0.05908375917365925, 0.05908375917365925, 0.6499213509102518, 0.05908375917365925, 0.03950900648956593, 0.23705403893739557, 0.6716531103226208, 0.03950900648956593, 0.9146922845884614, 0.9427119160971228, 0.9397845856263535, 0.9234818822166843, 0.8279018228144458, 0.8835354025816934, 0.12124866184444896, 0.04041622061481632, 0.06062433092222448, 0.02020811030740816, 0.02020811030740816, 0.5254108679926122, 0.08083244122963264, 0.04041622061481632, 0.02020811030740816, 0.06062433092222448, 0.9529775169661289, 0.9686087929244488, 0.9187415878450577, 0.9126935294186478, 0.08450303087840459, 0.845030308784046, 0.10894754758163189, 0.10894754758163189, 0.23770374017810594, 0.18818212764100054, 0.14856483761131623, 0.06933025755194756, 0.039617290029684324, 0.059425935044526486, 0.029712967522263243, 0.019808645014842162, 0.045751240667422435, 0.045751240667422435, 0.13725372200226732, 0.6862686100113365, 0.045751240667422435, 0.7938583864949685, 0.14009265644028857, 0.9617769723656481, 0.9462513863385634, 0.9010733118728018, 0.12004167972750622, 0.25827149274705885, 0.13822981301955262, 0.09094066646023198, 0.08366541314341343, 0.032738639925683516, 0.0873030398018227, 0.08002778648500415, 0.03637626658409279, 0.06547727985136703, 0.06838397910693024, 0.8206077492831629, 0.45052078712606525, 0.09460936529647371, 0.1802083148504261, 0.03153645509882457, 0.07658853381143109, 0.022526039356303262, 0.009010415742521306, 0.03604166297008522, 0.07658853381143109, 0.027031247227563917, 0.9597341602765029, 0.890371045663497, 0.05564819035396856, 0.9181164453765633, 0.9208788801065362, 0.9115159769707817, 0.5578481850683824, 0.38620258966272625, 0.07870348567397523, 0.8657383424137275, 0.9559787816930803, 0.8430790161449663, 0.8172994330335123, 0.17027071521531506, 0.9020688386980461, 0.06490714182972207, 0.908699985616109, 0.9777393486662362, 0.9729277382581729, 0.9418287812152484, 0.11711701108495429, 0.026026002463323174, 0.19519501847492382, 0.1301300123166159, 0.06506500615830794, 0.03903900369498477, 0.06506500615830794, 0.05205200492664635, 0.06506500615830794, 0.2602600246332318, 0.044609348189907805, 0.08921869637981561, 0.044609348189907805, 0.7583589192284326, 0.9602234939870994, 0.7447849441981776, 0.0827538826886864, 0.0827538826886864, 0.906550604795378, 0.055331410378435274, 0.8853025660549644, 0.0637663990274485, 0.2040524768878352, 0.0382598394164691, 0.3060787153317528, 0.127532798054897, 0.1020262384439176, 0.0127532798054897, 0.127532798054897, 0.056877905963850284, 0.796290683493904, 0.11375581192770057, 0.0706501650140867, 0.03532508250704335, 0.7771518151549537, 0.10597524752113005, 0.10924995151609561, 0.027312487879023902, 0.1911874151531673, 0.0819374636370717, 0.054624975758047804, 0.46431229394340634, 0.027312487879023902, 0.9488372501616965, 0.8759413865129699, 0.9170749090651936, 0.9507485917419428, 0.043215845079179215, 0.04000284991325661, 0.6400455986121057, 0.12000854973976983, 0.12000854973976983, 0.9220072516243211, 0.8860999867164555, 0.06329285619403253, 0.06329285619403253, 0.6294036531784373, 0.33321369874152557, 0.13773948267346026, 0.02295658044557671, 0.04591316089115342, 0.04591316089115342, 0.16069606311903697, 0.02295658044557671, 0.4361750284659575, 0.11478290222788355, 0.05172732477283473, 0.3448488318188982, 0.034484883181889824, 0.08621220795472455, 0.05172732477283473, 0.08621220795472455, 0.22415174068228383, 0.034484883181889824, 0.05172732477283473, 0.034484883181889824, 0.9066361032788479, 0.19103224438737978, 0.06367741479579325, 0.015919353698948313, 0.09551612219368989, 0.1114354758926382, 0.4457419035705528, 0.07959676849474158, 0.015919353698948313, 0.830033000556049, 0.10375412506950613, 0.05187706253475306, 0.8848307392959068, 0.9291504720708572, 0.9584193820600463, 0.896989078860882, 0.8903846572843693, 0.8470550768335864, 0.015686205126547895, 0.015686205126547895, 0.12548964101238316, 0.8064829506883935, 0.04244647108886282, 0.04244647108886282, 0.04244647108886282, 0.04244647108886282, 0.07268815469382899, 0.8722578563259478, 0.9454871343222541, 0.9255641448605653, 0.04579950176999845, 0.1831980070799938, 0.04579950176999845, 0.6869925265499768, 0.9431446380231604, 0.9700738950554495, 0.060673948955003935, 0.060673948955003935, 0.7887613364150512, 0.04182808705780542, 0.06274213058670813, 0.10457021764451356, 0.04182808705780542, 0.08365617411561084, 0.04182808705780542, 0.04182808705780542, 0.46010895763585963, 0.06274213058670813, 0.04182808705780542, 0.04200915405642611, 0.14283112379184879, 0.04200915405642611, 0.17643844703698966, 0.016803661622570444, 0.016803661622570444, 0.10082196973542266, 0.008401830811285222, 0.302465909206268, 0.15963478541441922, 0.9755228034714558, 0.05750518218213993, 0.805072550549959, 0.05750518218213993, 0.05750518218213993, 0.9232041562044383, 0.8251513471811872, 0.027216804326417345, 0.05443360865283469, 0.027216804326417345, 0.08165041297925203, 0.027216804326417345, 0.027216804326417345, 0.4354688692226775, 0.24495123893775608, 0.08165041297925203, 0.9511040873231047, 0.878549415579042, 0.8861221550560912, 0.9504033068993141, 0.09197068542098329, 0.058526799813353, 0.054346314112399215, 0.3177169132724877, 0.06688777121526057, 0.05016582841144543, 0.06688777121526057, 0.04180485700953786, 0.10451214252384464, 0.14631699953338248, 0.12505001030855079, 0.12505001030855079, 0.0673346209353735, 0.2789577153036902, 0.12505001030855079, 0.038476926248784855, 0.0673346209353735, 0.038476926248784855, 0.04809615781098107, 0.08657308405976592, 0.918816907611399, 0.8227597933134173], \"Term\": [\"abc network\", \"according gartner\", \"according study\", \"admitted side\", \"affairs commissioner\", \"alarm bells\", \"alastair campbell\", \"alastair campbell\", \"alastair campbell\", \"alastair campbell\", \"alastair campbell\", \"alfa romeo\", \"alfa romeo\", \"allow foreign\", \"already use\", \"also failed\", \"also looked\", \"also pointed\", \"also used\", \"also used\", \"also used\", \"also used\", \"also used\", \"also used\", \"also used\", \"also used\", \"amount spam\", \"amount spam\", \"amount spam\", \"amount spam\", \"annual income\", \"annual income\", \"another way\", \"anti doping\", \"anti doping\", \"anti doping\", \"anti doping\", \"anti virus\", \"anti virus\", \"anti virus\", \"anti virus\", \"anti virus\", \"anti virus\", \"anti virus\", \"anywhere else\", \"ask jeeves\", \"ask jeeves\", \"ask jeeves\", \"ask jeeves\", \"ask jeeves\", \"asylum seekers\", \"asylum seekers\", \"asylum seekers\", \"asylum seekers\", \"asylum seekers\", \"attention design\", \"attorney general\", \"attorney general\", \"attorney general\", \"attorney general\", \"attorney general\", \"attorney general\", \"attorney general\", \"attorney general\", \"attorney general\", \"awards including\", \"awards including\", \"awards including\", \"awards sunday\", \"band busted\", \"bank america\", \"bank america\", \"bank china\", \"bank china\", \"bank told\", \"bank told\", \"barclays capital\", \"baroness morgan\", \"based desktop\", \"battery life\", \"battery life\", \"battery life\", \"battery life\", \"battery life\", \"battery life\", \"battery life\", \"bbc leads\", \"bbc news\", \"bbc news\", \"bbc news\", \"bbc news\", \"bbc news\", \"bbc news\", \"bbc news\", \"bbc news\", \"bbc news\", \"bbc news\", \"bbc pundit\", \"bbc radio\", \"bbc radio\", \"bbc radio\", \"bbc radio\", \"bbc radio\", \"bbc radio\", \"bbc radio\", \"bbc radio\", \"bbc radio\", \"bbc radio\", \"benitez said\", \"benitez said\", \"better analysts\", \"better job\", \"better job\", \"better job\", \"better job\", \"better leader\", \"birmingham february\", \"black players\", \"blair brown\", \"blair brown\", \"blair brown\", \"blair lib\", \"blair lib\", \"blair said\", \"blair said\", \"blair said\", \"blair said\", \"blair said\", \"blair said\", \"blair said\", \"blair said\", \"blair said\", \"blu ray\", \"blu ray\", \"blu ray\", \"blu ray\", \"bn bn\", \"bn bn\", \"bn bn\", \"bn bn\", \"bn bn\", \"bn bn\", \"bn bn\", \"bn bn\", \"bn bn\", \"bn bn\", \"bn euros\", \"bn euros\", \"bn euros\", \"bn euros\", \"bn euros\", \"bn euros\", \"bn euros\", \"bn euros\", \"bn november\", \"bn november\", \"bot nets\", \"bot nets\", \"bot nets\", \"box office\", \"box office\", \"box office\", \"box office\", \"box office\", \"box office\", \"box office\", \"box office\", \"box office\", \"box office\", \"brian driscoll\", \"brian driscoll\", \"brian driscoll\", \"brian driscoll\", \"brian driscoll\", \"brian driscoll\", \"broke human\", \"budget expected\", \"called bot\", \"called bot\", \"called denial\", \"came us\", \"camera phone\", \"camera phone\", \"camera phone\", \"camera phones\", \"camera phones\", \"camera phones\", \"can not\", \"can not\", \"can not\", \"can not\", \"can not\", \"can not\", \"can not\", \"can not\", \"can not\", \"can not\", \"case one\", \"central london\", \"champions league\", \"champions league\", \"champions league\", \"champions league\", \"champions league\", \"champions league\", \"champions league\", \"champions league\", \"champions league\", \"champions league\", \"change things\", \"channel five\", \"charles kennedy\", \"charles kennedy\", \"charles kennedy\", \"charles kennedy\", \"charles kennedy\", \"charles kennedy\", \"charles kennedy\", \"charles kennedy\", \"charles kennedy\", \"charles kennedy\", \"chart debut\", \"chief executive\", \"chief executive\", \"chief executive\", \"chief executive\", \"chief executive\", \"chief executive\", \"chief executive\", \"chief executive\", \"chief executive\", \"chief executive\", \"china construction\", \"china construction\", \"china construction\", \"china economy\", \"china economy\", \"china one\", \"cinema award\", \"civil servants\", \"civil servants\", \"civil servants\", \"civil servants\", \"civil servants\", \"civil servants\", \"civil servants\", \"civil service\", \"civil service\", \"civil service\", \"civil service\", \"civil service\", \"civil service\", \"climate change\", \"climate change\", \"climate change\", \"climate change\", \"climate change\", \"clive woodward\", \"clive woodward\", \"clive woodward\", \"clive woodward\", \"clive woodward\", \"clive woodward\", \"clive woodward\", \"clive woodward\", \"close gap\", \"cm cm\", \"collins said\", \"collins said\", \"come across\", \"come dancing\", \"come dancing\", \"come go\", \"comments made\", \"comments made\", \"comments made\", \"comments may\", \"company said\", \"company said\", \"company said\", \"company said\", \"company said\", \"company said\", \"company said\", \"company said\", \"company said\", \"completed first\", \"concerns said\", \"connect corporate\", \"connell ireland\", \"construction bank\", \"construction bank\", \"consumer goods\", \"contrast said\", \"contrast said\", \"contrast said\", \"converted try\", \"corporate networks\", \"costs could\", \"costs could\", \"costs could\", \"costs could\", \"could indicate\", \"could lose\", \"could lose\", \"could lose\", \"counter attack\", \"countries could\", \"countries could\", \"court london\", \"criminally insane\", \"criminally insane\", \"cup winner\", \"cup winner\", \"cup winner\", \"cup winner\", \"dance music\", \"dance music\", \"dance music\", \"dance music\", \"dance music\", \"david blunkett\", \"david blunkett\", \"david blunkett\", \"david blunkett\", \"david blunkett\", \"david blunkett\", \"david blunkett\", \"davis cup\", \"davis cup\", \"davis cup\", \"davis cup\", \"davis cup\", \"davis cup\", \"davis cup\", \"day lewis\", \"de marigny\", \"de marigny\", \"de marigny\", \"de marigny\", \"de marigny\", \"deal help\", \"deal said\", \"decision retire\", \"definition dvds\", \"definition dvds\", \"definition dvds\", \"definition images\", \"deliver better\", \"denial service\", \"denial service\", \"denial service\", \"deputy chairman\", \"deputy chairman\", \"desktop search\", \"desktop search\", \"desktop search\", \"deutsche boerse\", \"deutsche boerse\", \"deutsche boerse\", \"deutsche boerse\", \"deutsche boerse\", \"deutsche boerse\", \"deutsche boerse\", \"device use\", \"devices bought\", \"different films\", \"digital cameras\", \"digital cameras\", \"digital cameras\", \"digital cameras\", \"digital cameras\", \"digital cameras\", \"digital cameras\", \"disappeared said\", \"disappeared said\", \"dollar slide\", \"dollar trading\", \"dollar trading\", \"doping agency\", \"doping agency\", \"doping agency\", \"doping agency\", \"double olympic\", \"double olympic\", \"double olympic\", \"downing street\", \"downing street\", \"downing street\", \"downing street\", \"downing street\", \"downing street\", \"downing street\", \"downing street\", \"downing street\", \"downing street\", \"downlink packet\", \"downlink packet\", \"downlink packet\", \"downlink packet\", \"dvd format\", \"dvd format\", \"e mail\", \"e mail\", \"e mail\", \"e mail\", \"e mail\", \"e mail\", \"e mail\", \"e mail\", \"e mail\", \"e mail\", \"e mails\", \"e mails\", \"e mails\", \"e mails\", \"e mails\", \"e mails\", \"e mails\", \"e mails\", \"early goal\", \"economic expansion\", \"economic expansion\", \"economic growth\", \"economic growth\", \"economic growth\", \"economic growth\", \"economic growth\", \"economic growth\", \"economic growth\", \"economic growth\", \"economic growth\", \"economic growth\", \"election campaign\", \"election campaign\", \"election campaign\", \"election campaign\", \"election campaign\", \"election campaign\", \"election campaign\", \"election campaign\", \"election campaign\", \"election campaign\", \"elections mr\", \"elena bovina\", \"enduring love\", \"engineering firm\", \"england black\", \"enhancing drugs\", \"enhancing drugs\", \"enhancing drugs\", \"enhancing drugs\", \"europe wait\", \"euros bn\", \"euros bn\", \"euros bn\", \"euros bn\", \"euros bn\", \"euros bn\", \"euros bn\", \"eurosceptic party\", \"even day\", \"every type\", \"every type\", \"experts believe\", \"f secure\", \"f secure\", \"face tough\", \"failed live\", \"failed live\", \"fake versions\", \"fake versions\", \"farina elia\", \"fender stratocaster\", \"field take\", \"field take\", \"file sharing\", \"file sharing\", \"file sharing\", \"file sharing\", \"file sharing\", \"file sharing\", \"file sharing\", \"film festival\", \"film festival\", \"film festival\", \"film festival\", \"film festival\", \"film festival\", \"film festival\", \"film festival\", \"film festival\", \"film wasp\", \"financial products\", \"financial services\", \"financial services\", \"financial services\", \"financial services\", \"finished second\", \"finished second\", \"finished second\", \"finished version\", \"finnish security\", \"firm said\", \"firm said\", \"firm said\", \"firm said\", \"firm said\", \"firm said\", \"firm said\", \"firm said\", \"firm said\", \"firm sophos\", \"firm sophos\", \"firm sophos\", \"firms warning\", \"first elected\", \"first elected\", \"first half\", \"first half\", \"first half\", \"first half\", \"first half\", \"first half\", \"first half\", \"first half\", \"first half\", \"first half\", \"first president\", \"first president\", \"first term\", \"first time\", \"first time\", \"first time\", \"first time\", \"first time\", \"first time\", \"first time\", \"first time\", \"first time\", \"first time\", \"first wta\", \"fly half\", \"fly half\", \"fly half\", \"fly half\", \"fly half\", \"fly half\", \"fly half\", \"fly half\", \"fly half\", \"former prime\", \"four last\", \"fourth quarter\", \"fourth quarter\", \"fourth quarter\", \"fourth quarter\", \"fourth quarter\", \"fourth quarter\", \"fourth quarter\", \"fourth quarter\", \"fourth quarter\", \"france russia\", \"free personal\", \"free personal\", \"free personal\", \"free personal\", \"fuel prices\", \"fuel prices\", \"fuel prices\", \"fundamental lack\", \"fundamental lack\", \"g networks\", \"g networks\", \"g networks\", \"g networks\", \"gadgets cheaper\", \"gara penalty\", \"general election\", \"general election\", \"general election\", \"general election\", \"general election\", \"general election\", \"general election\", \"general election\", \"general election\", \"general election\", \"generation dvd\", \"generation dvds\", \"george michael\", \"george michael\", \"george michael\", \"get behind\", \"get core\", \"get full\", \"get full\", \"get know\", \"get know\", \"giant unilever\", \"globe awards\", \"globe awards\", \"gm said\", \"gold medals\", \"gold world\", \"goldsmith said\", \"goldsmith said\", \"goldsmith said\", \"google launched\", \"gordon arcy\", \"gordon arcy\", \"gordon brown\", \"gordon brown\", \"gordon brown\", \"gordon brown\", \"gordon brown\", \"gordon brown\", \"gordon brown\", \"gordon brown\", \"gordon brown\", \"gordon brown\", \"government mr\", \"government mr\", \"government mr\", \"government mr\", \"grand slam\", \"grand slam\", \"grand slam\", \"grand slam\", \"grand slam\", \"grand slam\", \"grand slam\", \"grand slam\", \"grand slam\", \"grant dean\", \"great britain\", \"great britain\", \"great britain\", \"great britain\", \"great britain\", \"great britain\", \"great britain\", \"great britain\", \"grew bn\", \"growth december\", \"halifax said\", \"halifax said\", \"handed first\", \"hansard society\", \"hansard society\", \"hansard society\", \"hard time\", \"hd dvd\", \"hd dvd\", \"header wide\", \"held hollywood\", \"help staff\", \"helped return\", \"hemisphere squad\", \"hide seek\", \"hide seek\", \"hide seek\", \"high definition\", \"high definition\", \"high definition\", \"high definition\", \"high definition\", \"high definition\", \"high definition\", \"high definition\", \"high definition\", \"high fuel\", \"high fuel\", \"high fuel\", \"high speed\", \"high speed\", \"high speed\", \"high speed\", \"high speed\", \"high speed\", \"high speed\", \"high speed\", \"high speed\", \"high speed\", \"higher education\", \"higher education\", \"higher education\", \"higher education\", \"higher education\", \"home entertainment\", \"home entertainment\", \"home secretary\", \"home secretary\", \"home secretary\", \"home secretary\", \"home secretary\", \"home secretary\", \"home secretary\", \"home secretary\", \"home secretary\", \"home secretary\", \"hotel accommodation\", \"house price\", \"house price\", \"house price\", \"house prices\", \"house prices\", \"house prices\", \"house prices\", \"house prices\", \"house prices\", \"house prices\", \"house prices\", \"housing market\", \"housing market\", \"housing market\", \"housing market\", \"housing market\", \"housing market\", \"housing market\", \"housing market\", \"housing market\", \"howard said\", \"howard said\", \"howard said\", \"howard said\", \"howard said\", \"howard said\", \"howard said\", \"howard said\", \"howard said\", \"however recent\", \"hugh grant\", \"human rights\", \"human rights\", \"human rights\", \"human rights\", \"human rights\", \"human rights\", \"human rights\", \"human rights\", \"human rights\", \"human rights\", \"ibm said\", \"ibm said\", \"ibm said\", \"ibm said\", \"ibm said\", \"identity theft\", \"identity theft\", \"identity theft\", \"identity theft\", \"identity theft\", \"imports rose\", \"income bn\", \"income tax\", \"income tax\", \"income tax\", \"income tax\", \"income tax\", \"income tax\", \"income tax\", \"income tax\", \"indecency laws\", \"indoor outdoor\", \"indoor outdoor\", \"information come\", \"interactive tv\", \"interactive tv\", \"interactive tv\", \"interest rate\", \"interest rate\", \"interest rate\", \"interest rate\", \"interest rate\", \"interest rate\", \"interest rate\", \"interest rate\", \"interest rate\", \"interest rates\", \"interest rates\", \"interest rates\", \"interest rates\", \"interest rates\", \"interest rates\", \"interest rates\", \"interest rates\", \"interest rates\", \"interest rates\", \"introduce free\", \"introduce free\", \"iraq war\", \"iraq war\", \"iraq war\", \"iraq war\", \"iraq war\", \"iraq war\", \"iraq war\", \"iraq war\", \"iraq war\", \"iraq war\", \"ireland captain\", \"jack straw\", \"jack straw\", \"jack straw\", \"jack straw\", \"jack straw\", \"jack straw\", \"jack straw\", \"jack straw\", \"jack straw\", \"jailed life\", \"jamie cullum\", \"jowell said\", \"jowell said\", \"kelly holmes\", \"kelly holmes\", \"kelly holmes\", \"kelly holmes\", \"kelly holmes\", \"kelly holmes\", \"kelly holmes\", \"kelly holmes\", \"kennedy said\", \"kennedy said\", \"kennedy said\", \"kennedy said\", \"kennedy said\", \"kevin mcdonald\", \"kilroy silk\", \"kilroy silk\", \"kilroy silk\", \"kilroy silk\", \"kilroy silk\", \"kilroy silk\", \"kilroy silk\", \"kilroy silk\", \"kilroy silk\", \"km h\", \"km h\", \"km h\", \"knee injury\", \"knee injury\", \"knee injury\", \"knee injury\", \"knee injury\", \"knee injury\", \"knee injury\", \"kolo toure\", \"labour conservative\", \"labour party\", \"labour party\", \"labour party\", \"labour party\", \"labour party\", \"labour party\", \"labour party\", \"labour party\", \"labour party\", \"lack trust\", \"lack trust\", \"last month\", \"last month\", \"last month\", \"last month\", \"last month\", \"last month\", \"last month\", \"last month\", \"last month\", \"last month\", \"last week\", \"last week\", \"last week\", \"last week\", \"last week\", \"last week\", \"last week\", \"last week\", \"last week\", \"last week\", \"last year\", \"last year\", \"last year\", \"last year\", \"last year\", \"last year\", \"last year\", \"last year\", \"last year\", \"last year\", \"late goal\", \"late goal\", \"lawyer said\", \"leader eurosceptic\", \"league games\", \"least month\", \"left back\", \"left back\", \"left back\", \"legal action\", \"legal action\", \"legal action\", \"legal action\", \"legal action\", \"legal action\", \"legal action\", \"legal action\", \"legal action\", \"legal action\", \"legal challenges\", \"lg electronics\", \"lg electronics\", \"lib dem\", \"lib dem\", \"lib dem\", \"lib dem\", \"lib dem\", \"lib dem\", \"lib dem\", \"lib dem\", \"lib dem\", \"lib dem\", \"lib dems\", \"lib dems\", \"lib dems\", \"lib dems\", \"lib dems\", \"lib dems\", \"lib dems\", \"lib dems\", \"lib dems\", \"lib dems\", \"liberal democrats\", \"liberal democrats\", \"liberal democrats\", \"liberal democrats\", \"liberal democrats\", \"liberal democrats\", \"liberal democrats\", \"liberal democrats\", \"liberal democrats\", \"liberal democrats\", \"like good\", \"little britain\", \"little britain\", \"little britain\", \"little britain\", \"longer able\", \"look like\", \"look like\", \"look like\", \"look like\", \"look like\", \"look like\", \"look like\", \"look like\", \"look like\", \"lord falconer\", \"lord falconer\", \"lord falconer\", \"lord falconer\", \"lord falconer\", \"lord falconer\", \"lord goldsmith\", \"lord goldsmith\", \"lord goldsmith\", \"lord goldsmith\", \"lord goldsmith\", \"lord goldsmith\", \"lord goldsmith\", \"lost last\", \"lot easier\", \"lot easier\", \"low tax\", \"lowest level\", \"lowest level\", \"lowest level\", \"lowest level\", \"lowest level\", \"made films\", \"mail messages\", \"mail messages\", \"mail messages\", \"mail messages\", \"mail messages\", \"mail messages\", \"mail messages\", \"mail security\", \"make back\", \"make mark\", \"make money\", \"make money\", \"make money\", \"make money\", \"make money\", \"make money\", \"make money\", \"manager players\", \"manager players\", \"manager players\", \"manager players\", \"many things\", \"marion jones\", \"marion jones\", \"marion jones\", \"market analyst\", \"market seen\", \"market seen\", \"massachusetts institute\", \"meeting g\", \"meeting wednesday\", \"meeting wednesday\", \"mefin davies\", \"member public\", \"men women\", \"men women\", \"men women\", \"men women\", \"michael howard\", \"michael howard\", \"michael howard\", \"michael howard\", \"michael howard\", \"michael howard\", \"michael howard\", \"michael howard\", \"michael howard\", \"michael howard\", \"mike tindall\", \"mike tindall\", \"military action\", \"military action\", \"military action\", \"military action\", \"military action\", \"million americans\", \"mobile gaming\", \"mobile operators\", \"mobile operators\", \"mobile operators\", \"mobile operators\", \"mobile operators\", \"mobile operators\", \"mobile operators\", \"mobile phone\", \"mobile phone\", \"mobile phone\", \"mobile phone\", \"mobile phone\", \"mobile phone\", \"mobile phone\", \"mobile phone\", \"mobile phone\", \"mobile phone\", \"mobile phones\", \"mobile phones\", \"mobile phones\", \"mobile phones\", \"mobile phones\", \"mobile phones\", \"mobile phones\", \"mobile phones\", \"mobile phones\", \"mobile phones\", \"mobile tv\", \"mobile tv\", \"mobile tv\", \"mobile tv\", \"mobile tv\", \"month ban\", \"month ban\", \"month ban\", \"mortgage lending\", \"mortgage lending\", \"mortgage lending\", \"mp former\", \"mr blair\", \"mr blair\", \"mr blair\", \"mr blair\", \"mr blair\", \"mr blair\", \"mr blair\", \"mr blair\", \"mr blair\", \"mr blair\", \"mr blunkett\", \"mr blunkett\", \"mr blunkett\", \"mr blunkett\", \"mr blunkett\", \"mr blunkett\", \"mr blunkett\", \"mr brown\", \"mr brown\", \"mr brown\", \"mr brown\", \"mr brown\", \"mr brown\", \"mr brown\", \"mr brown\", \"mr brown\", \"mr brown\", \"mr bush\", \"mr bush\", \"mr bush\", \"mr bush\", \"mr bush\", \"mr bush\", \"mr campbell\", \"mr campbell\", \"mr campbell\", \"mr campbell\", \"mr clarke\", \"mr clarke\", \"mr clarke\", \"mr clarke\", \"mr clarke\", \"mr clarke\", \"mr clarke\", \"mr clarke\", \"mr doherty\", \"mr doherty\", \"mr fox\", \"mr fox\", \"mr hockney\", \"mr hockney\", \"mr hockney\", \"mr houston\", \"mr houston\", \"mr houston\", \"mr houston\", \"mr howard\", \"mr howard\", \"mr howard\", \"mr howard\", \"mr howard\", \"mr howard\", \"mr howard\", \"mr howard\", \"mr howard\", \"mr jackson\", \"mr jackson\", \"mr jackson\", \"mr johnson\", \"mr johnson\", \"mr johnson\", \"mr johnson\", \"mr kennedy\", \"mr kennedy\", \"mr kennedy\", \"mr kennedy\", \"mr kennedy\", \"mr kennedy\", \"mr kennedy\", \"mr kennedy\", \"mr kilroy\", \"mr kilroy\", \"mr kilroy\", \"mr kilroy\", \"mr kilroy\", \"mr kilroy\", \"mr kilroy\", \"mr kilroy\", \"mr macklin\", \"mr macklin\", \"mr prescott\", \"mr prescott\", \"mr prescott\", \"mr prescott\", \"mr prescott\", \"mr prescott\", \"ms jowell\", \"ms jowell\", \"ms jowell\", \"murphy peter\", \"music hall\", \"music store\", \"nations economic\", \"natural resources\", \"nearly decade\", \"nearly decade\", \"nets used\", \"nets used\", \"new jobs\", \"new jobs\", \"new jobs\", \"new jobs\", \"new laws\", \"new laws\", \"new machines\", \"new machines\", \"new machines\", \"new machines\", \"new market\", \"new network\", \"new network\", \"new tool\", \"new york\", \"new york\", \"new york\", \"new york\", \"new york\", \"new york\", \"new york\", \"new york\", \"new york\", \"new york\", \"new zealand\", \"new zealand\", \"new zealand\", \"new zealand\", \"new zealand\", \"new zealand\", \"new zealand\", \"new zealand\", \"new zealand\", \"new zealand\", \"news website\", \"news website\", \"news website\", \"news website\", \"news website\", \"news website\", \"news website\", \"news website\", \"news website\", \"news website\", \"next generation\", \"next generation\", \"next generation\", \"next generation\", \"next generation\", \"next generation\", \"next generation\", \"next generation\", \"nine years\", \"nine years\", \"nine years\", \"nine years\", \"nine years\", \"nominations announced\", \"nominations announced\", \"nominations year\", \"nominations year\", \"nominations year\", \"november fall\", \"number different\", \"number different\", \"number four\", \"number four\", \"number four\", \"number four\", \"number four\", \"number four\", \"observers believe\", \"observers believe\", \"offered new\", \"office deputy\", \"official data\", \"oil company\", \"oil company\", \"oil company\", \"oil company\", \"oil prices\", \"oil prices\", \"oil prices\", \"oil prices\", \"oil prices\", \"oil prices\", \"oil prices\", \"oil prices\", \"oil prices\", \"olympic champion\", \"olympic champion\", \"olympic champion\", \"olympic champion\", \"olympic champion\", \"olympic champion\", \"one fifth\", \"open books\", \"open source\", \"open source\", \"open source\", \"open source\", \"open source\", \"open source\", \"open source\", \"open source\", \"operating loss\", \"opportunity thank\", \"option buy\", \"option buy\", \"oscar nominee\", \"oscar nominee\", \"oscar nominee\", \"oscar nominee\", \"oscar nominee\", \"owns stake\", \"oxford university\", \"p p\", \"p p\", \"p p\", \"p p\", \"p p\", \"p p\", \"p p\", \"packet access\", \"packet access\", \"packet access\", \"packet access\", \"paid tribute\", \"paid tribute\", \"paid tribute\", \"paid tribute\", \"paid tribute\", \"paid tribute\", \"parents year\", \"parents year\", \"parliamentary answer\", \"parliamentary answer\", \"parliamentary answer\", \"part bbc\", \"part new\", \"party got\", \"people handing\", \"people see\", \"people see\", \"people see\", \"people see\", \"people see\", \"people watch\", \"people watch\", \"people watch\", \"per second\", \"per second\", \"per second\", \"per second\", \"per second\", \"per second\", \"per share\", \"per share\", \"per share\", \"perform strongly\", \"performance enhancing\", \"performance enhancing\", \"performance enhancing\", \"performance enhancing\", \"personal care\", \"personal care\", \"personal care\", \"personal care\", \"personal data\", \"personal data\", \"personal data\", \"personal data\", \"personal data\", \"personal data\", \"personal data\", \"personality year\", \"phishing attacks\", \"phishing attacks\", \"phishing attacks\", \"phones also\", \"phones also\", \"phones also\", \"phones different\", \"phones different\", \"place january\", \"plan take\", \"played games\", \"playing games\", \"playing games\", \"playing games\", \"playing games\", \"playing games\", \"pop band\", \"popular music\", \"portable gadgets\", \"portable hard\", \"post christmas\", \"post christmas\", \"post war\", \"post war\", \"pre election\", \"pre election\", \"pre election\", \"pre election\", \"pre election\", \"presidential campaign\", \"previous year\", \"previous year\", \"previous year\", \"previous year\", \"previous year\", \"previous year\", \"previous year\", \"previous year\", \"previous year\", \"prices fell\", \"prime minister\", \"prime minister\", \"prime minister\", \"prime minister\", \"prime minister\", \"prime minister\", \"prime minister\", \"prime minister\", \"prime minister\", \"prime minister\", \"prime ministers\", \"prime ministers\", \"prime ministers\", \"prison convicted\", \"producer prices\", \"protection spyware\", \"public services\", \"public services\", \"public services\", \"public services\", \"public services\", \"public services\", \"public services\", \"public services\", \"questions racism\", \"racist chanting\", \"range bluetooth\", \"range radio\", \"range radio\", \"range radio\", \"range radio\", \"rate lowest\", \"rate three\", \"read said\", \"reconstruction efforts\", \"record level\", \"relief africa\", \"relief africa\", \"remain popular\", \"remain said\", \"remaining members\", \"report government\", \"report government\", \"retail sales\", \"retail sales\", \"retail sales\", \"retail sales\", \"retail sales\", \"retirement age\", \"retirement age\", \"retirement age\", \"return growth\", \"rings return\", \"rise since\", \"rise since\", \"robert kilroy\", \"robert kilroy\", \"robert kilroy\", \"robert kilroy\", \"robert kilroy\", \"robert kilroy\", \"robert kilroy\", \"robert kilroy\", \"rose bn\", \"rose bn\", \"rose bn\", \"rose bn\", \"rose bn\", \"round bye\", \"routine drugs\", \"said australian\", \"said company\", \"said company\", \"said company\", \"said company\", \"said company\", \"said company\", \"said company\", \"said company\", \"said determined\", \"said fiat\", \"said fiat\", \"said lord\", \"said lord\", \"said lord\", \"said lord\", \"said mps\", \"said mr\", \"said mr\", \"said mr\", \"said mr\", \"said mr\", \"said mr\", \"said mr\", \"said mr\", \"said mr\", \"said mr\", \"said people\", \"said people\", \"said people\", \"said people\", \"said people\", \"said people\", \"said people\", \"said people\", \"said people\", \"said people\", \"said prices\", \"said review\", \"said would\", \"said would\", \"said would\", \"said would\", \"said would\", \"said would\", \"said would\", \"said would\", \"said would\", \"said would\", \"sal oppenheim\", \"sales rose\", \"sales rose\", \"sales rose\", \"sales rose\", \"sales rose\", \"sales rose\", \"say lib\", \"say lib\", \"say sorry\", \"say sorry\", \"say sorry\", \"says mr\", \"says mr\", \"says mr\", \"says mr\", \"says mr\", \"says mr\", \"says mr\", \"says mr\", \"says mr\", \"scarlett johansson\", \"scientists work\", \"scotland murrayfield\", \"scotland murrayfield\", \"search engine\", \"search engine\", \"search engine\", \"search engine\", \"search engine\", \"search engine\", \"search engine\", \"search engine\", \"search engine\", \"search engines\", \"search engines\", \"search engines\", \"search engines\", \"search engines\", \"search giant\", \"search site\", \"search site\", \"search sites\", \"search sites\", \"search sites\", \"second half\", \"second half\", \"second half\", \"second half\", \"second half\", \"second half\", \"second half\", \"second half\", \"second half\", \"second half\", \"second series\", \"secretary tessa\", \"secretary tessa\", \"secretary tessa\", \"security firm\", \"security firm\", \"security firm\", \"security firm\", \"security firm\", \"security firm\", \"security firm\", \"security threat\", \"security threat\", \"see get\", \"see going\", \"see going\", \"see going\", \"see going\", \"see going\", \"sensitive information\", \"sensitive information\", \"sensitive information\", \"service attacks\", \"service attacks\", \"set tries\", \"sharp rise\", \"short film\", \"short film\", \"short film\", \"short range\", \"short range\", \"short range\", \"short range\", \"show presenter\", \"show presenter\", \"showed exports\", \"showed exports\", \"sir clive\", \"sir clive\", \"sir clive\", \"sir clive\", \"sir clive\", \"sir clive\", \"sir clive\", \"sir clive\", \"six minutes\", \"six minutes\", \"six minutes\", \"six nations\", \"six nations\", \"six nations\", \"six nations\", \"six nations\", \"six nations\", \"six nations\", \"six nations\", \"six nations\", \"six nations\", \"social environmental\", \"soft drinks\", \"software movement\", \"someone followed\", \"sophos said\", \"sophos said\", \"source software\", \"source software\", \"source software\", \"source software\", \"source software\", \"source software\", \"source software\", \"south korea\", \"south korea\", \"south korea\", \"south korea\", \"south korea\", \"south korea\", \"south korea\", \"south korea\", \"south korea\", \"spending bn\", \"spider man\", \"spider man\", \"spider man\", \"spider man\", \"spider man\", \"spider man\", \"standard life\", \"standard life\", \"star wars\", \"star wars\", \"star wars\", \"star wars\", \"star wars\", \"statement lord\", \"statement lord\", \"still take\", \"store sales\", \"store sales\", \"street media\", \"street media\", \"street said\", \"strictly come\", \"strictly come\", \"subject line\", \"subs used\", \"subs used\", \"subs used\", \"subs used\", \"subs used\", \"subs used\", \"subs used\", \"subs used\", \"subscription service\", \"subscription service\", \"subscription service\", \"subscription service\", \"suite programs\", \"support given\", \"swap data\", \"systems said\", \"tackle corruption\", \"take break\", \"take part\", \"take part\", \"take part\", \"take part\", \"take part\", \"take part\", \"take part\", \"take part\", \"take part\", \"take part\", \"taken legal\", \"taken new\", \"technology next\", \"television programme\", \"test versions\", \"test versions\", \"three years\", \"three years\", \"three years\", \"three years\", \"three years\", \"three years\", \"three years\", \"three years\", \"three years\", \"three years\", \"time time\", \"time time\", \"time time\", \"time time\", \"time time\", \"times likely\", \"times likely\", \"times monday\", \"title last\", \"title sheffield\", \"told bbc\", \"told bbc\", \"told bbc\", \"told bbc\", \"told bbc\", \"told bbc\", \"told bbc\", \"told bbc\", \"told bbc\", \"told bbc\", \"told guardian\", \"told guardian\", \"tony blair\", \"tony blair\", \"tony blair\", \"tony blair\", \"tony blair\", \"tony blair\", \"tony blair\", \"tony blair\", \"tony blair\", \"tony blair\", \"tools allow\", \"top fees\", \"top fees\", \"toshiba hd\", \"touching void\", \"tour australia\", \"track field\", \"track field\", \"trade gap\", \"trade gap\", \"traditionally quiet\", \"tries geordan\", \"trust tony\", \"trust tony\", \"tv appearance\", \"tv film\", \"tv film\", \"tv mobile\", \"tv radio\", \"two banks\", \"two years\", \"two years\", \"two years\", \"two years\", \"two years\", \"two years\", \"two years\", \"two years\", \"two years\", \"two years\", \"uk athletics\", \"uk athletics\", \"uk athletics\", \"uk athletics\", \"uk house\", \"unemployment rate\", \"unemployment rate\", \"unemployment rate\", \"us added\", \"us anti\", \"us anti\", \"us economy\", \"us economy\", \"us economy\", \"us economy\", \"us economy\", \"us economy\", \"us economy\", \"us economy\", \"us policy\", \"us policy\", \"us policy\", \"us retail\", \"us retail\", \"us retail\", \"us retail\", \"us tv\", \"us tv\", \"us tv\", \"us tv\", \"us tv\", \"us tv\", \"us tv\", \"us way\", \"usa track\", \"use phone\", \"use search\", \"use search\", \"used help\", \"used help\", \"used help\", \"used help\", \"users must\", \"users search\", \"users search\", \"users search\", \"van persie\", \"van persie\", \"vera drake\", \"vera drake\", \"vera drake\", \"vera drake\", \"vera drake\", \"vera drake\", \"vera drake\", \"vera drake\", \"vice president\", \"vice president\", \"vice president\", \"vice president\", \"vice president\", \"vice president\", \"vice president\", \"vice president\", \"vice president\", \"vice president\", \"victory italy\", \"video games\", \"video games\", \"video games\", \"video games\", \"video games\", \"video games\", \"video games\", \"video games\", \"virus firm\", \"virus firm\", \"virus firm\", \"virus firms\", \"vote said\", \"voters register\", \"votes cast\", \"wait get\", \"wal mart\", \"wal mart\", \"wal mart\", \"wal mart\", \"want watch\", \"want watch\", \"want watch\", \"want watch\", \"want watch\", \"war ii\", \"war ii\", \"warning windows\", \"web logs\", \"wells fargo\", \"wells fargo\", \"wells fargo\", \"wells fargo\", \"windows pcs\", \"winning double\", \"work closely\", \"work closely\", \"work closely\", \"world biggest\", \"world biggest\", \"world biggest\", \"world biggest\", \"world biggest\", \"world biggest\", \"world biggest\", \"world biggest\", \"world biggest\", \"world biggest\", \"world cup\", \"world cup\", \"world cup\", \"world cup\", \"world cup\", \"world cup\", \"world cup\", \"world cup\", \"world cup\", \"world cup\", \"would free\", \"would fund\", \"would fund\", \"would fund\", \"would fund\", \"would seem\", \"would spend\", \"year earlier\", \"year earlier\", \"year earlier\", \"year earlier\", \"year earlier\", \"year earlier\", \"year earlier\", \"year earlier\", \"year earlier\", \"year election\", \"year globally\", \"year know\", \"year nominees\", \"year old\", \"year old\", \"year old\", \"year old\", \"year old\", \"year old\", \"year old\", \"year old\", \"year old\", \"year old\", \"years ago\", \"years ago\", \"years ago\", \"years ago\", \"years ago\", \"years ago\", \"years ago\", \"years ago\", \"years ago\", \"years ago\", \"years developing\", \"years main\"]}, \"R\": 30, \"lambda.step\": 0.01, \"plot.opts\": {\"xlab\": \"PC1\", \"ylab\": \"PC2\"}, \"topic.order\": [1, 5, 4, 8, 10, 9, 3, 6, 2, 7]};\n",
       "\n",
       "function LDAvis_load_lib(url, callback){\n",
       "  var s = document.createElement('script');\n",
       "  s.src = url;\n",
       "  s.async = true;\n",
       "  s.onreadystatechange = s.onload = callback;\n",
       "  s.onerror = function(){console.warn(\"failed to load library \" + url);};\n",
       "  document.getElementsByTagName(\"head\")[0].appendChild(s);\n",
       "}\n",
       "\n",
       "if(typeof(LDAvis) !== \"undefined\"){\n",
       "   // already loaded: just create the visualization\n",
       "   !function(LDAvis){\n",
       "       new LDAvis(\"#\" + \"ldavis_el36301406658709516966558466192\", ldavis_el36301406658709516966558466192_data);\n",
       "   }(LDAvis);\n",
       "}else if(typeof define === \"function\" && define.amd){\n",
       "   // require.js is available: use it to load d3/LDAvis\n",
       "   require.config({paths: {d3: \"https://d3js.org/d3.v5\"}});\n",
       "   require([\"d3\"], function(d3){\n",
       "      window.d3 = d3;\n",
       "      LDAvis_load_lib(\"https://cdn.jsdelivr.net/gh/bmabey/pyLDAvis@3.3.1/pyLDAvis/js/ldavis.v3.0.0.js\", function(){\n",
       "        new LDAvis(\"#\" + \"ldavis_el36301406658709516966558466192\", ldavis_el36301406658709516966558466192_data);\n",
       "      });\n",
       "    });\n",
       "}else{\n",
       "    // require.js not available: dynamically load d3 & LDAvis\n",
       "    LDAvis_load_lib(\"https://d3js.org/d3.v5.js\", function(){\n",
       "         LDAvis_load_lib(\"https://cdn.jsdelivr.net/gh/bmabey/pyLDAvis@3.3.1/pyLDAvis/js/ldavis.v3.0.0.js\", function(){\n",
       "                 new LDAvis(\"#\" + \"ldavis_el36301406658709516966558466192\", ldavis_el36301406658709516966558466192_data);\n",
       "            })\n",
       "         });\n",
       "}\n",
       "</script>"
      ],
      "text/plain": [
       "<IPython.core.display.HTML object>"
      ]
     },
     "execution_count": 111,
     "metadata": {},
     "output_type": "execute_result"
    }
   ],
   "source": [
    "pyLDAvis.enable_notebook()\n",
    "vis = pyLDAvis.gensim_models.prepare(best_model, corpus, id2word)\n",
    "pyLDAvis.display(vis)"
   ]
  },
  {
   "cell_type": "markdown",
   "metadata": {},
   "source": [
    "### (6) 토픽 배정\n",
    "- prob: 각 토픽에 대한 확률을 배정 (True) vs 가장 확률이 높은 토픽 이름만 배정 (False)\n",
    "- save_file: 토픽 배정 결과를 csv파일로 저장"
   ]
  },
  {
   "cell_type": "code",
   "execution_count": 115,
   "metadata": {},
   "outputs": [],
   "source": [
    "prob = True\n",
    "save_file = False"
   ]
  },
  {
   "cell_type": "code",
   "execution_count": 116,
   "metadata": {},
   "outputs": [],
   "source": [
    "if prob:\n",
    "    probability = np.zeros((len(best_model[corpus]), best_topic_num))\n",
    "    for doc in range(len(best_model[corpus])):\n",
    "        for topic, proba in best_model[corpus][doc]:\n",
    "            probability[doc, topic] = proba\n",
    "        \n",
    "    probability = pd.DataFrame(probability)\n",
    "    probability.columns = ['Topic' + str(num) for num in range(1, best_topic_num + 1)]\n",
    "    if save_file:\n",
    "        probability.to_csv('topic_porb.csv', index = False)"
   ]
  },
  {
   "cell_type": "code",
   "execution_count": 146,
   "metadata": {},
   "outputs": [],
   "source": [
    "lda_topic_assignment = [max(p,key=lambda item: item[1]) for p in best_model[corpus]]\n",
    "lda_topic_assignment = [topic + 1 for (topic, proba) in lda_topic_assignment]"
   ]
  },
  {
   "cell_type": "code",
   "execution_count": 154,
   "metadata": {},
   "outputs": [
    {
     "data": {
      "text/plain": [
       "<BarContainer object of 10 artists>"
      ]
     },
     "execution_count": 154,
     "metadata": {},
     "output_type": "execute_result"
    },
    {
     "data": {
      "image/png": "[encoded data removed]",
      "text/plain": [
       "<Figure size 720x432 with 1 Axes>"
      ]
     },
     "metadata": {
      "needs_background": "light"
     },
     "output_type": "display_data"
    }
   ],
   "source": [
    "plt.figure(figsize=(10,6))\n",
    "w = collections.Counter(lda_topic_assignment)\n",
    "w = sorted(w.items())\n",
    "keys = [key for (key, value) in w]\n",
    "values = [value for (key, value) in w]\n",
    "plt.bar(['Topic-' + str(key) for key in keys], values)"
   ]
  },
  {
   "cell_type": "markdown",
   "metadata": {},
   "source": [
    "## 4.2 BerTopic"
   ]
  },
  {
   "cell_type": "markdown",
   "metadata": {},
   "source": [
    "### (1) Option 설정\n",
    "- nr_topics: 토픽 수 ('auto': 최적)\n",
    "- language: ['english', 'multilingual']"
   ]
  },
  {
   "cell_type": "code",
   "execution_count": 39,
   "metadata": {},
   "outputs": [],
   "source": [
    "nr_topics = 10 \n",
    "language = 'english'"
   ]
  },
  {
   "cell_type": "markdown",
   "metadata": {},
   "source": [
    "### (2) BerTopic 생성"
   ]
  },
  {
   "cell_type": "code",
   "execution_count": 40,
   "metadata": {},
   "outputs": [],
   "source": [
    "from bertopic import BERTopic\n",
    "model = BERTopic(nr_topics=nr_topics, language=language)\n",
    "topics, probabilities = model.fit_transform(preprocessed_text)"
   ]
  },
  {
   "cell_type": "code",
   "execution_count": 41,
   "metadata": {},
   "outputs": [
    {
     "data": {
      "text/html": [
       "<div>\n",
       "<style scoped>\n",
       "    .dataframe tbody tr th:only-of-type {\n",
       "        vertical-align: middle;\n",
       "    }\n",
       "\n",
       "    .dataframe tbody tr th {\n",
       "        vertical-align: top;\n",
       "    }\n",
       "\n",
       "    .dataframe thead th {\n",
       "        text-align: right;\n",
       "    }\n",
       "</style>\n",
       "<table border=\"1\" class=\"dataframe\">\n",
       "  <thead>\n",
       "    <tr style=\"text-align: right;\">\n",
       "      <th></th>\n",
       "      <th>Topic</th>\n",
       "      <th>Count</th>\n",
       "      <th>Name</th>\n",
       "    </tr>\n",
       "  </thead>\n",
       "  <tbody>\n",
       "    <tr>\n",
       "      <th>0</th>\n",
       "      <td>-1</td>\n",
       "      <td>821</td>\n",
       "      <td>-1_said_mr_would_government</td>\n",
       "    </tr>\n",
       "    <tr>\n",
       "      <th>1</th>\n",
       "      <td>0</td>\n",
       "      <td>337</td>\n",
       "      <td>0_england_game_club_side</td>\n",
       "    </tr>\n",
       "    <tr>\n",
       "      <th>2</th>\n",
       "      <td>1</td>\n",
       "      <td>274</td>\n",
       "      <td>1_mobile_people_said_technology</td>\n",
       "    </tr>\n",
       "    <tr>\n",
       "      <th>3</th>\n",
       "      <td>2</td>\n",
       "      <td>151</td>\n",
       "      <td>2_mr_labour_election_party</td>\n",
       "    </tr>\n",
       "    <tr>\n",
       "      <th>4</th>\n",
       "      <td>3</td>\n",
       "      <td>122</td>\n",
       "      <td>3_music_band_album_song</td>\n",
       "    </tr>\n",
       "  </tbody>\n",
       "</table>\n",
       "</div>"
      ],
      "text/plain": [
       "   Topic  Count                             Name\n",
       "0     -1    821      -1_said_mr_would_government\n",
       "1      0    337         0_england_game_club_side\n",
       "2      1    274  1_mobile_people_said_technology\n",
       "3      2    151       2_mr_labour_election_party\n",
       "4      3    122          3_music_band_album_song"
      ]
     },
     "execution_count": 41,
     "metadata": {},
     "output_type": "execute_result"
    }
   ],
   "source": [
    "model.get_topic_info().head()"
   ]
  },
  {
   "cell_type": "markdown",
   "metadata": {},
   "source": [
    "### (3) 시각화"
   ]
  },
  {
   "cell_type": "code",
   "execution_count": 42,
   "metadata": {},
   "outputs": [
    {
     "ename": "ValueError",
     "evalue": "Mime type rendering requires nbformat>=4.2.0 but it is not installed",
     "output_type": "error",
     "traceback": [
      "\u001b[0;31m---------------------------------------------------------------------------\u001b[0m",
      "\u001b[0;31mValueError\u001b[0m                                Traceback (most recent call last)",
      "File \u001b[0;32m~/miniforge3/envs/bert_eng/lib/python3.8/site-packages/IPython/core/formatters.py:921\u001b[0m, in \u001b[0;36mIPythonDisplayFormatter.__call__\u001b[0;34m(self, obj)\u001b[0m\n\u001b[1;32m    <a href='file:///home/jongwook95.lee/miniforge3/envs/bert_eng/lib/python3.8/site-packages/IPython/core/formatters.py?line=918'>919</a>\u001b[0m method \u001b[39m=\u001b[39m get_real_method(obj, \u001b[39mself\u001b[39m\u001b[39m.\u001b[39mprint_method)\n\u001b[1;32m    <a href='file:///home/jongwook95.lee/miniforge3/envs/bert_eng/lib/python3.8/site-packages/IPython/core/formatters.py?line=919'>920</a>\u001b[0m \u001b[39mif\u001b[39;00m method \u001b[39mis\u001b[39;00m \u001b[39mnot\u001b[39;00m \u001b[39mNone\u001b[39;00m:\n\u001b[0;32m--> <a href='file:///home/jongwook95.lee/miniforge3/envs/bert_eng/lib/python3.8/site-packages/IPython/core/formatters.py?line=920'>921</a>\u001b[0m     method()\n\u001b[1;32m    <a href='file:///home/jongwook95.lee/miniforge3/envs/bert_eng/lib/python3.8/site-packages/IPython/core/formatters.py?line=921'>922</a>\u001b[0m     \u001b[39mreturn\u001b[39;00m \u001b[39mTrue\u001b[39;00m\n",
      "File \u001b[0;32m~/miniforge3/envs/bert_eng/lib/python3.8/site-packages/plotly/basedatatypes.py:842\u001b[0m, in \u001b[0;36mBaseFigure._ipython_display_\u001b[0;34m(self)\u001b[0m\n\u001b[1;32m    <a href='file:///home/jongwook95.lee/miniforge3/envs/bert_eng/lib/python3.8/site-packages/plotly/basedatatypes.py?line=838'>839</a>\u001b[0m \u001b[39mimport\u001b[39;00m \u001b[39mplotly\u001b[39;00m\u001b[39m.\u001b[39;00m\u001b[39mio\u001b[39;00m \u001b[39mas\u001b[39;00m \u001b[39mpio\u001b[39;00m\n\u001b[1;32m    <a href='file:///home/jongwook95.lee/miniforge3/envs/bert_eng/lib/python3.8/site-packages/plotly/basedatatypes.py?line=840'>841</a>\u001b[0m \u001b[39mif\u001b[39;00m pio\u001b[39m.\u001b[39mrenderers\u001b[39m.\u001b[39mrender_on_display \u001b[39mand\u001b[39;00m pio\u001b[39m.\u001b[39mrenderers\u001b[39m.\u001b[39mdefault:\n\u001b[0;32m--> <a href='file:///home/jongwook95.lee/miniforge3/envs/bert_eng/lib/python3.8/site-packages/plotly/basedatatypes.py?line=841'>842</a>\u001b[0m     pio\u001b[39m.\u001b[39;49mshow(\u001b[39mself\u001b[39;49m)\n\u001b[1;32m    <a href='file:///home/jongwook95.lee/miniforge3/envs/bert_eng/lib/python3.8/site-packages/plotly/basedatatypes.py?line=842'>843</a>\u001b[0m \u001b[39melse\u001b[39;00m:\n\u001b[1;32m    <a href='file:///home/jongwook95.lee/miniforge3/envs/bert_eng/lib/python3.8/site-packages/plotly/basedatatypes.py?line=843'>844</a>\u001b[0m     \u001b[39mprint\u001b[39m(\u001b[39mrepr\u001b[39m(\u001b[39mself\u001b[39m))\n",
      "File \u001b[0;32m~/miniforge3/envs/bert_eng/lib/python3.8/site-packages/plotly/io/_renderers.py:396\u001b[0m, in \u001b[0;36mshow\u001b[0;34m(fig, renderer, validate, **kwargs)\u001b[0m\n\u001b[1;32m    <a href='file:///home/jongwook95.lee/miniforge3/envs/bert_eng/lib/python3.8/site-packages/plotly/io/_renderers.py?line=390'>391</a>\u001b[0m         \u001b[39mraise\u001b[39;00m \u001b[39mValueError\u001b[39;00m(\n\u001b[1;32m    <a href='file:///home/jongwook95.lee/miniforge3/envs/bert_eng/lib/python3.8/site-packages/plotly/io/_renderers.py?line=391'>392</a>\u001b[0m             \u001b[39m\"\u001b[39m\u001b[39mMime type rendering requires ipython but it is not installed\u001b[39m\u001b[39m\"\u001b[39m\n\u001b[1;32m    <a href='file:///home/jongwook95.lee/miniforge3/envs/bert_eng/lib/python3.8/site-packages/plotly/io/_renderers.py?line=392'>393</a>\u001b[0m         )\n\u001b[1;32m    <a href='file:///home/jongwook95.lee/miniforge3/envs/bert_eng/lib/python3.8/site-packages/plotly/io/_renderers.py?line=394'>395</a>\u001b[0m     \u001b[39mif\u001b[39;00m \u001b[39mnot\u001b[39;00m nbformat \u001b[39mor\u001b[39;00m LooseVersion(nbformat\u001b[39m.\u001b[39m__version__) \u001b[39m<\u001b[39m LooseVersion(\u001b[39m\"\u001b[39m\u001b[39m4.2.0\u001b[39m\u001b[39m\"\u001b[39m):\n\u001b[0;32m--> <a href='file:///home/jongwook95.lee/miniforge3/envs/bert_eng/lib/python3.8/site-packages/plotly/io/_renderers.py?line=395'>396</a>\u001b[0m         \u001b[39mraise\u001b[39;00m \u001b[39mValueError\u001b[39;00m(\n\u001b[1;32m    <a href='file:///home/jongwook95.lee/miniforge3/envs/bert_eng/lib/python3.8/site-packages/plotly/io/_renderers.py?line=396'>397</a>\u001b[0m             \u001b[39m\"\u001b[39m\u001b[39mMime type rendering requires nbformat>=4.2.0 but it is not installed\u001b[39m\u001b[39m\"\u001b[39m\n\u001b[1;32m    <a href='file:///home/jongwook95.lee/miniforge3/envs/bert_eng/lib/python3.8/site-packages/plotly/io/_renderers.py?line=397'>398</a>\u001b[0m         )\n\u001b[1;32m    <a href='file:///home/jongwook95.lee/miniforge3/envs/bert_eng/lib/python3.8/site-packages/plotly/io/_renderers.py?line=399'>400</a>\u001b[0m     ipython_display\u001b[39m.\u001b[39mdisplay(bundle, raw\u001b[39m=\u001b[39m\u001b[39mTrue\u001b[39;00m)\n\u001b[1;32m    <a href='file:///home/jongwook95.lee/miniforge3/envs/bert_eng/lib/python3.8/site-packages/plotly/io/_renderers.py?line=401'>402</a>\u001b[0m \u001b[39m# external renderers\u001b[39;00m\n",
      "\u001b[0;31mValueError\u001b[0m: Mime type rendering requires nbformat>=4.2.0 but it is not installed"
     ]
    },
    {
     "data": {
      "application/vnd.plotly.v1+json": {
       "config": {
        "plotlyServerURL": "https://plot.ly"
       },
       "data": [
        {
         "marker": {
          "color": "#D55E00"
         },
         "orientation": "h",
         "type": "bar",
         "x": [
          0.019566469772655835,
          0.020280721093526643,
          0.02400581481619549,
          0.02530799594707143,
          0.030254728251281483
         ],
         "xaxis": "x",
         "y": [
          "wales  ",
          "side  ",
          "club  ",
          "game  ",
          "england  "
         ],
         "yaxis": "y"
        },
        {
         "marker": {
          "color": "#0072B2"
         },
         "orientation": "h",
         "type": "bar",
         "x": [
          0.021122540243243497,
          0.022220589422197984,
          0.0249409811753984,
          0.025287409610241608,
          0.025946592219114554
         ],
         "xaxis": "x2",
         "y": [
          "games  ",
          "technology  ",
          "said  ",
          "people  ",
          "mobile  "
         ],
         "yaxis": "y2"
        },
        {
         "marker": {
          "color": "#CC79A7"
         },
         "orientation": "h",
         "type": "bar",
         "x": [
          0.038510635881534264,
          0.042762444880819483,
          0.04909422271712879,
          0.0567949359435381,
          0.06572727320898723
         ],
         "xaxis": "x3",
         "y": [
          "blair  ",
          "party  ",
          "election  ",
          "labour  ",
          "mr  "
         ],
         "yaxis": "y3"
        },
        {
         "marker": {
          "color": "#E69F00"
         },
         "orientation": "h",
         "type": "bar",
         "x": [
          0.029358098960346305,
          0.031121618024622023,
          0.039072161050347026,
          0.043020280689228904,
          0.05178097244994399
         ],
         "xaxis": "x4",
         "y": [
          "best  ",
          "song  ",
          "album  ",
          "band  ",
          "music  "
         ],
         "yaxis": "y4"
        },
        {
         "marker": {
          "color": "#56B4E9"
         },
         "orientation": "h",
         "type": "bar",
         "x": [
          0.03324425111983161,
          0.03393443671707653,
          0.03526850736473189,
          0.035449605288189336,
          0.03752688986972046
         ],
         "xaxis": "x5",
         "y": [
          "virus  ",
          "search  ",
          "microsoft  ",
          "users  ",
          "security  "
         ],
         "yaxis": "y5"
        },
        {
         "marker": {
          "color": "#009E73"
         },
         "orientation": "h",
         "type": "bar",
         "x": [
          0.030662176647617865,
          0.033349599242286344,
          0.034876992182618735,
          0.03518763862523263,
          0.04283189064764948
         ],
         "xaxis": "x6",
         "y": [
          "champion  ",
          "world  ",
          "athens  ",
          "race  ",
          "olympic  "
         ],
         "yaxis": "y6"
        },
        {
         "marker": {
          "color": "#F0E442"
         },
         "orientation": "h",
         "type": "bar",
         "x": [
          0.03504548563443753,
          0.03526419618635194,
          0.03721565912707275,
          0.051859566470130486,
          0.05400475451863208
         ],
         "xaxis": "x7",
         "y": [
          "said  ",
          "dollar  ",
          "economic  ",
          "economy  ",
          "growth  "
         ],
         "yaxis": "y7"
        },
        {
         "marker": {
          "color": "#D55E00"
         },
         "orientation": "h",
         "type": "bar",
         "x": [
          0.03522709004409476,
          0.036958574233989294,
          0.041466380048654196,
          0.07158455963777374,
          0.0826978482498562
         ],
         "xaxis": "x8",
         "y": [
          "awards  ",
          "oscar  ",
          "actor  ",
          "best  ",
          "film  "
         ],
         "yaxis": "y8"
        },
        {
         "marker": {
          "color": "#0072B2"
         },
         "orientation": "h",
         "type": "bar",
         "x": [
          0.036484723264400894,
          0.03655204520220245,
          0.03982125701134974,
          0.05129561496377979,
          0.05371157594871628
         ],
         "xaxis": "x9",
         "y": [
          "australian  ",
          "set  ",
          "seed  ",
          "roddick  ",
          "open  "
         ],
         "yaxis": "y9"
        },
        {
         "marker": {
          "color": "#CC79A7"
         },
         "orientation": "h",
         "type": "bar",
         "x": [
          0.042157198489901015,
          0.04335913329666962,
          0.055460119945248375,
          0.08851587217982149,
          0.09900767718497917
         ],
         "xaxis": "x10",
         "y": [
          "russia  ",
          "gazprom  ",
          "russian  ",
          "oil  ",
          "yukos  "
         ],
         "yaxis": "y10"
        }
       ],
       "layout": {
        "annotations": [
         {
          "font": {
           "size": 16
          },
          "showarrow": false,
          "text": "Topic 0",
          "x": 0.0875,
          "xanchor": "center",
          "xref": "paper",
          "y": 1,
          "yanchor": "bottom",
          "yref": "paper"
         },
         {
          "font": {
           "size": 16
          },
          "showarrow": false,
          "text": "Topic 1",
          "x": 0.36250000000000004,
          "xanchor": "center",
          "xref": "paper",
          "y": 1,
          "yanchor": "bottom",
          "yref": "paper"
         },
         {
          "font": {
           "size": 16
          },
          "showarrow": false,
          "text": "Topic 2",
          "x": 0.6375000000000001,
          "xanchor": "center",
          "xref": "paper",
          "y": 1,
          "yanchor": "bottom",
          "yref": "paper"
         },
         {
          "font": {
           "size": 16
          },
          "showarrow": false,
          "text": "Topic 3",
          "x": 0.9125,
          "xanchor": "center",
          "xref": "paper",
          "y": 1,
          "yanchor": "bottom",
          "yref": "paper"
         },
         {
          "font": {
           "size": 16
          },
          "showarrow": false,
          "text": "Topic 4",
          "x": 0.0875,
          "xanchor": "center",
          "xref": "paper",
          "y": 0.6222222222222222,
          "yanchor": "bottom",
          "yref": "paper"
         },
         {
          "font": {
           "size": 16
          },
          "showarrow": false,
          "text": "Topic 5",
          "x": 0.36250000000000004,
          "xanchor": "center",
          "xref": "paper",
          "y": 0.6222222222222222,
          "yanchor": "bottom",
          "yref": "paper"
         },
         {
          "font": {
           "size": 16
          },
          "showarrow": false,
          "text": "Topic 6",
          "x": 0.6375000000000001,
          "xanchor": "center",
          "xref": "paper",
          "y": 0.6222222222222222,
          "yanchor": "bottom",
          "yref": "paper"
         },
         {
          "font": {
           "size": 16
          },
          "showarrow": false,
          "text": "Topic 7",
          "x": 0.9125,
          "xanchor": "center",
          "xref": "paper",
          "y": 0.6222222222222222,
          "yanchor": "bottom",
          "yref": "paper"
         },
         {
          "font": {
           "size": 16
          },
          "showarrow": false,
          "text": "Topic 8",
          "x": 0.0875,
          "xanchor": "center",
          "xref": "paper",
          "y": 0.24444444444444446,
          "yanchor": "bottom",
          "yref": "paper"
         },
         {
          "font": {
           "size": 16
          },
          "showarrow": false,
          "text": "Topic 9",
          "x": 0.36250000000000004,
          "xanchor": "center",
          "xref": "paper",
          "y": 0.24444444444444446,
          "yanchor": "bottom",
          "yref": "paper"
         }
        ],
        "height": 750,
        "hoverlabel": {
         "bgcolor": "white",
         "font": {
          "family": "Rockwell",
          "size": 16
         }
        },
        "showlegend": false,
        "template": {
         "data": {
          "bar": [
           {
            "error_x": {
             "color": "#2a3f5f"
            },
            "error_y": {
             "color": "#2a3f5f"
            },
            "marker": {
             "line": {
              "color": "white",
              "width": 0.5
             },
             "pattern": {
              "fillmode": "overlay",
              "size": 10,
              "solidity": 0.2
             }
            },
            "type": "bar"
           }
          ],
          "barpolar": [
           {
            "marker": {
             "line": {
              "color": "white",
              "width": 0.5
             },
             "pattern": {
              "fillmode": "overlay",
              "size": 10,
              "solidity": 0.2
             }
            },
            "type": "barpolar"
           }
          ],
          "carpet": [
           {
            "aaxis": {
             "endlinecolor": "#2a3f5f",
             "gridcolor": "#C8D4E3",
             "linecolor": "#C8D4E3",
             "minorgridcolor": "#C8D4E3",
             "startlinecolor": "#2a3f5f"
            },
            "baxis": {
             "endlinecolor": "#2a3f5f",
             "gridcolor": "#C8D4E3",
             "linecolor": "#C8D4E3",
             "minorgridcolor": "#C8D4E3",
             "startlinecolor": "#2a3f5f"
            },
            "type": "carpet"
           }
          ],
          "choropleth": [
           {
            "colorbar": {
             "outlinewidth": 0,
             "ticks": ""
            },
            "type": "choropleth"
           }
          ],
          "contour": [
           {
            "colorbar": {
             "outlinewidth": 0,
             "ticks": ""
            },
            "colorscale": [
             [
              0,
              "#0d0887"
             ],
             [
              0.1111111111111111,
              "#46039f"
             ],
             [
              0.2222222222222222,
              "#7201a8"
             ],
             [
              0.3333333333333333,
              "#9c179e"
             ],
             [
              0.4444444444444444,
              "#bd3786"
             ],
             [
              0.5555555555555556,
              "#d8576b"
             ],
             [
              0.6666666666666666,
              "#ed7953"
             ],
             [
              0.7777777777777778,
              "#fb9f3a"
             ],
             [
              0.8888888888888888,
              "#fdca26"
             ],
             [
              1,
              "#f0f921"
             ]
            ],
            "type": "contour"
           }
          ],
          "contourcarpet": [
           {
            "colorbar": {
             "outlinewidth": 0,
             "ticks": ""
            },
            "type": "contourcarpet"
           }
          ],
          "heatmap": [
           {
            "colorbar": {
             "outlinewidth": 0,
             "ticks": ""
            },
            "colorscale": [
             [
              0,
              "#0d0887"
             ],
             [
              0.1111111111111111,
              "#46039f"
             ],
             [
              0.2222222222222222,
              "#7201a8"
             ],
             [
              0.3333333333333333,
              "#9c179e"
             ],
             [
              0.4444444444444444,
              "#bd3786"
             ],
             [
              0.5555555555555556,
              "#d8576b"
             ],
             [
              0.6666666666666666,
              "#ed7953"
             ],
             [
              0.7777777777777778,
              "#fb9f3a"
             ],
             [
              0.8888888888888888,
              "#fdca26"
             ],
             [
              1,
              "#f0f921"
             ]
            ],
            "type": "heatmap"
           }
          ],
          "heatmapgl": [
           {
            "colorbar": {
             "outlinewidth": 0,
             "ticks": ""
            },
            "colorscale": [
             [
              0,
              "#0d0887"
             ],
             [
              0.1111111111111111,
              "#46039f"
             ],
             [
              0.2222222222222222,
              "#7201a8"
             ],
             [
              0.3333333333333333,
              "#9c179e"
             ],
             [
              0.4444444444444444,
              "#bd3786"
             ],
             [
              0.5555555555555556,
              "#d8576b"
             ],
             [
              0.6666666666666666,
              "#ed7953"
             ],
             [
              0.7777777777777778,
              "#fb9f3a"
             ],
             [
              0.8888888888888888,
              "#fdca26"
             ],
             [
              1,
              "#f0f921"
             ]
            ],
            "type": "heatmapgl"
           }
          ],
          "histogram": [
           {
            "marker": {
             "pattern": {
              "fillmode": "overlay",
              "size": 10,
              "solidity": 0.2
             }
            },
            "type": "histogram"
           }
          ],
          "histogram2d": [
           {
            "colorbar": {
             "outlinewidth": 0,
             "ticks": ""
            },
            "colorscale": [
             [
              0,
              "#0d0887"
             ],
             [
              0.1111111111111111,
              "#46039f"
             ],
             [
              0.2222222222222222,
              "#7201a8"
             ],
             [
              0.3333333333333333,
              "#9c179e"
             ],
             [
              0.4444444444444444,
              "#bd3786"
             ],
             [
              0.5555555555555556,
              "#d8576b"
             ],
             [
              0.6666666666666666,
              "#ed7953"
             ],
             [
              0.7777777777777778,
              "#fb9f3a"
             ],
             [
              0.8888888888888888,
              "#fdca26"
             ],
             [
              1,
              "#f0f921"
             ]
            ],
            "type": "histogram2d"
           }
          ],
          "histogram2dcontour": [
           {
            "colorbar": {
             "outlinewidth": 0,
             "ticks": ""
            },
            "colorscale": [
             [
              0,
              "#0d0887"
             ],
             [
              0.1111111111111111,
              "#46039f"
             ],
             [
              0.2222222222222222,
              "#7201a8"
             ],
             [
              0.3333333333333333,
              "#9c179e"
             ],
             [
              0.4444444444444444,
              "#bd3786"
             ],
             [
              0.5555555555555556,
              "#d8576b"
             ],
             [
              0.6666666666666666,
              "#ed7953"
             ],
             [
              0.7777777777777778,
              "#fb9f3a"
             ],
             [
              0.8888888888888888,
              "#fdca26"
             ],
             [
              1,
              "#f0f921"
             ]
            ],
            "type": "histogram2dcontour"
           }
          ],
          "mesh3d": [
           {
            "colorbar": {
             "outlinewidth": 0,
             "ticks": ""
            },
            "type": "mesh3d"
           }
          ],
          "parcoords": [
           {
            "line": {
             "colorbar": {
              "outlinewidth": 0,
              "ticks": ""
             }
            },
            "type": "parcoords"
           }
          ],
          "pie": [
           {
            "automargin": true,
            "type": "pie"
           }
          ],
          "scatter": [
           {
            "fillpattern": {
             "fillmode": "overlay",
             "size": 10,
             "solidity": 0.2
            },
            "type": "scatter"
           }
          ],
          "scatter3d": [
           {
            "line": {
             "colorbar": {
              "outlinewidth": 0,
              "ticks": ""
             }
            },
            "marker": {
             "colorbar": {
              "outlinewidth": 0,
              "ticks": ""
             }
            },
            "type": "scatter3d"
           }
          ],
          "scattercarpet": [
           {
            "marker": {
             "colorbar": {
              "outlinewidth": 0,
              "ticks": ""
             }
            },
            "type": "scattercarpet"
           }
          ],
          "scattergeo": [
           {
            "marker": {
             "colorbar": {
              "outlinewidth": 0,
              "ticks": ""
             }
            },
            "type": "scattergeo"
           }
          ],
          "scattergl": [
           {
            "marker": {
             "colorbar": {
              "outlinewidth": 0,
              "ticks": ""
             }
            },
            "type": "scattergl"
           }
          ],
          "scattermapbox": [
           {
            "marker": {
             "colorbar": {
              "outlinewidth": 0,
              "ticks": ""
             }
            },
            "type": "scattermapbox"
           }
          ],
          "scatterpolar": [
           {
            "marker": {
             "colorbar": {
              "outlinewidth": 0,
              "ticks": ""
             }
            },
            "type": "scatterpolar"
           }
          ],
          "scatterpolargl": [
           {
            "marker": {
             "colorbar": {
              "outlinewidth": 0,
              "ticks": ""
             }
            },
            "type": "scatterpolargl"
           }
          ],
          "scatterternary": [
           {
            "marker": {
             "colorbar": {
              "outlinewidth": 0,
              "ticks": ""
             }
            },
            "type": "scatterternary"
           }
          ],
          "surface": [
           {
            "colorbar": {
             "outlinewidth": 0,
             "ticks": ""
            },
            "colorscale": [
             [
              0,
              "#0d0887"
             ],
             [
              0.1111111111111111,
              "#46039f"
             ],
             [
              0.2222222222222222,
              "#7201a8"
             ],
             [
              0.3333333333333333,
              "#9c179e"
             ],
             [
              0.4444444444444444,
              "#bd3786"
             ],
             [
              0.5555555555555556,
              "#d8576b"
             ],
             [
              0.6666666666666666,
              "#ed7953"
             ],
             [
              0.7777777777777778,
              "#fb9f3a"
             ],
             [
              0.8888888888888888,
              "#fdca26"
             ],
             [
              1,
              "#f0f921"
             ]
            ],
            "type": "surface"
           }
          ],
          "table": [
           {
            "cells": {
             "fill": {
              "color": "#EBF0F8"
             },
             "line": {
              "color": "white"
             }
            },
            "header": {
             "fill": {
              "color": "#C8D4E3"
             },
             "line": {
              "color": "white"
             }
            },
            "type": "table"
           }
          ]
         },
         "layout": {
          "annotationdefaults": {
           "arrowcolor": "#2a3f5f",
           "arrowhead": 0,
           "arrowwidth": 1
          },
          "autotypenumbers": "strict",
          "coloraxis": {
           "colorbar": {
            "outlinewidth": 0,
            "ticks": ""
           }
          },
          "colorscale": {
           "diverging": [
            [
             0,
             "#8e0152"
            ],
            [
             0.1,
             "#c51b7d"
            ],
            [
             0.2,
             "#de77ae"
            ],
            [
             0.3,
             "#f1b6da"
            ],
            [
             0.4,
             "#fde0ef"
            ],
            [
             0.5,
             "#f7f7f7"
            ],
            [
             0.6,
             "#e6f5d0"
            ],
            [
             0.7,
             "#b8e186"
            ],
            [
             0.8,
             "#7fbc41"
            ],
            [
             0.9,
             "#4d9221"
            ],
            [
             1,
             "#276419"
            ]
           ],
           "sequential": [
            [
             0,
             "#0d0887"
            ],
            [
             0.1111111111111111,
             "#46039f"
            ],
            [
             0.2222222222222222,
             "#7201a8"
            ],
            [
             0.3333333333333333,
             "#9c179e"
            ],
            [
             0.4444444444444444,
             "#bd3786"
            ],
            [
             0.5555555555555556,
             "#d8576b"
            ],
            [
             0.6666666666666666,
             "#ed7953"
            ],
            [
             0.7777777777777778,
             "#fb9f3a"
            ],
            [
             0.8888888888888888,
             "#fdca26"
            ],
            [
             1,
             "#f0f921"
            ]
           ],
           "sequentialminus": [
            [
             0,
             "#0d0887"
            ],
            [
             0.1111111111111111,
             "#46039f"
            ],
            [
             0.2222222222222222,
             "#7201a8"
            ],
            [
             0.3333333333333333,
             "#9c179e"
            ],
            [
             0.4444444444444444,
             "#bd3786"
            ],
            [
             0.5555555555555556,
             "#d8576b"
            ],
            [
             0.6666666666666666,
             "#ed7953"
            ],
            [
             0.7777777777777778,
             "#fb9f3a"
            ],
            [
             0.8888888888888888,
             "#fdca26"
            ],
            [
             1,
             "#f0f921"
            ]
           ]
          },
          "colorway": [
           "#636efa",
           "#EF553B",
           "#00cc96",
           "#ab63fa",
           "#FFA15A",
           "#19d3f3",
           "#FF6692",
           "#B6E880",
           "#FF97FF",
           "#FECB52"
          ],
          "font": {
           "color": "#2a3f5f"
          },
          "geo": {
           "bgcolor": "white",
           "lakecolor": "white",
           "landcolor": "white",
           "showlakes": true,
           "showland": true,
           "subunitcolor": "#C8D4E3"
          },
          "hoverlabel": {
           "align": "left"
          },
          "hovermode": "closest",
          "mapbox": {
           "style": "light"
          },
          "paper_bgcolor": "white",
          "plot_bgcolor": "white",
          "polar": {
           "angularaxis": {
            "gridcolor": "#EBF0F8",
            "linecolor": "#EBF0F8",
            "ticks": ""
           },
           "bgcolor": "white",
           "radialaxis": {
            "gridcolor": "#EBF0F8",
            "linecolor": "#EBF0F8",
            "ticks": ""
           }
          },
          "scene": {
           "xaxis": {
            "backgroundcolor": "white",
            "gridcolor": "#DFE8F3",
            "gridwidth": 2,
            "linecolor": "#EBF0F8",
            "showbackground": true,
            "ticks": "",
            "zerolinecolor": "#EBF0F8"
           },
           "yaxis": {
            "backgroundcolor": "white",
            "gridcolor": "#DFE8F3",
            "gridwidth": 2,
            "linecolor": "#EBF0F8",
            "showbackground": true,
            "ticks": "",
            "zerolinecolor": "#EBF0F8"
           },
           "zaxis": {
            "backgroundcolor": "white",
            "gridcolor": "#DFE8F3",
            "gridwidth": 2,
            "linecolor": "#EBF0F8",
            "showbackground": true,
            "ticks": "",
            "zerolinecolor": "#EBF0F8"
           }
          },
          "shapedefaults": {
           "line": {
            "color": "#2a3f5f"
           }
          },
          "ternary": {
           "aaxis": {
            "gridcolor": "#DFE8F3",
            "linecolor": "#A2B1C6",
            "ticks": ""
           },
           "baxis": {
            "gridcolor": "#DFE8F3",
            "linecolor": "#A2B1C6",
            "ticks": ""
           },
           "bgcolor": "white",
           "caxis": {
            "gridcolor": "#DFE8F3",
            "linecolor": "#A2B1C6",
            "ticks": ""
           }
          },
          "title": {
           "x": 0.05
          },
          "xaxis": {
           "automargin": true,
           "gridcolor": "#EBF0F8",
           "linecolor": "#EBF0F8",
           "ticks": "",
           "title": {
            "standoff": 15
           },
           "zerolinecolor": "#EBF0F8",
           "zerolinewidth": 2
          },
          "yaxis": {
           "automargin": true,
           "gridcolor": "#EBF0F8",
           "linecolor": "#EBF0F8",
           "ticks": "",
           "title": {
            "standoff": 15
           },
           "zerolinecolor": "#EBF0F8",
           "zerolinewidth": 2
          }
         }
        },
        "title": {
         "font": {
          "color": "Black",
          "size": 22
         },
         "text": "<b>Topic Word Scores",
         "x": 0.5,
         "xanchor": "center",
         "yanchor": "top"
        },
        "width": 1000,
        "xaxis": {
         "anchor": "y",
         "domain": [
          0,
          0.175
         ],
         "showgrid": true
        },
        "xaxis10": {
         "anchor": "y10",
         "domain": [
          0.275,
          0.45
         ],
         "showgrid": true
        },
        "xaxis11": {
         "anchor": "y11",
         "domain": [
          0.55,
          0.7250000000000001
         ],
         "showgrid": true
        },
        "xaxis12": {
         "anchor": "y12",
         "domain": [
          0.825,
          1
         ],
         "showgrid": true
        },
        "xaxis2": {
         "anchor": "y2",
         "domain": [
          0.275,
          0.45
         ],
         "showgrid": true
        },
        "xaxis3": {
         "anchor": "y3",
         "domain": [
          0.55,
          0.7250000000000001
         ],
         "showgrid": true
        },
        "xaxis4": {
         "anchor": "y4",
         "domain": [
          0.825,
          1
         ],
         "showgrid": true
        },
        "xaxis5": {
         "anchor": "y5",
         "domain": [
          0,
          0.175
         ],
         "showgrid": true
        },
        "xaxis6": {
         "anchor": "y6",
         "domain": [
          0.275,
          0.45
         ],
         "showgrid": true
        },
        "xaxis7": {
         "anchor": "y7",
         "domain": [
          0.55,
          0.7250000000000001
         ],
         "showgrid": true
        },
        "xaxis8": {
         "anchor": "y8",
         "domain": [
          0.825,
          1
         ],
         "showgrid": true
        },
        "xaxis9": {
         "anchor": "y9",
         "domain": [
          0,
          0.175
         ],
         "showgrid": true
        },
        "yaxis": {
         "anchor": "x",
         "domain": [
          0.7555555555555555,
          1
         ],
         "showgrid": true
        },
        "yaxis10": {
         "anchor": "x10",
         "domain": [
          0,
          0.24444444444444446
         ],
         "showgrid": true
        },
        "yaxis11": {
         "anchor": "x11",
         "domain": [
          0,
          0.24444444444444446
         ],
         "showgrid": true
        },
        "yaxis12": {
         "anchor": "x12",
         "domain": [
          0,
          0.24444444444444446
         ],
         "showgrid": true
        },
        "yaxis2": {
         "anchor": "x2",
         "domain": [
          0.7555555555555555,
          1
         ],
         "showgrid": true
        },
        "yaxis3": {
         "anchor": "x3",
         "domain": [
          0.7555555555555555,
          1
         ],
         "showgrid": true
        },
        "yaxis4": {
         "anchor": "x4",
         "domain": [
          0.7555555555555555,
          1
         ],
         "showgrid": true
        },
        "yaxis5": {
         "anchor": "x5",
         "domain": [
          0.37777777777777777,
          0.6222222222222222
         ],
         "showgrid": true
        },
        "yaxis6": {
         "anchor": "x6",
         "domain": [
          0.37777777777777777,
          0.6222222222222222
         ],
         "showgrid": true
        },
        "yaxis7": {
         "anchor": "x7",
         "domain": [
          0.37777777777777777,
          0.6222222222222222
         ],
         "showgrid": true
        },
        "yaxis8": {
         "anchor": "x8",
         "domain": [
          0.37777777777777777,
          0.6222222222222222
         ],
         "showgrid": true
        },
        "yaxis9": {
         "anchor": "x9",
         "domain": [
          0,
          0.24444444444444446
         ],
         "showgrid": true
        }
       }
      },
      "text/html": [
       "<div>                            <div id=\"c3f91920-6621-4234-95b2-987211b28da1\" class=\"plotly-graph-div\" style=\"height:750px; width:1000px;\"></div>            <script type=\"text/javascript\">                require([\"plotly\"], function(Plotly) {                    window.PLOTLYENV=window.PLOTLYENV || {};                                    if (document.getElementById(\"c3f91920-6621-4234-95b2-987211b28da1\")) {                    Plotly.newPlot(                        \"c3f91920-6621-4234-95b2-987211b28da1\",                        [{\"marker\":{\"color\":\"#D55E00\"},\"orientation\":\"h\",\"x\":[0.019566469772655835,0.020280721093526643,0.02400581481619549,0.02530799594707143,0.030254728251281483],\"y\":[\"wales  \",\"side  \",\"club  \",\"game  \",\"england  \"],\"type\":\"bar\",\"xaxis\":\"x\",\"yaxis\":\"y\"},{\"marker\":{\"color\":\"#0072B2\"},\"orientation\":\"h\",\"x\":[0.021122540243243497,0.022220589422197984,0.0249409811753984,0.025287409610241608,0.025946592219114554],\"y\":[\"games  \",\"technology  \",\"said  \",\"people  \",\"mobile  \"],\"type\":\"bar\",\"xaxis\":\"x2\",\"yaxis\":\"y2\"},{\"marker\":{\"color\":\"#CC79A7\"},\"orientation\":\"h\",\"x\":[0.038510635881534264,0.042762444880819483,0.04909422271712879,0.0567949359435381,0.06572727320898723],\"y\":[\"blair  \",\"party  \",\"election  \",\"labour  \",\"mr  \"],\"type\":\"bar\",\"xaxis\":\"x3\",\"yaxis\":\"y3\"},{\"marker\":{\"color\":\"#E69F00\"},\"orientation\":\"h\",\"x\":[0.029358098960346305,0.031121618024622023,0.039072161050347026,0.043020280689228904,0.05178097244994399],\"y\":[\"best  \",\"song  \",\"album  \",\"band  \",\"music  \"],\"type\":\"bar\",\"xaxis\":\"x4\",\"yaxis\":\"y4\"},{\"marker\":{\"color\":\"#56B4E9\"},\"orientation\":\"h\",\"x\":[0.03324425111983161,0.03393443671707653,0.03526850736473189,0.035449605288189336,0.03752688986972046],\"y\":[\"virus  \",\"search  \",\"microsoft  \",\"users  \",\"security  \"],\"type\":\"bar\",\"xaxis\":\"x5\",\"yaxis\":\"y5\"},{\"marker\":{\"color\":\"#009E73\"},\"orientation\":\"h\",\"x\":[0.030662176647617865,0.033349599242286344,0.034876992182618735,0.03518763862523263,0.04283189064764948],\"y\":[\"champion  \",\"world  \",\"athens  \",\"race  \",\"olympic  \"],\"type\":\"bar\",\"xaxis\":\"x6\",\"yaxis\":\"y6\"},{\"marker\":{\"color\":\"#F0E442\"},\"orientation\":\"h\",\"x\":[0.03504548563443753,0.03526419618635194,0.03721565912707275,0.051859566470130486,0.05400475451863208],\"y\":[\"said  \",\"dollar  \",\"economic  \",\"economy  \",\"growth  \"],\"type\":\"bar\",\"xaxis\":\"x7\",\"yaxis\":\"y7\"},{\"marker\":{\"color\":\"#D55E00\"},\"orientation\":\"h\",\"x\":[0.03522709004409476,0.036958574233989294,0.041466380048654196,0.07158455963777374,0.0826978482498562],\"y\":[\"awards  \",\"oscar  \",\"actor  \",\"best  \",\"film  \"],\"type\":\"bar\",\"xaxis\":\"x8\",\"yaxis\":\"y8\"},{\"marker\":{\"color\":\"#0072B2\"},\"orientation\":\"h\",\"x\":[0.036484723264400894,0.03655204520220245,0.03982125701134974,0.05129561496377979,0.05371157594871628],\"y\":[\"australian  \",\"set  \",\"seed  \",\"roddick  \",\"open  \"],\"type\":\"bar\",\"xaxis\":\"x9\",\"yaxis\":\"y9\"},{\"marker\":{\"color\":\"#CC79A7\"},\"orientation\":\"h\",\"x\":[0.042157198489901015,0.04335913329666962,0.055460119945248375,0.08851587217982149,0.09900767718497917],\"y\":[\"russia  \",\"gazprom  \",\"russian  \",\"oil  \",\"yukos  \"],\"type\":\"bar\",\"xaxis\":\"x10\",\"yaxis\":\"y10\"}],                        {\"template\":{\"data\":{\"barpolar\":[{\"marker\":{\"line\":{\"color\":\"white\",\"width\":0.5},\"pattern\":{\"fillmode\":\"overlay\",\"size\":10,\"solidity\":0.2}},\"type\":\"barpolar\"}],\"bar\":[{\"error_x\":{\"color\":\"#2a3f5f\"},\"error_y\":{\"color\":\"#2a3f5f\"},\"marker\":{\"line\":{\"color\":\"white\",\"width\":0.5},\"pattern\":{\"fillmode\":\"overlay\",\"size\":10,\"solidity\":0.2}},\"type\":\"bar\"}],\"carpet\":[{\"aaxis\":{\"endlinecolor\":\"#2a3f5f\",\"gridcolor\":\"#C8D4E3\",\"linecolor\":\"#C8D4E3\",\"minorgridcolor\":\"#C8D4E3\",\"startlinecolor\":\"#2a3f5f\"},\"baxis\":{\"endlinecolor\":\"#2a3f5f\",\"gridcolor\":\"#C8D4E3\",\"linecolor\":\"#C8D4E3\",\"minorgridcolor\":\"#C8D4E3\",\"startlinecolor\":\"#2a3f5f\"},\"type\":\"carpet\"}],\"choropleth\":[{\"colorbar\":{\"outlinewidth\":0,\"ticks\":\"\"},\"type\":\"choropleth\"}],\"contourcarpet\":[{\"colorbar\":{\"outlinewidth\":0,\"ticks\":\"\"},\"type\":\"contourcarpet\"}],\"contour\":[{\"colorbar\":{\"outlinewidth\":0,\"ticks\":\"\"},\"colorscale\":[[0.0,\"#0d0887\"],[0.1111111111111111,\"#46039f\"],[0.2222222222222222,\"#7201a8\"],[0.3333333333333333,\"#9c179e\"],[0.4444444444444444,\"#bd3786\"],[0.5555555555555556,\"#d8576b\"],[0.6666666666666666,\"#ed7953\"],[0.7777777777777778,\"#fb9f3a\"],[0.8888888888888888,\"#fdca26\"],[1.0,\"#f0f921\"]],\"type\":\"contour\"}],\"heatmapgl\":[{\"colorbar\":{\"outlinewidth\":0,\"ticks\":\"\"},\"colorscale\":[[0.0,\"#0d0887\"],[0.1111111111111111,\"#46039f\"],[0.2222222222222222,\"#7201a8\"],[0.3333333333333333,\"#9c179e\"],[0.4444444444444444,\"#bd3786\"],[0.5555555555555556,\"#d8576b\"],[0.6666666666666666,\"#ed7953\"],[0.7777777777777778,\"#fb9f3a\"],[0.8888888888888888,\"#fdca26\"],[1.0,\"#f0f921\"]],\"type\":\"heatmapgl\"}],\"heatmap\":[{\"colorbar\":{\"outlinewidth\":0,\"ticks\":\"\"},\"colorscale\":[[0.0,\"#0d0887\"],[0.1111111111111111,\"#46039f\"],[0.2222222222222222,\"#7201a8\"],[0.3333333333333333,\"#9c179e\"],[0.4444444444444444,\"#bd3786\"],[0.5555555555555556,\"#d8576b\"],[0.6666666666666666,\"#ed7953\"],[0.7777777777777778,\"#fb9f3a\"],[0.8888888888888888,\"#fdca26\"],[1.0,\"#f0f921\"]],\"type\":\"heatmap\"}],\"histogram2dcontour\":[{\"colorbar\":{\"outlinewidth\":0,\"ticks\":\"\"},\"colorscale\":[[0.0,\"#0d0887\"],[0.1111111111111111,\"#46039f\"],[0.2222222222222222,\"#7201a8\"],[0.3333333333333333,\"#9c179e\"],[0.4444444444444444,\"#bd3786\"],[0.5555555555555556,\"#d8576b\"],[0.6666666666666666,\"#ed7953\"],[0.7777777777777778,\"#fb9f3a\"],[0.8888888888888888,\"#fdca26\"],[1.0,\"#f0f921\"]],\"type\":\"histogram2dcontour\"}],\"histogram2d\":[{\"colorbar\":{\"outlinewidth\":0,\"ticks\":\"\"},\"colorscale\":[[0.0,\"#0d0887\"],[0.1111111111111111,\"#46039f\"],[0.2222222222222222,\"#7201a8\"],[0.3333333333333333,\"#9c179e\"],[0.4444444444444444,\"#bd3786\"],[0.5555555555555556,\"#d8576b\"],[0.6666666666666666,\"#ed7953\"],[0.7777777777777778,\"#fb9f3a\"],[0.8888888888888888,\"#fdca26\"],[1.0,\"#f0f921\"]],\"type\":\"histogram2d\"}],\"histogram\":[{\"marker\":{\"pattern\":{\"fillmode\":\"overlay\",\"size\":10,\"solidity\":0.2}},\"type\":\"histogram\"}],\"mesh3d\":[{\"colorbar\":{\"outlinewidth\":0,\"ticks\":\"\"},\"type\":\"mesh3d\"}],\"parcoords\":[{\"line\":{\"colorbar\":{\"outlinewidth\":0,\"ticks\":\"\"}},\"type\":\"parcoords\"}],\"pie\":[{\"automargin\":true,\"type\":\"pie\"}],\"scatter3d\":[{\"line\":{\"colorbar\":{\"outlinewidth\":0,\"ticks\":\"\"}},\"marker\":{\"colorbar\":{\"outlinewidth\":0,\"ticks\":\"\"}},\"type\":\"scatter3d\"}],\"scattercarpet\":[{\"marker\":{\"colorbar\":{\"outlinewidth\":0,\"ticks\":\"\"}},\"type\":\"scattercarpet\"}],\"scattergeo\":[{\"marker\":{\"colorbar\":{\"outlinewidth\":0,\"ticks\":\"\"}},\"type\":\"scattergeo\"}],\"scattergl\":[{\"marker\":{\"colorbar\":{\"outlinewidth\":0,\"ticks\":\"\"}},\"type\":\"scattergl\"}],\"scattermapbox\":[{\"marker\":{\"colorbar\":{\"outlinewidth\":0,\"ticks\":\"\"}},\"type\":\"scattermapbox\"}],\"scatterpolargl\":[{\"marker\":{\"colorbar\":{\"outlinewidth\":0,\"ticks\":\"\"}},\"type\":\"scatterpolargl\"}],\"scatterpolar\":[{\"marker\":{\"colorbar\":{\"outlinewidth\":0,\"ticks\":\"\"}},\"type\":\"scatterpolar\"}],\"scatter\":[{\"fillpattern\":{\"fillmode\":\"overlay\",\"size\":10,\"solidity\":0.2},\"type\":\"scatter\"}],\"scatterternary\":[{\"marker\":{\"colorbar\":{\"outlinewidth\":0,\"ticks\":\"\"}},\"type\":\"scatterternary\"}],\"surface\":[{\"colorbar\":{\"outlinewidth\":0,\"ticks\":\"\"},\"colorscale\":[[0.0,\"#0d0887\"],[0.1111111111111111,\"#46039f\"],[0.2222222222222222,\"#7201a8\"],[0.3333333333333333,\"#9c179e\"],[0.4444444444444444,\"#bd3786\"],[0.5555555555555556,\"#d8576b\"],[0.6666666666666666,\"#ed7953\"],[0.7777777777777778,\"#fb9f3a\"],[0.8888888888888888,\"#fdca26\"],[1.0,\"#f0f921\"]],\"type\":\"surface\"}],\"table\":[{\"cells\":{\"fill\":{\"color\":\"#EBF0F8\"},\"line\":{\"color\":\"white\"}},\"header\":{\"fill\":{\"color\":\"#C8D4E3\"},\"line\":{\"color\":\"white\"}},\"type\":\"table\"}]},\"layout\":{\"annotationdefaults\":{\"arrowcolor\":\"#2a3f5f\",\"arrowhead\":0,\"arrowwidth\":1},\"autotypenumbers\":\"strict\",\"coloraxis\":{\"colorbar\":{\"outlinewidth\":0,\"ticks\":\"\"}},\"colorscale\":{\"diverging\":[[0,\"#8e0152\"],[0.1,\"#c51b7d\"],[0.2,\"#de77ae\"],[0.3,\"#f1b6da\"],[0.4,\"#fde0ef\"],[0.5,\"#f7f7f7\"],[0.6,\"#e6f5d0\"],[0.7,\"#b8e186\"],[0.8,\"#7fbc41\"],[0.9,\"#4d9221\"],[1,\"#276419\"]],\"sequential\":[[0.0,\"#0d0887\"],[0.1111111111111111,\"#46039f\"],[0.2222222222222222,\"#7201a8\"],[0.3333333333333333,\"#9c179e\"],[0.4444444444444444,\"#bd3786\"],[0.5555555555555556,\"#d8576b\"],[0.6666666666666666,\"#ed7953\"],[0.7777777777777778,\"#fb9f3a\"],[0.8888888888888888,\"#fdca26\"],[1.0,\"#f0f921\"]],\"sequentialminus\":[[0.0,\"#0d0887\"],[0.1111111111111111,\"#46039f\"],[0.2222222222222222,\"#7201a8\"],[0.3333333333333333,\"#9c179e\"],[0.4444444444444444,\"#bd3786\"],[0.5555555555555556,\"#d8576b\"],[0.6666666666666666,\"#ed7953\"],[0.7777777777777778,\"#fb9f3a\"],[0.8888888888888888,\"#fdca26\"],[1.0,\"#f0f921\"]]},\"colorway\":[\"#636efa\",\"#EF553B\",\"#00cc96\",\"#ab63fa\",\"#FFA15A\",\"#19d3f3\",\"#FF6692\",\"#B6E880\",\"#FF97FF\",\"#FECB52\"],\"font\":{\"color\":\"#2a3f5f\"},\"geo\":{\"bgcolor\":\"white\",\"lakecolor\":\"white\",\"landcolor\":\"white\",\"showlakes\":true,\"showland\":true,\"subunitcolor\":\"#C8D4E3\"},\"hoverlabel\":{\"align\":\"left\"},\"hovermode\":\"closest\",\"mapbox\":{\"style\":\"light\"},\"paper_bgcolor\":\"white\",\"plot_bgcolor\":\"white\",\"polar\":{\"angularaxis\":{\"gridcolor\":\"#EBF0F8\",\"linecolor\":\"#EBF0F8\",\"ticks\":\"\"},\"bgcolor\":\"white\",\"radialaxis\":{\"gridcolor\":\"#EBF0F8\",\"linecolor\":\"#EBF0F8\",\"ticks\":\"\"}},\"scene\":{\"xaxis\":{\"backgroundcolor\":\"white\",\"gridcolor\":\"#DFE8F3\",\"gridwidth\":2,\"linecolor\":\"#EBF0F8\",\"showbackground\":true,\"ticks\":\"\",\"zerolinecolor\":\"#EBF0F8\"},\"yaxis\":{\"backgroundcolor\":\"white\",\"gridcolor\":\"#DFE8F3\",\"gridwidth\":2,\"linecolor\":\"#EBF0F8\",\"showbackground\":true,\"ticks\":\"\",\"zerolinecolor\":\"#EBF0F8\"},\"zaxis\":{\"backgroundcolor\":\"white\",\"gridcolor\":\"#DFE8F3\",\"gridwidth\":2,\"linecolor\":\"#EBF0F8\",\"showbackground\":true,\"ticks\":\"\",\"zerolinecolor\":\"#EBF0F8\"}},\"shapedefaults\":{\"line\":{\"color\":\"#2a3f5f\"}},\"ternary\":{\"aaxis\":{\"gridcolor\":\"#DFE8F3\",\"linecolor\":\"#A2B1C6\",\"ticks\":\"\"},\"baxis\":{\"gridcolor\":\"#DFE8F3\",\"linecolor\":\"#A2B1C6\",\"ticks\":\"\"},\"bgcolor\":\"white\",\"caxis\":{\"gridcolor\":\"#DFE8F3\",\"linecolor\":\"#A2B1C6\",\"ticks\":\"\"}},\"title\":{\"x\":0.05},\"xaxis\":{\"automargin\":true,\"gridcolor\":\"#EBF0F8\",\"linecolor\":\"#EBF0F8\",\"ticks\":\"\",\"title\":{\"standoff\":15},\"zerolinecolor\":\"#EBF0F8\",\"zerolinewidth\":2},\"yaxis\":{\"automargin\":true,\"gridcolor\":\"#EBF0F8\",\"linecolor\":\"#EBF0F8\",\"ticks\":\"\",\"title\":{\"standoff\":15},\"zerolinecolor\":\"#EBF0F8\",\"zerolinewidth\":2}}},\"xaxis\":{\"anchor\":\"y\",\"domain\":[0.0,0.175],\"showgrid\":true},\"yaxis\":{\"anchor\":\"x\",\"domain\":[0.7555555555555555,1.0],\"showgrid\":true},\"xaxis2\":{\"anchor\":\"y2\",\"domain\":[0.275,0.45],\"showgrid\":true},\"yaxis2\":{\"anchor\":\"x2\",\"domain\":[0.7555555555555555,1.0],\"showgrid\":true},\"xaxis3\":{\"anchor\":\"y3\",\"domain\":[0.55,0.7250000000000001],\"showgrid\":true},\"yaxis3\":{\"anchor\":\"x3\",\"domain\":[0.7555555555555555,1.0],\"showgrid\":true},\"xaxis4\":{\"anchor\":\"y4\",\"domain\":[0.825,1.0],\"showgrid\":true},\"yaxis4\":{\"anchor\":\"x4\",\"domain\":[0.7555555555555555,1.0],\"showgrid\":true},\"xaxis5\":{\"anchor\":\"y5\",\"domain\":[0.0,0.175],\"showgrid\":true},\"yaxis5\":{\"anchor\":\"x5\",\"domain\":[0.37777777777777777,0.6222222222222222],\"showgrid\":true},\"xaxis6\":{\"anchor\":\"y6\",\"domain\":[0.275,0.45],\"showgrid\":true},\"yaxis6\":{\"anchor\":\"x6\",\"domain\":[0.37777777777777777,0.6222222222222222],\"showgrid\":true},\"xaxis7\":{\"anchor\":\"y7\",\"domain\":[0.55,0.7250000000000001],\"showgrid\":true},\"yaxis7\":{\"anchor\":\"x7\",\"domain\":[0.37777777777777777,0.6222222222222222],\"showgrid\":true},\"xaxis8\":{\"anchor\":\"y8\",\"domain\":[0.825,1.0],\"showgrid\":true},\"yaxis8\":{\"anchor\":\"x8\",\"domain\":[0.37777777777777777,0.6222222222222222],\"showgrid\":true},\"xaxis9\":{\"anchor\":\"y9\",\"domain\":[0.0,0.175],\"showgrid\":true},\"yaxis9\":{\"anchor\":\"x9\",\"domain\":[0.0,0.24444444444444446],\"showgrid\":true},\"xaxis10\":{\"anchor\":\"y10\",\"domain\":[0.275,0.45],\"showgrid\":true},\"yaxis10\":{\"anchor\":\"x10\",\"domain\":[0.0,0.24444444444444446],\"showgrid\":true},\"xaxis11\":{\"anchor\":\"y11\",\"domain\":[0.55,0.7250000000000001],\"showgrid\":true},\"yaxis11\":{\"anchor\":\"x11\",\"domain\":[0.0,0.24444444444444446],\"showgrid\":true},\"xaxis12\":{\"anchor\":\"y12\",\"domain\":[0.825,1.0],\"showgrid\":true},\"yaxis12\":{\"anchor\":\"x12\",\"domain\":[0.0,0.24444444444444446],\"showgrid\":true},\"annotations\":[{\"font\":{\"size\":16},\"showarrow\":false,\"text\":\"Topic 0\",\"x\":0.0875,\"xanchor\":\"center\",\"xref\":\"paper\",\"y\":1.0,\"yanchor\":\"bottom\",\"yref\":\"paper\"},{\"font\":{\"size\":16},\"showarrow\":false,\"text\":\"Topic 1\",\"x\":0.36250000000000004,\"xanchor\":\"center\",\"xref\":\"paper\",\"y\":1.0,\"yanchor\":\"bottom\",\"yref\":\"paper\"},{\"font\":{\"size\":16},\"showarrow\":false,\"text\":\"Topic 2\",\"x\":0.6375000000000001,\"xanchor\":\"center\",\"xref\":\"paper\",\"y\":1.0,\"yanchor\":\"bottom\",\"yref\":\"paper\"},{\"font\":{\"size\":16},\"showarrow\":false,\"text\":\"Topic 3\",\"x\":0.9125,\"xanchor\":\"center\",\"xref\":\"paper\",\"y\":1.0,\"yanchor\":\"bottom\",\"yref\":\"paper\"},{\"font\":{\"size\":16},\"showarrow\":false,\"text\":\"Topic 4\",\"x\":0.0875,\"xanchor\":\"center\",\"xref\":\"paper\",\"y\":0.6222222222222222,\"yanchor\":\"bottom\",\"yref\":\"paper\"},{\"font\":{\"size\":16},\"showarrow\":false,\"text\":\"Topic 5\",\"x\":0.36250000000000004,\"xanchor\":\"center\",\"xref\":\"paper\",\"y\":0.6222222222222222,\"yanchor\":\"bottom\",\"yref\":\"paper\"},{\"font\":{\"size\":16},\"showarrow\":false,\"text\":\"Topic 6\",\"x\":0.6375000000000001,\"xanchor\":\"center\",\"xref\":\"paper\",\"y\":0.6222222222222222,\"yanchor\":\"bottom\",\"yref\":\"paper\"},{\"font\":{\"size\":16},\"showarrow\":false,\"text\":\"Topic 7\",\"x\":0.9125,\"xanchor\":\"center\",\"xref\":\"paper\",\"y\":0.6222222222222222,\"yanchor\":\"bottom\",\"yref\":\"paper\"},{\"font\":{\"size\":16},\"showarrow\":false,\"text\":\"Topic 8\",\"x\":0.0875,\"xanchor\":\"center\",\"xref\":\"paper\",\"y\":0.24444444444444446,\"yanchor\":\"bottom\",\"yref\":\"paper\"},{\"font\":{\"size\":16},\"showarrow\":false,\"text\":\"Topic 9\",\"x\":0.36250000000000004,\"xanchor\":\"center\",\"xref\":\"paper\",\"y\":0.24444444444444446,\"yanchor\":\"bottom\",\"yref\":\"paper\"}],\"title\":{\"font\":{\"size\":22,\"color\":\"Black\"},\"text\":\"<b>Topic Word Scores\",\"x\":0.5,\"xanchor\":\"center\",\"yanchor\":\"top\"},\"hoverlabel\":{\"font\":{\"size\":16,\"family\":\"Rockwell\"},\"bgcolor\":\"white\"},\"showlegend\":false,\"width\":1000,\"height\":750},                        {\"responsive\": true}                    ).then(function(){\n",
       "                            \n",
       "var gd = document.getElementById('c3f91920-6621-4234-95b2-987211b28da1');\n",
       "var x = new MutationObserver(function (mutations, observer) {{\n",
       "        var display = window.getComputedStyle(gd).display;\n",
       "        if (!display || display === 'none') {{\n",
       "            console.log([gd, 'removed!']);\n",
       "            Plotly.purge(gd);\n",
       "            observer.disconnect();\n",
       "        }}\n",
       "}});\n",
       "\n",
       "// Listen for the removal of the full notebook cells\n",
       "var notebookContainer = gd.closest('#notebook-container');\n",
       "if (notebookContainer) {{\n",
       "    x.observe(notebookContainer, {childList: true});\n",
       "}}\n",
       "\n",
       "// Listen for the clearing of the current output cell\n",
       "var outputEl = gd.closest('.output');\n",
       "if (outputEl) {{\n",
       "    x.observe(outputEl, {childList: true});\n",
       "}}\n",
       "\n",
       "                        })                };                });            </script>        </div>"
      ],
      "text/plain": [
       "Figure({\n",
       "    'data': [{'marker': {'color': '#D55E00'},\n",
       "              'orientation': 'h',\n",
       "              'type': 'bar',\n",
       "              'x': [0.019566469772655835, 0.020280721093526643,\n",
       "                    0.02400581481619549, 0.02530799594707143, 0.030254728251281483],\n",
       "              'xaxis': 'x',\n",
       "              'y': [wales  , side  , club  , game  , england  ],\n",
       "              'yaxis': 'y'},\n",
       "             {'marker': {'color': '#0072B2'},\n",
       "              'orientation': 'h',\n",
       "              'type': 'bar',\n",
       "              'x': [0.021122540243243497, 0.022220589422197984,\n",
       "                    0.0249409811753984, 0.025287409610241608, 0.025946592219114554],\n",
       "              'xaxis': 'x2',\n",
       "              'y': [games  , technology  , said  , people  , mobile  ],\n",
       "              'yaxis': 'y2'},\n",
       "             {'marker': {'color': '#CC79A7'},\n",
       "              'orientation': 'h',\n",
       "              'type': 'bar',\n",
       "              'x': [0.038510635881534264, 0.042762444880819483,\n",
       "                    0.04909422271712879, 0.0567949359435381, 0.06572727320898723],\n",
       "              'xaxis': 'x3',\n",
       "              'y': [blair  , party  , election  , labour  , mr  ],\n",
       "              'yaxis': 'y3'},\n",
       "             {'marker': {'color': '#E69F00'},\n",
       "              'orientation': 'h',\n",
       "              'type': 'bar',\n",
       "              'x': [0.029358098960346305, 0.031121618024622023,\n",
       "                    0.039072161050347026, 0.043020280689228904,\n",
       "                    0.05178097244994399],\n",
       "              'xaxis': 'x4',\n",
       "              'y': [best  , song  , album  , band  , music  ],\n",
       "              'yaxis': 'y4'},\n",
       "             {'marker': {'color': '#56B4E9'},\n",
       "              'orientation': 'h',\n",
       "              'type': 'bar',\n",
       "              'x': [0.03324425111983161, 0.03393443671707653, 0.03526850736473189,\n",
       "                    0.035449605288189336, 0.03752688986972046],\n",
       "              'xaxis': 'x5',\n",
       "              'y': [virus  , search  , microsoft  , users  , security  ],\n",
       "              'yaxis': 'y5'},\n",
       "             {'marker': {'color': '#009E73'},\n",
       "              'orientation': 'h',\n",
       "              'type': 'bar',\n",
       "              'x': [0.030662176647617865, 0.033349599242286344,\n",
       "                    0.034876992182618735, 0.03518763862523263, 0.04283189064764948],\n",
       "              'xaxis': 'x6',\n",
       "              'y': [champion  , world  , athens  , race  , olympic  ],\n",
       "              'yaxis': 'y6'},\n",
       "             {'marker': {'color': '#F0E442'},\n",
       "              'orientation': 'h',\n",
       "              'type': 'bar',\n",
       "              'x': [0.03504548563443753, 0.03526419618635194, 0.03721565912707275,\n",
       "                    0.051859566470130486, 0.05400475451863208],\n",
       "              'xaxis': 'x7',\n",
       "              'y': [said  , dollar  , economic  , economy  , growth  ],\n",
       "              'yaxis': 'y7'},\n",
       "             {'marker': {'color': '#D55E00'},\n",
       "              'orientation': 'h',\n",
       "              'type': 'bar',\n",
       "              'x': [0.03522709004409476, 0.036958574233989294,\n",
       "                    0.041466380048654196, 0.07158455963777374, 0.0826978482498562],\n",
       "              'xaxis': 'x8',\n",
       "              'y': [awards  , oscar  , actor  , best  , film  ],\n",
       "              'yaxis': 'y8'},\n",
       "             {'marker': {'color': '#0072B2'},\n",
       "              'orientation': 'h',\n",
       "              'type': 'bar',\n",
       "              'x': [0.036484723264400894, 0.03655204520220245,\n",
       "                    0.03982125701134974, 0.05129561496377979, 0.05371157594871628],\n",
       "              'xaxis': 'x9',\n",
       "              'y': [australian  , set  , seed  , roddick  , open  ],\n",
       "              'yaxis': 'y9'},\n",
       "             {'marker': {'color': '#CC79A7'},\n",
       "              'orientation': 'h',\n",
       "              'type': 'bar',\n",
       "              'x': [0.042157198489901015, 0.04335913329666962,\n",
       "                    0.055460119945248375, 0.08851587217982149, 0.09900767718497917],\n",
       "              'xaxis': 'x10',\n",
       "              'y': [russia  , gazprom  , russian  , oil  , yukos  ],\n",
       "              'yaxis': 'y10'}],\n",
       "    'layout': {'annotations': [{'font': {'size': 16},\n",
       "                                'showarrow': False,\n",
       "                                'text': 'Topic 0',\n",
       "                                'x': 0.0875,\n",
       "                                'xanchor': 'center',\n",
       "                                'xref': 'paper',\n",
       "                                'y': 1.0,\n",
       "                                'yanchor': 'bottom',\n",
       "                                'yref': 'paper'},\n",
       "                               {'font': {'size': 16},\n",
       "                                'showarrow': False,\n",
       "                                'text': 'Topic 1',\n",
       "                                'x': 0.36250000000000004,\n",
       "                                'xanchor': 'center',\n",
       "                                'xref': 'paper',\n",
       "                                'y': 1.0,\n",
       "                                'yanchor': 'bottom',\n",
       "                                'yref': 'paper'},\n",
       "                               {'font': {'size': 16},\n",
       "                                'showarrow': False,\n",
       "                                'text': 'Topic 2',\n",
       "                                'x': 0.6375000000000001,\n",
       "                                'xanchor': 'center',\n",
       "                                'xref': 'paper',\n",
       "                                'y': 1.0,\n",
       "                                'yanchor': 'bottom',\n",
       "                                'yref': 'paper'},\n",
       "                               {'font': {'size': 16},\n",
       "                                'showarrow': False,\n",
       "                                'text': 'Topic 3',\n",
       "                                'x': 0.9125,\n",
       "                                'xanchor': 'center',\n",
       "                                'xref': 'paper',\n",
       "                                'y': 1.0,\n",
       "                                'yanchor': 'bottom',\n",
       "                                'yref': 'paper'},\n",
       "                               {'font': {'size': 16},\n",
       "                                'showarrow': False,\n",
       "                                'text': 'Topic 4',\n",
       "                                'x': 0.0875,\n",
       "                                'xanchor': 'center',\n",
       "                                'xref': 'paper',\n",
       "                                'y': 0.6222222222222222,\n",
       "                                'yanchor': 'bottom',\n",
       "                                'yref': 'paper'},\n",
       "                               {'font': {'size': 16},\n",
       "                                'showarrow': False,\n",
       "                                'text': 'Topic 5',\n",
       "                                'x': 0.36250000000000004,\n",
       "                                'xanchor': 'center',\n",
       "                                'xref': 'paper',\n",
       "                                'y': 0.6222222222222222,\n",
       "                                'yanchor': 'bottom',\n",
       "                                'yref': 'paper'},\n",
       "                               {'font': {'size': 16},\n",
       "                                'showarrow': False,\n",
       "                                'text': 'Topic 6',\n",
       "                                'x': 0.6375000000000001,\n",
       "                                'xanchor': 'center',\n",
       "                                'xref': 'paper',\n",
       "                                'y': 0.6222222222222222,\n",
       "                                'yanchor': 'bottom',\n",
       "                                'yref': 'paper'},\n",
       "                               {'font': {'size': 16},\n",
       "                                'showarrow': False,\n",
       "                                'text': 'Topic 7',\n",
       "                                'x': 0.9125,\n",
       "                                'xanchor': 'center',\n",
       "                                'xref': 'paper',\n",
       "                                'y': 0.6222222222222222,\n",
       "                                'yanchor': 'bottom',\n",
       "                                'yref': 'paper'},\n",
       "                               {'font': {'size': 16},\n",
       "                                'showarrow': False,\n",
       "                                'text': 'Topic 8',\n",
       "                                'x': 0.0875,\n",
       "                                'xanchor': 'center',\n",
       "                                'xref': 'paper',\n",
       "                                'y': 0.24444444444444446,\n",
       "                                'yanchor': 'bottom',\n",
       "                                'yref': 'paper'},\n",
       "                               {'font': {'size': 16},\n",
       "                                'showarrow': False,\n",
       "                                'text': 'Topic 9',\n",
       "                                'x': 0.36250000000000004,\n",
       "                                'xanchor': 'center',\n",
       "                                'xref': 'paper',\n",
       "                                'y': 0.24444444444444446,\n",
       "                                'yanchor': 'bottom',\n",
       "                                'yref': 'paper'}],\n",
       "               'height': 750,\n",
       "               'hoverlabel': {'bgcolor': 'white', 'font': {'family': 'Rockwell', 'size': 16}},\n",
       "               'showlegend': False,\n",
       "               'template': '...',\n",
       "               'title': {'font': {'color': 'Black', 'size': 22},\n",
       "                         'text': '<b>Topic Word Scores',\n",
       "                         'x': 0.5,\n",
       "                         'xanchor': 'center',\n",
       "                         'yanchor': 'top'},\n",
       "               'width': 1000,\n",
       "               'xaxis': {'anchor': 'y', 'domain': [0.0, 0.175], 'showgrid': True},\n",
       "               'xaxis10': {'anchor': 'y10', 'domain': [0.275, 0.45], 'showgrid': True},\n",
       "               'xaxis11': {'anchor': 'y11', 'domain': [0.55, 0.7250000000000001], 'showgrid': True},\n",
       "               'xaxis12': {'anchor': 'y12', 'domain': [0.825, 1.0], 'showgrid': True},\n",
       "               'xaxis2': {'anchor': 'y2', 'domain': [0.275, 0.45], 'showgrid': True},\n",
       "               'xaxis3': {'anchor': 'y3', 'domain': [0.55, 0.7250000000000001], 'showgrid': True},\n",
       "               'xaxis4': {'anchor': 'y4', 'domain': [0.825, 1.0], 'showgrid': True},\n",
       "               'xaxis5': {'anchor': 'y5', 'domain': [0.0, 0.175], 'showgrid': True},\n",
       "               'xaxis6': {'anchor': 'y6', 'domain': [0.275, 0.45], 'showgrid': True},\n",
       "               'xaxis7': {'anchor': 'y7', 'domain': [0.55, 0.7250000000000001], 'showgrid': True},\n",
       "               'xaxis8': {'anchor': 'y8', 'domain': [0.825, 1.0], 'showgrid': True},\n",
       "               'xaxis9': {'anchor': 'y9', 'domain': [0.0, 0.175], 'showgrid': True},\n",
       "               'yaxis': {'anchor': 'x', 'domain': [0.7555555555555555, 1.0], 'showgrid': True},\n",
       "               'yaxis10': {'anchor': 'x10', 'domain': [0.0, 0.24444444444444446], 'showgrid': True},\n",
       "               'yaxis11': {'anchor': 'x11', 'domain': [0.0, 0.24444444444444446], 'showgrid': True},\n",
       "               'yaxis12': {'anchor': 'x12', 'domain': [0.0, 0.24444444444444446], 'showgrid': True},\n",
       "               'yaxis2': {'anchor': 'x2', 'domain': [0.7555555555555555, 1.0], 'showgrid': True},\n",
       "               'yaxis3': {'anchor': 'x3', 'domain': [0.7555555555555555, 1.0], 'showgrid': True},\n",
       "               'yaxis4': {'anchor': 'x4', 'domain': [0.7555555555555555, 1.0], 'showgrid': True},\n",
       "               'yaxis5': {'anchor': 'x5', 'domain': [0.37777777777777777, 0.6222222222222222], 'showgrid': True},\n",
       "               'yaxis6': {'anchor': 'x6', 'domain': [0.37777777777777777, 0.6222222222222222], 'showgrid': True},\n",
       "               'yaxis7': {'anchor': 'x7', 'domain': [0.37777777777777777, 0.6222222222222222], 'showgrid': True},\n",
       "               'yaxis8': {'anchor': 'x8', 'domain': [0.37777777777777777, 0.6222222222222222], 'showgrid': True},\n",
       "               'yaxis9': {'anchor': 'x9', 'domain': [0.0, 0.24444444444444446], 'showgrid': True}}\n",
       "})"
      ]
     },
     "execution_count": 42,
     "metadata": {},
     "output_type": "execute_result"
    }
   ],
   "source": [
    "model.visualize_barchart(top_n_topics=10)"
   ]
  },
  {
   "cell_type": "code",
   "execution_count": 43,
   "metadata": {},
   "outputs": [
    {
     "ename": "ValueError",
     "evalue": "Mime type rendering requires nbformat>=4.2.0 but it is not installed",
     "output_type": "error",
     "traceback": [
      "\u001b[0;31m---------------------------------------------------------------------------\u001b[0m",
      "\u001b[0;31mValueError\u001b[0m                                Traceback (most recent call last)",
      "File \u001b[0;32m~/miniforge3/envs/bert_eng/lib/python3.8/site-packages/IPython/core/formatters.py:921\u001b[0m, in \u001b[0;36mIPythonDisplayFormatter.__call__\u001b[0;34m(self, obj)\u001b[0m\n\u001b[1;32m    <a href='file:///home/jongwook95.lee/miniforge3/envs/bert_eng/lib/python3.8/site-packages/IPython/core/formatters.py?line=918'>919</a>\u001b[0m method \u001b[39m=\u001b[39m get_real_method(obj, \u001b[39mself\u001b[39m\u001b[39m.\u001b[39mprint_method)\n\u001b[1;32m    <a href='file:///home/jongwook95.lee/miniforge3/envs/bert_eng/lib/python3.8/site-packages/IPython/core/formatters.py?line=919'>920</a>\u001b[0m \u001b[39mif\u001b[39;00m method \u001b[39mis\u001b[39;00m \u001b[39mnot\u001b[39;00m \u001b[39mNone\u001b[39;00m:\n\u001b[0;32m--> <a href='file:///home/jongwook95.lee/miniforge3/envs/bert_eng/lib/python3.8/site-packages/IPython/core/formatters.py?line=920'>921</a>\u001b[0m     method()\n\u001b[1;32m    <a href='file:///home/jongwook95.lee/miniforge3/envs/bert_eng/lib/python3.8/site-packages/IPython/core/formatters.py?line=921'>922</a>\u001b[0m     \u001b[39mreturn\u001b[39;00m \u001b[39mTrue\u001b[39;00m\n",
      "File \u001b[0;32m~/miniforge3/envs/bert_eng/lib/python3.8/site-packages/plotly/basedatatypes.py:842\u001b[0m, in \u001b[0;36mBaseFigure._ipython_display_\u001b[0;34m(self)\u001b[0m\n\u001b[1;32m    <a href='file:///home/jongwook95.lee/miniforge3/envs/bert_eng/lib/python3.8/site-packages/plotly/basedatatypes.py?line=838'>839</a>\u001b[0m \u001b[39mimport\u001b[39;00m \u001b[39mplotly\u001b[39;00m\u001b[39m.\u001b[39;00m\u001b[39mio\u001b[39;00m \u001b[39mas\u001b[39;00m \u001b[39mpio\u001b[39;00m\n\u001b[1;32m    <a href='file:///home/jongwook95.lee/miniforge3/envs/bert_eng/lib/python3.8/site-packages/plotly/basedatatypes.py?line=840'>841</a>\u001b[0m \u001b[39mif\u001b[39;00m pio\u001b[39m.\u001b[39mrenderers\u001b[39m.\u001b[39mrender_on_display \u001b[39mand\u001b[39;00m pio\u001b[39m.\u001b[39mrenderers\u001b[39m.\u001b[39mdefault:\n\u001b[0;32m--> <a href='file:///home/jongwook95.lee/miniforge3/envs/bert_eng/lib/python3.8/site-packages/plotly/basedatatypes.py?line=841'>842</a>\u001b[0m     pio\u001b[39m.\u001b[39;49mshow(\u001b[39mself\u001b[39;49m)\n\u001b[1;32m    <a href='file:///home/jongwook95.lee/miniforge3/envs/bert_eng/lib/python3.8/site-packages/plotly/basedatatypes.py?line=842'>843</a>\u001b[0m \u001b[39melse\u001b[39;00m:\n\u001b[1;32m    <a href='file:///home/jongwook95.lee/miniforge3/envs/bert_eng/lib/python3.8/site-packages/plotly/basedatatypes.py?line=843'>844</a>\u001b[0m     \u001b[39mprint\u001b[39m(\u001b[39mrepr\u001b[39m(\u001b[39mself\u001b[39m))\n",
      "File \u001b[0;32m~/miniforge3/envs/bert_eng/lib/python3.8/site-packages/plotly/io/_renderers.py:396\u001b[0m, in \u001b[0;36mshow\u001b[0;34m(fig, renderer, validate, **kwargs)\u001b[0m\n\u001b[1;32m    <a href='file:///home/jongwook95.lee/miniforge3/envs/bert_eng/lib/python3.8/site-packages/plotly/io/_renderers.py?line=390'>391</a>\u001b[0m         \u001b[39mraise\u001b[39;00m \u001b[39mValueError\u001b[39;00m(\n\u001b[1;32m    <a href='file:///home/jongwook95.lee/miniforge3/envs/bert_eng/lib/python3.8/site-packages/plotly/io/_renderers.py?line=391'>392</a>\u001b[0m             \u001b[39m\"\u001b[39m\u001b[39mMime type rendering requires ipython but it is not installed\u001b[39m\u001b[39m\"\u001b[39m\n\u001b[1;32m    <a href='file:///home/jongwook95.lee/miniforge3/envs/bert_eng/lib/python3.8/site-packages/plotly/io/_renderers.py?line=392'>393</a>\u001b[0m         )\n\u001b[1;32m    <a href='file:///home/jongwook95.lee/miniforge3/envs/bert_eng/lib/python3.8/site-packages/plotly/io/_renderers.py?line=394'>395</a>\u001b[0m     \u001b[39mif\u001b[39;00m \u001b[39mnot\u001b[39;00m nbformat \u001b[39mor\u001b[39;00m LooseVersion(nbformat\u001b[39m.\u001b[39m__version__) \u001b[39m<\u001b[39m LooseVersion(\u001b[39m\"\u001b[39m\u001b[39m4.2.0\u001b[39m\u001b[39m\"\u001b[39m):\n\u001b[0;32m--> <a href='file:///home/jongwook95.lee/miniforge3/envs/bert_eng/lib/python3.8/site-packages/plotly/io/_renderers.py?line=395'>396</a>\u001b[0m         \u001b[39mraise\u001b[39;00m \u001b[39mValueError\u001b[39;00m(\n\u001b[1;32m    <a href='file:///home/jongwook95.lee/miniforge3/envs/bert_eng/lib/python3.8/site-packages/plotly/io/_renderers.py?line=396'>397</a>\u001b[0m             \u001b[39m\"\u001b[39m\u001b[39mMime type rendering requires nbformat>=4.2.0 but it is not installed\u001b[39m\u001b[39m\"\u001b[39m\n\u001b[1;32m    <a href='file:///home/jongwook95.lee/miniforge3/envs/bert_eng/lib/python3.8/site-packages/plotly/io/_renderers.py?line=397'>398</a>\u001b[0m         )\n\u001b[1;32m    <a href='file:///home/jongwook95.lee/miniforge3/envs/bert_eng/lib/python3.8/site-packages/plotly/io/_renderers.py?line=399'>400</a>\u001b[0m     ipython_display\u001b[39m.\u001b[39mdisplay(bundle, raw\u001b[39m=\u001b[39m\u001b[39mTrue\u001b[39;00m)\n\u001b[1;32m    <a href='file:///home/jongwook95.lee/miniforge3/envs/bert_eng/lib/python3.8/site-packages/plotly/io/_renderers.py?line=401'>402</a>\u001b[0m \u001b[39m# external renderers\u001b[39;00m\n",
      "\u001b[0;31mValueError\u001b[0m: Mime type rendering requires nbformat>=4.2.0 but it is not installed"
     ]
    },
    {
     "data": {
      "application/vnd.plotly.v1+json": {
       "config": {
        "plotlyServerURL": "https://plot.ly"
       },
       "data": [
        {
         "customdata": [
          [
           0,
           "england | game | club | side | wales",
           337
          ],
          [
           1,
           "mobile | people | said | technology | games",
           274
          ],
          [
           2,
           "mr | labour | election | party | blair",
           151
          ],
          [
           3,
           "music | band | album | song | best",
           122
          ],
          [
           4,
           "security | users | microsoft | search | virus",
           101
          ],
          [
           5,
           "olympic | race | athens | world | champion",
           100
          ],
          [
           6,
           "growth | economy | economic | dollar | said",
           92
          ],
          [
           7,
           "film | best | actor | oscar | awards",
           89
          ],
          [
           8,
           "open | roddick | seed | set | australian",
           87
          ],
          [
           9,
           "yukos | oil | russian | gazprom | russia",
           51
          ]
         ],
         "hovertemplate": "<b>Topic %{customdata[0]}</b><br>Words: %{customdata[1]}<br>Size: %{customdata[2]}",
         "legendgroup": "",
         "marker": {
          "color": "#B0BEC5",
          "line": {
           "color": "DarkSlateGrey",
           "width": 2
          },
          "size": [
           337,
           274,
           151,
           122,
           101,
           100,
           92,
           89,
           87,
           51
          ],
          "sizemode": "area",
          "sizeref": 0.210625,
          "symbol": "circle"
         },
         "mode": "markers",
         "name": "",
         "orientation": "v",
         "showlegend": false,
         "type": "scatter",
         "x": [
          10.91758918762207,
          3.4595072269439697,
          10.62165641784668,
          -7.889737129211426,
          3.096954822540283,
          -9.766547203063965,
          10.642364501953125,
          -7.595442295074463,
          -10.023823738098145,
          10.970123291015625
         ],
         "xaxis": "x",
         "y": [
          -3.7893378734588623,
          14.27505874633789,
          -3.492863655090332,
          -3.877096652984619,
          14.637513160705566,
          -9.712836265563965,
          2.252074718475342,
          -3.6025891304016113,
          -9.456308364868164,
          1.9214996099472046
         ],
         "yaxis": "y"
        }
       ],
       "layout": {
        "annotations": [
         {
          "showarrow": false,
          "text": "D1",
          "x": -11.527397298812867,
          "y": 2.8316892147064205,
          "yshift": 10
         },
         {
          "showarrow": false,
          "text": "D2",
          "x": 0.5441222429275507,
          "xshift": 10,
          "y": 16.8331401348114
         }
        ],
        "height": 650,
        "hoverlabel": {
         "bgcolor": "white",
         "font": {
          "family": "Rockwell",
          "size": 16
         }
        },
        "legend": {
         "itemsizing": "constant",
         "tracegroupgap": 0
        },
        "margin": {
         "t": 60
        },
        "shapes": [
         {
          "line": {
           "color": "#CFD8DC",
           "width": 2
          },
          "type": "line",
          "x0": 0.5441222429275507,
          "x1": 0.5441222429275507,
          "y0": -11.16976170539856,
          "y1": 16.8331401348114
         },
         {
          "line": {
           "color": "#9E9E9E",
           "width": 2
          },
          "type": "line",
          "x0": -11.527397298812867,
          "x1": 12.615641784667968,
          "y0": 2.8316892147064205,
          "y1": 2.8316892147064205
         }
        ],
        "sliders": [
         {
          "active": 0,
          "pad": {
           "t": 50
          },
          "steps": [
           {
            "args": [
             {
              "marker.color": [
               [
                "red",
                "#B0BEC5",
                "#B0BEC5",
                "#B0BEC5",
                "#B0BEC5",
                "#B0BEC5",
                "#B0BEC5",
                "#B0BEC5",
                "#B0BEC5",
                "#B0BEC5"
               ]
              ]
             }
            ],
            "label": "Topic 0",
            "method": "update"
           },
           {
            "args": [
             {
              "marker.color": [
               [
                "#B0BEC5",
                "red",
                "#B0BEC5",
                "#B0BEC5",
                "#B0BEC5",
                "#B0BEC5",
                "#B0BEC5",
                "#B0BEC5",
                "#B0BEC5",
                "#B0BEC5"
               ]
              ]
             }
            ],
            "label": "Topic 1",
            "method": "update"
           },
           {
            "args": [
             {
              "marker.color": [
               [
                "#B0BEC5",
                "#B0BEC5",
                "red",
                "#B0BEC5",
                "#B0BEC5",
                "#B0BEC5",
                "#B0BEC5",
                "#B0BEC5",
                "#B0BEC5",
                "#B0BEC5"
               ]
              ]
             }
            ],
            "label": "Topic 2",
            "method": "update"
           },
           {
            "args": [
             {
              "marker.color": [
               [
                "#B0BEC5",
                "#B0BEC5",
                "#B0BEC5",
                "red",
                "#B0BEC5",
                "#B0BEC5",
                "#B0BEC5",
                "#B0BEC5",
                "#B0BEC5",
                "#B0BEC5"
               ]
              ]
             }
            ],
            "label": "Topic 3",
            "method": "update"
           },
           {
            "args": [
             {
              "marker.color": [
               [
                "#B0BEC5",
                "#B0BEC5",
                "#B0BEC5",
                "#B0BEC5",
                "red",
                "#B0BEC5",
                "#B0BEC5",
                "#B0BEC5",
                "#B0BEC5",
                "#B0BEC5"
               ]
              ]
             }
            ],
            "label": "Topic 4",
            "method": "update"
           },
           {
            "args": [
             {
              "marker.color": [
               [
                "#B0BEC5",
                "#B0BEC5",
                "#B0BEC5",
                "#B0BEC5",
                "#B0BEC5",
                "red",
                "#B0BEC5",
                "#B0BEC5",
                "#B0BEC5",
                "#B0BEC5"
               ]
              ]
             }
            ],
            "label": "Topic 5",
            "method": "update"
           },
           {
            "args": [
             {
              "marker.color": [
               [
                "#B0BEC5",
                "#B0BEC5",
                "#B0BEC5",
                "#B0BEC5",
                "#B0BEC5",
                "#B0BEC5",
                "red",
                "#B0BEC5",
                "#B0BEC5",
                "#B0BEC5"
               ]
              ]
             }
            ],
            "label": "Topic 6",
            "method": "update"
           },
           {
            "args": [
             {
              "marker.color": [
               [
                "#B0BEC5",
                "#B0BEC5",
                "#B0BEC5",
                "#B0BEC5",
                "#B0BEC5",
                "#B0BEC5",
                "#B0BEC5",
                "red",
                "#B0BEC5",
                "#B0BEC5"
               ]
              ]
             }
            ],
            "label": "Topic 7",
            "method": "update"
           },
           {
            "args": [
             {
              "marker.color": [
               [
                "#B0BEC5",
                "#B0BEC5",
                "#B0BEC5",
                "#B0BEC5",
                "#B0BEC5",
                "#B0BEC5",
                "#B0BEC5",
                "#B0BEC5",
                "red",
                "#B0BEC5"
               ]
              ]
             }
            ],
            "label": "Topic 8",
            "method": "update"
           },
           {
            "args": [
             {
              "marker.color": [
               [
                "#B0BEC5",
                "#B0BEC5",
                "#B0BEC5",
                "#B0BEC5",
                "#B0BEC5",
                "#B0BEC5",
                "#B0BEC5",
                "#B0BEC5",
                "#B0BEC5",
                "red"
               ]
              ]
             }
            ],
            "label": "Topic 9",
            "method": "update"
           }
          ]
         }
        ],
        "template": {
         "data": {
          "bar": [
           {
            "error_x": {
             "color": "rgb(36,36,36)"
            },
            "error_y": {
             "color": "rgb(36,36,36)"
            },
            "marker": {
             "line": {
              "color": "white",
              "width": 0.5
             },
             "pattern": {
              "fillmode": "overlay",
              "size": 10,
              "solidity": 0.2
             }
            },
            "type": "bar"
           }
          ],
          "barpolar": [
           {
            "marker": {
             "line": {
              "color": "white",
              "width": 0.5
             },
             "pattern": {
              "fillmode": "overlay",
              "size": 10,
              "solidity": 0.2
             }
            },
            "type": "barpolar"
           }
          ],
          "carpet": [
           {
            "aaxis": {
             "endlinecolor": "rgb(36,36,36)",
             "gridcolor": "white",
             "linecolor": "white",
             "minorgridcolor": "white",
             "startlinecolor": "rgb(36,36,36)"
            },
            "baxis": {
             "endlinecolor": "rgb(36,36,36)",
             "gridcolor": "white",
             "linecolor": "white",
             "minorgridcolor": "white",
             "startlinecolor": "rgb(36,36,36)"
            },
            "type": "carpet"
           }
          ],
          "choropleth": [
           {
            "colorbar": {
             "outlinewidth": 1,
             "tickcolor": "rgb(36,36,36)",
             "ticks": "outside"
            },
            "type": "choropleth"
           }
          ],
          "contour": [
           {
            "colorbar": {
             "outlinewidth": 1,
             "tickcolor": "rgb(36,36,36)",
             "ticks": "outside"
            },
            "colorscale": [
             [
              0,
              "#440154"
             ],
             [
              0.1111111111111111,
              "#482878"
             ],
             [
              0.2222222222222222,
              "#3e4989"
             ],
             [
              0.3333333333333333,
              "#31688e"
             ],
             [
              0.4444444444444444,
              "#26828e"
             ],
             [
              0.5555555555555556,
              "#1f9e89"
             ],
             [
              0.6666666666666666,
              "#35b779"
             ],
             [
              0.7777777777777778,
              "#6ece58"
             ],
             [
              0.8888888888888888,
              "#b5de2b"
             ],
             [
              1,
              "#fde725"
             ]
            ],
            "type": "contour"
           }
          ],
          "contourcarpet": [
           {
            "colorbar": {
             "outlinewidth": 1,
             "tickcolor": "rgb(36,36,36)",
             "ticks": "outside"
            },
            "type": "contourcarpet"
           }
          ],
          "heatmap": [
           {
            "colorbar": {
             "outlinewidth": 1,
             "tickcolor": "rgb(36,36,36)",
             "ticks": "outside"
            },
            "colorscale": [
             [
              0,
              "#440154"
             ],
             [
              0.1111111111111111,
              "#482878"
             ],
             [
              0.2222222222222222,
              "#3e4989"
             ],
             [
              0.3333333333333333,
              "#31688e"
             ],
             [
              0.4444444444444444,
              "#26828e"
             ],
             [
              0.5555555555555556,
              "#1f9e89"
             ],
             [
              0.6666666666666666,
              "#35b779"
             ],
             [
              0.7777777777777778,
              "#6ece58"
             ],
             [
              0.8888888888888888,
              "#b5de2b"
             ],
             [
              1,
              "#fde725"
             ]
            ],
            "type": "heatmap"
           }
          ],
          "heatmapgl": [
           {
            "colorbar": {
             "outlinewidth": 1,
             "tickcolor": "rgb(36,36,36)",
             "ticks": "outside"
            },
            "colorscale": [
             [
              0,
              "#440154"
             ],
             [
              0.1111111111111111,
              "#482878"
             ],
             [
              0.2222222222222222,
              "#3e4989"
             ],
             [
              0.3333333333333333,
              "#31688e"
             ],
             [
              0.4444444444444444,
              "#26828e"
             ],
             [
              0.5555555555555556,
              "#1f9e89"
             ],
             [
              0.6666666666666666,
              "#35b779"
             ],
             [
              0.7777777777777778,
              "#6ece58"
             ],
             [
              0.8888888888888888,
              "#b5de2b"
             ],
             [
              1,
              "#fde725"
             ]
            ],
            "type": "heatmapgl"
           }
          ],
          "histogram": [
           {
            "marker": {
             "line": {
              "color": "white",
              "width": 0.6
             }
            },
            "type": "histogram"
           }
          ],
          "histogram2d": [
           {
            "colorbar": {
             "outlinewidth": 1,
             "tickcolor": "rgb(36,36,36)",
             "ticks": "outside"
            },
            "colorscale": [
             [
              0,
              "#440154"
             ],
             [
              0.1111111111111111,
              "#482878"
             ],
             [
              0.2222222222222222,
              "#3e4989"
             ],
             [
              0.3333333333333333,
              "#31688e"
             ],
             [
              0.4444444444444444,
              "#26828e"
             ],
             [
              0.5555555555555556,
              "#1f9e89"
             ],
             [
              0.6666666666666666,
              "#35b779"
             ],
             [
              0.7777777777777778,
              "#6ece58"
             ],
             [
              0.8888888888888888,
              "#b5de2b"
             ],
             [
              1,
              "#fde725"
             ]
            ],
            "type": "histogram2d"
           }
          ],
          "histogram2dcontour": [
           {
            "colorbar": {
             "outlinewidth": 1,
             "tickcolor": "rgb(36,36,36)",
             "ticks": "outside"
            },
            "colorscale": [
             [
              0,
              "#440154"
             ],
             [
              0.1111111111111111,
              "#482878"
             ],
             [
              0.2222222222222222,
              "#3e4989"
             ],
             [
              0.3333333333333333,
              "#31688e"
             ],
             [
              0.4444444444444444,
              "#26828e"
             ],
             [
              0.5555555555555556,
              "#1f9e89"
             ],
             [
              0.6666666666666666,
              "#35b779"
             ],
             [
              0.7777777777777778,
              "#6ece58"
             ],
             [
              0.8888888888888888,
              "#b5de2b"
             ],
             [
              1,
              "#fde725"
             ]
            ],
            "type": "histogram2dcontour"
           }
          ],
          "mesh3d": [
           {
            "colorbar": {
             "outlinewidth": 1,
             "tickcolor": "rgb(36,36,36)",
             "ticks": "outside"
            },
            "type": "mesh3d"
           }
          ],
          "parcoords": [
           {
            "line": {
             "colorbar": {
              "outlinewidth": 1,
              "tickcolor": "rgb(36,36,36)",
              "ticks": "outside"
             }
            },
            "type": "parcoords"
           }
          ],
          "pie": [
           {
            "automargin": true,
            "type": "pie"
           }
          ],
          "scatter": [
           {
            "fillpattern": {
             "fillmode": "overlay",
             "size": 10,
             "solidity": 0.2
            },
            "type": "scatter"
           }
          ],
          "scatter3d": [
           {
            "line": {
             "colorbar": {
              "outlinewidth": 1,
              "tickcolor": "rgb(36,36,36)",
              "ticks": "outside"
             }
            },
            "marker": {
             "colorbar": {
              "outlinewidth": 1,
              "tickcolor": "rgb(36,36,36)",
              "ticks": "outside"
             }
            },
            "type": "scatter3d"
           }
          ],
          "scattercarpet": [
           {
            "marker": {
             "colorbar": {
              "outlinewidth": 1,
              "tickcolor": "rgb(36,36,36)",
              "ticks": "outside"
             }
            },
            "type": "scattercarpet"
           }
          ],
          "scattergeo": [
           {
            "marker": {
             "colorbar": {
              "outlinewidth": 1,
              "tickcolor": "rgb(36,36,36)",
              "ticks": "outside"
             }
            },
            "type": "scattergeo"
           }
          ],
          "scattergl": [
           {
            "marker": {
             "colorbar": {
              "outlinewidth": 1,
              "tickcolor": "rgb(36,36,36)",
              "ticks": "outside"
             }
            },
            "type": "scattergl"
           }
          ],
          "scattermapbox": [
           {
            "marker": {
             "colorbar": {
              "outlinewidth": 1,
              "tickcolor": "rgb(36,36,36)",
              "ticks": "outside"
             }
            },
            "type": "scattermapbox"
           }
          ],
          "scatterpolar": [
           {
            "marker": {
             "colorbar": {
              "outlinewidth": 1,
              "tickcolor": "rgb(36,36,36)",
              "ticks": "outside"
             }
            },
            "type": "scatterpolar"
           }
          ],
          "scatterpolargl": [
           {
            "marker": {
             "colorbar": {
              "outlinewidth": 1,
              "tickcolor": "rgb(36,36,36)",
              "ticks": "outside"
             }
            },
            "type": "scatterpolargl"
           }
          ],
          "scatterternary": [
           {
            "marker": {
             "colorbar": {
              "outlinewidth": 1,
              "tickcolor": "rgb(36,36,36)",
              "ticks": "outside"
             }
            },
            "type": "scatterternary"
           }
          ],
          "surface": [
           {
            "colorbar": {
             "outlinewidth": 1,
             "tickcolor": "rgb(36,36,36)",
             "ticks": "outside"
            },
            "colorscale": [
             [
              0,
              "#440154"
             ],
             [
              0.1111111111111111,
              "#482878"
             ],
             [
              0.2222222222222222,
              "#3e4989"
             ],
             [
              0.3333333333333333,
              "#31688e"
             ],
             [
              0.4444444444444444,
              "#26828e"
             ],
             [
              0.5555555555555556,
              "#1f9e89"
             ],
             [
              0.6666666666666666,
              "#35b779"
             ],
             [
              0.7777777777777778,
              "#6ece58"
             ],
             [
              0.8888888888888888,
              "#b5de2b"
             ],
             [
              1,
              "#fde725"
             ]
            ],
            "type": "surface"
           }
          ],
          "table": [
           {
            "cells": {
             "fill": {
              "color": "rgb(237,237,237)"
             },
             "line": {
              "color": "white"
             }
            },
            "header": {
             "fill": {
              "color": "rgb(217,217,217)"
             },
             "line": {
              "color": "white"
             }
            },
            "type": "table"
           }
          ]
         },
         "layout": {
          "annotationdefaults": {
           "arrowhead": 0,
           "arrowwidth": 1
          },
          "autotypenumbers": "strict",
          "coloraxis": {
           "colorbar": {
            "outlinewidth": 1,
            "tickcolor": "rgb(36,36,36)",
            "ticks": "outside"
           }
          },
          "colorscale": {
           "diverging": [
            [
             0,
             "rgb(103,0,31)"
            ],
            [
             0.1,
             "rgb(178,24,43)"
            ],
            [
             0.2,
             "rgb(214,96,77)"
            ],
            [
             0.3,
             "rgb(244,165,130)"
            ],
            [
             0.4,
             "rgb(253,219,199)"
            ],
            [
             0.5,
             "rgb(247,247,247)"
            ],
            [
             0.6,
             "rgb(209,229,240)"
            ],
            [
             0.7,
             "rgb(146,197,222)"
            ],
            [
             0.8,
             "rgb(67,147,195)"
            ],
            [
             0.9,
             "rgb(33,102,172)"
            ],
            [
             1,
             "rgb(5,48,97)"
            ]
           ],
           "sequential": [
            [
             0,
             "#440154"
            ],
            [
             0.1111111111111111,
             "#482878"
            ],
            [
             0.2222222222222222,
             "#3e4989"
            ],
            [
             0.3333333333333333,
             "#31688e"
            ],
            [
             0.4444444444444444,
             "#26828e"
            ],
            [
             0.5555555555555556,
             "#1f9e89"
            ],
            [
             0.6666666666666666,
             "#35b779"
            ],
            [
             0.7777777777777778,
             "#6ece58"
            ],
            [
             0.8888888888888888,
             "#b5de2b"
            ],
            [
             1,
             "#fde725"
            ]
           ],
           "sequentialminus": [
            [
             0,
             "#440154"
            ],
            [
             0.1111111111111111,
             "#482878"
            ],
            [
             0.2222222222222222,
             "#3e4989"
            ],
            [
             0.3333333333333333,
             "#31688e"
            ],
            [
             0.4444444444444444,
             "#26828e"
            ],
            [
             0.5555555555555556,
             "#1f9e89"
            ],
            [
             0.6666666666666666,
             "#35b779"
            ],
            [
             0.7777777777777778,
             "#6ece58"
            ],
            [
             0.8888888888888888,
             "#b5de2b"
            ],
            [
             1,
             "#fde725"
            ]
           ]
          },
          "colorway": [
           "#1F77B4",
           "#FF7F0E",
           "#2CA02C",
           "#D62728",
           "#9467BD",
           "#8C564B",
           "#E377C2",
           "#7F7F7F",
           "#BCBD22",
           "#17BECF"
          ],
          "font": {
           "color": "rgb(36,36,36)"
          },
          "geo": {
           "bgcolor": "white",
           "lakecolor": "white",
           "landcolor": "white",
           "showlakes": true,
           "showland": true,
           "subunitcolor": "white"
          },
          "hoverlabel": {
           "align": "left"
          },
          "hovermode": "closest",
          "mapbox": {
           "style": "light"
          },
          "paper_bgcolor": "white",
          "plot_bgcolor": "white",
          "polar": {
           "angularaxis": {
            "gridcolor": "rgb(232,232,232)",
            "linecolor": "rgb(36,36,36)",
            "showgrid": false,
            "showline": true,
            "ticks": "outside"
           },
           "bgcolor": "white",
           "radialaxis": {
            "gridcolor": "rgb(232,232,232)",
            "linecolor": "rgb(36,36,36)",
            "showgrid": false,
            "showline": true,
            "ticks": "outside"
           }
          },
          "scene": {
           "xaxis": {
            "backgroundcolor": "white",
            "gridcolor": "rgb(232,232,232)",
            "gridwidth": 2,
            "linecolor": "rgb(36,36,36)",
            "showbackground": true,
            "showgrid": false,
            "showline": true,
            "ticks": "outside",
            "zeroline": false,
            "zerolinecolor": "rgb(36,36,36)"
           },
           "yaxis": {
            "backgroundcolor": "white",
            "gridcolor": "rgb(232,232,232)",
            "gridwidth": 2,
            "linecolor": "rgb(36,36,36)",
            "showbackground": true,
            "showgrid": false,
            "showline": true,
            "ticks": "outside",
            "zeroline": false,
            "zerolinecolor": "rgb(36,36,36)"
           },
           "zaxis": {
            "backgroundcolor": "white",
            "gridcolor": "rgb(232,232,232)",
            "gridwidth": 2,
            "linecolor": "rgb(36,36,36)",
            "showbackground": true,
            "showgrid": false,
            "showline": true,
            "ticks": "outside",
            "zeroline": false,
            "zerolinecolor": "rgb(36,36,36)"
           }
          },
          "shapedefaults": {
           "fillcolor": "black",
           "line": {
            "width": 0
           },
           "opacity": 0.3
          },
          "ternary": {
           "aaxis": {
            "gridcolor": "rgb(232,232,232)",
            "linecolor": "rgb(36,36,36)",
            "showgrid": false,
            "showline": true,
            "ticks": "outside"
           },
           "baxis": {
            "gridcolor": "rgb(232,232,232)",
            "linecolor": "rgb(36,36,36)",
            "showgrid": false,
            "showline": true,
            "ticks": "outside"
           },
           "bgcolor": "white",
           "caxis": {
            "gridcolor": "rgb(232,232,232)",
            "linecolor": "rgb(36,36,36)",
            "showgrid": false,
            "showline": true,
            "ticks": "outside"
           }
          },
          "title": {
           "x": 0.05
          },
          "xaxis": {
           "automargin": true,
           "gridcolor": "rgb(232,232,232)",
           "linecolor": "rgb(36,36,36)",
           "showgrid": false,
           "showline": true,
           "ticks": "outside",
           "title": {
            "standoff": 15
           },
           "zeroline": false,
           "zerolinecolor": "rgb(36,36,36)"
          },
          "yaxis": {
           "automargin": true,
           "gridcolor": "rgb(232,232,232)",
           "linecolor": "rgb(36,36,36)",
           "showgrid": false,
           "showline": true,
           "ticks": "outside",
           "title": {
            "standoff": 15
           },
           "zeroline": false,
           "zerolinecolor": "rgb(36,36,36)"
          }
         }
        },
        "title": {
         "font": {
          "color": "Black",
          "size": 22
         },
         "text": "<b>Intertopic Distance Map",
         "x": 0.5,
         "xanchor": "center",
         "y": 0.95,
         "yanchor": "top"
        },
        "width": 650,
        "xaxis": {
         "anchor": "y",
         "domain": [
          0,
          1
         ],
         "range": [
          -11.527397298812867,
          12.615641784667968
         ],
         "title": {
          "text": ""
         },
         "visible": false
        },
        "yaxis": {
         "anchor": "x",
         "domain": [
          0,
          1
         ],
         "range": [
          -11.16976170539856,
          16.8331401348114
         ],
         "title": {
          "text": ""
         },
         "visible": false
        }
       }
      },
      "text/html": [
       "<div>                            <div id=\"2103392a-1554-4992-b4a5-e27393a400f7\" class=\"plotly-graph-div\" style=\"height:650px; width:650px;\"></div>            <script type=\"text/javascript\">                require([\"plotly\"], function(Plotly) {                    window.PLOTLYENV=window.PLOTLYENV || {};                                    if (document.getElementById(\"2103392a-1554-4992-b4a5-e27393a400f7\")) {                    Plotly.newPlot(                        \"2103392a-1554-4992-b4a5-e27393a400f7\",                        [{\"customdata\":[[0,\"england | game | club | side | wales\",337],[1,\"mobile | people | said | technology | games\",274],[2,\"mr | labour | election | party | blair\",151],[3,\"music | band | album | song | best\",122],[4,\"security | users | microsoft | search | virus\",101],[5,\"olympic | race | athens | world | champion\",100],[6,\"growth | economy | economic | dollar | said\",92],[7,\"film | best | actor | oscar | awards\",89],[8,\"open | roddick | seed | set | australian\",87],[9,\"yukos | oil | russian | gazprom | russia\",51]],\"hovertemplate\":\"<b>Topic %{customdata[0]}</b><br>Words: %{customdata[1]}<br>Size: %{customdata[2]}\",\"legendgroup\":\"\",\"marker\":{\"color\":\"#B0BEC5\",\"size\":[337,274,151,122,101,100,92,89,87,51],\"sizemode\":\"area\",\"sizeref\":0.210625,\"symbol\":\"circle\",\"line\":{\"color\":\"DarkSlateGrey\",\"width\":2}},\"mode\":\"markers\",\"name\":\"\",\"orientation\":\"v\",\"showlegend\":false,\"x\":[10.91758918762207,3.4595072269439697,10.62165641784668,-7.889737129211426,3.096954822540283,-9.766547203063965,10.642364501953125,-7.595442295074463,-10.023823738098145,10.970123291015625],\"xaxis\":\"x\",\"y\":[-3.7893378734588623,14.27505874633789,-3.492863655090332,-3.877096652984619,14.637513160705566,-9.712836265563965,2.252074718475342,-3.6025891304016113,-9.456308364868164,1.9214996099472046],\"yaxis\":\"y\",\"type\":\"scatter\"}],                        {\"template\":{\"data\":{\"barpolar\":[{\"marker\":{\"line\":{\"color\":\"white\",\"width\":0.5},\"pattern\":{\"fillmode\":\"overlay\",\"size\":10,\"solidity\":0.2}},\"type\":\"barpolar\"}],\"bar\":[{\"error_x\":{\"color\":\"rgb(36,36,36)\"},\"error_y\":{\"color\":\"rgb(36,36,36)\"},\"marker\":{\"line\":{\"color\":\"white\",\"width\":0.5},\"pattern\":{\"fillmode\":\"overlay\",\"size\":10,\"solidity\":0.2}},\"type\":\"bar\"}],\"carpet\":[{\"aaxis\":{\"endlinecolor\":\"rgb(36,36,36)\",\"gridcolor\":\"white\",\"linecolor\":\"white\",\"minorgridcolor\":\"white\",\"startlinecolor\":\"rgb(36,36,36)\"},\"baxis\":{\"endlinecolor\":\"rgb(36,36,36)\",\"gridcolor\":\"white\",\"linecolor\":\"white\",\"minorgridcolor\":\"white\",\"startlinecolor\":\"rgb(36,36,36)\"},\"type\":\"carpet\"}],\"choropleth\":[{\"colorbar\":{\"outlinewidth\":1,\"tickcolor\":\"rgb(36,36,36)\",\"ticks\":\"outside\"},\"type\":\"choropleth\"}],\"contourcarpet\":[{\"colorbar\":{\"outlinewidth\":1,\"tickcolor\":\"rgb(36,36,36)\",\"ticks\":\"outside\"},\"type\":\"contourcarpet\"}],\"contour\":[{\"colorbar\":{\"outlinewidth\":1,\"tickcolor\":\"rgb(36,36,36)\",\"ticks\":\"outside\"},\"colorscale\":[[0.0,\"#440154\"],[0.1111111111111111,\"#482878\"],[0.2222222222222222,\"#3e4989\"],[0.3333333333333333,\"#31688e\"],[0.4444444444444444,\"#26828e\"],[0.5555555555555556,\"#1f9e89\"],[0.6666666666666666,\"#35b779\"],[0.7777777777777778,\"#6ece58\"],[0.8888888888888888,\"#b5de2b\"],[1.0,\"#fde725\"]],\"type\":\"contour\"}],\"heatmapgl\":[{\"colorbar\":{\"outlinewidth\":1,\"tickcolor\":\"rgb(36,36,36)\",\"ticks\":\"outside\"},\"colorscale\":[[0.0,\"#440154\"],[0.1111111111111111,\"#482878\"],[0.2222222222222222,\"#3e4989\"],[0.3333333333333333,\"#31688e\"],[0.4444444444444444,\"#26828e\"],[0.5555555555555556,\"#1f9e89\"],[0.6666666666666666,\"#35b779\"],[0.7777777777777778,\"#6ece58\"],[0.8888888888888888,\"#b5de2b\"],[1.0,\"#fde725\"]],\"type\":\"heatmapgl\"}],\"heatmap\":[{\"colorbar\":{\"outlinewidth\":1,\"tickcolor\":\"rgb(36,36,36)\",\"ticks\":\"outside\"},\"colorscale\":[[0.0,\"#440154\"],[0.1111111111111111,\"#482878\"],[0.2222222222222222,\"#3e4989\"],[0.3333333333333333,\"#31688e\"],[0.4444444444444444,\"#26828e\"],[0.5555555555555556,\"#1f9e89\"],[0.6666666666666666,\"#35b779\"],[0.7777777777777778,\"#6ece58\"],[0.8888888888888888,\"#b5de2b\"],[1.0,\"#fde725\"]],\"type\":\"heatmap\"}],\"histogram2dcontour\":[{\"colorbar\":{\"outlinewidth\":1,\"tickcolor\":\"rgb(36,36,36)\",\"ticks\":\"outside\"},\"colorscale\":[[0.0,\"#440154\"],[0.1111111111111111,\"#482878\"],[0.2222222222222222,\"#3e4989\"],[0.3333333333333333,\"#31688e\"],[0.4444444444444444,\"#26828e\"],[0.5555555555555556,\"#1f9e89\"],[0.6666666666666666,\"#35b779\"],[0.7777777777777778,\"#6ece58\"],[0.8888888888888888,\"#b5de2b\"],[1.0,\"#fde725\"]],\"type\":\"histogram2dcontour\"}],\"histogram2d\":[{\"colorbar\":{\"outlinewidth\":1,\"tickcolor\":\"rgb(36,36,36)\",\"ticks\":\"outside\"},\"colorscale\":[[0.0,\"#440154\"],[0.1111111111111111,\"#482878\"],[0.2222222222222222,\"#3e4989\"],[0.3333333333333333,\"#31688e\"],[0.4444444444444444,\"#26828e\"],[0.5555555555555556,\"#1f9e89\"],[0.6666666666666666,\"#35b779\"],[0.7777777777777778,\"#6ece58\"],[0.8888888888888888,\"#b5de2b\"],[1.0,\"#fde725\"]],\"type\":\"histogram2d\"}],\"histogram\":[{\"marker\":{\"line\":{\"color\":\"white\",\"width\":0.6}},\"type\":\"histogram\"}],\"mesh3d\":[{\"colorbar\":{\"outlinewidth\":1,\"tickcolor\":\"rgb(36,36,36)\",\"ticks\":\"outside\"},\"type\":\"mesh3d\"}],\"parcoords\":[{\"line\":{\"colorbar\":{\"outlinewidth\":1,\"tickcolor\":\"rgb(36,36,36)\",\"ticks\":\"outside\"}},\"type\":\"parcoords\"}],\"pie\":[{\"automargin\":true,\"type\":\"pie\"}],\"scatter3d\":[{\"line\":{\"colorbar\":{\"outlinewidth\":1,\"tickcolor\":\"rgb(36,36,36)\",\"ticks\":\"outside\"}},\"marker\":{\"colorbar\":{\"outlinewidth\":1,\"tickcolor\":\"rgb(36,36,36)\",\"ticks\":\"outside\"}},\"type\":\"scatter3d\"}],\"scattercarpet\":[{\"marker\":{\"colorbar\":{\"outlinewidth\":1,\"tickcolor\":\"rgb(36,36,36)\",\"ticks\":\"outside\"}},\"type\":\"scattercarpet\"}],\"scattergeo\":[{\"marker\":{\"colorbar\":{\"outlinewidth\":1,\"tickcolor\":\"rgb(36,36,36)\",\"ticks\":\"outside\"}},\"type\":\"scattergeo\"}],\"scattergl\":[{\"marker\":{\"colorbar\":{\"outlinewidth\":1,\"tickcolor\":\"rgb(36,36,36)\",\"ticks\":\"outside\"}},\"type\":\"scattergl\"}],\"scattermapbox\":[{\"marker\":{\"colorbar\":{\"outlinewidth\":1,\"tickcolor\":\"rgb(36,36,36)\",\"ticks\":\"outside\"}},\"type\":\"scattermapbox\"}],\"scatterpolargl\":[{\"marker\":{\"colorbar\":{\"outlinewidth\":1,\"tickcolor\":\"rgb(36,36,36)\",\"ticks\":\"outside\"}},\"type\":\"scatterpolargl\"}],\"scatterpolar\":[{\"marker\":{\"colorbar\":{\"outlinewidth\":1,\"tickcolor\":\"rgb(36,36,36)\",\"ticks\":\"outside\"}},\"type\":\"scatterpolar\"}],\"scatter\":[{\"fillpattern\":{\"fillmode\":\"overlay\",\"size\":10,\"solidity\":0.2},\"type\":\"scatter\"}],\"scatterternary\":[{\"marker\":{\"colorbar\":{\"outlinewidth\":1,\"tickcolor\":\"rgb(36,36,36)\",\"ticks\":\"outside\"}},\"type\":\"scatterternary\"}],\"surface\":[{\"colorbar\":{\"outlinewidth\":1,\"tickcolor\":\"rgb(36,36,36)\",\"ticks\":\"outside\"},\"colorscale\":[[0.0,\"#440154\"],[0.1111111111111111,\"#482878\"],[0.2222222222222222,\"#3e4989\"],[0.3333333333333333,\"#31688e\"],[0.4444444444444444,\"#26828e\"],[0.5555555555555556,\"#1f9e89\"],[0.6666666666666666,\"#35b779\"],[0.7777777777777778,\"#6ece58\"],[0.8888888888888888,\"#b5de2b\"],[1.0,\"#fde725\"]],\"type\":\"surface\"}],\"table\":[{\"cells\":{\"fill\":{\"color\":\"rgb(237,237,237)\"},\"line\":{\"color\":\"white\"}},\"header\":{\"fill\":{\"color\":\"rgb(217,217,217)\"},\"line\":{\"color\":\"white\"}},\"type\":\"table\"}]},\"layout\":{\"annotationdefaults\":{\"arrowhead\":0,\"arrowwidth\":1},\"autotypenumbers\":\"strict\",\"coloraxis\":{\"colorbar\":{\"outlinewidth\":1,\"tickcolor\":\"rgb(36,36,36)\",\"ticks\":\"outside\"}},\"colorscale\":{\"diverging\":[[0.0,\"rgb(103,0,31)\"],[0.1,\"rgb(178,24,43)\"],[0.2,\"rgb(214,96,77)\"],[0.3,\"rgb(244,165,130)\"],[0.4,\"rgb(253,219,199)\"],[0.5,\"rgb(247,247,247)\"],[0.6,\"rgb(209,229,240)\"],[0.7,\"rgb(146,197,222)\"],[0.8,\"rgb(67,147,195)\"],[0.9,\"rgb(33,102,172)\"],[1.0,\"rgb(5,48,97)\"]],\"sequential\":[[0.0,\"#440154\"],[0.1111111111111111,\"#482878\"],[0.2222222222222222,\"#3e4989\"],[0.3333333333333333,\"#31688e\"],[0.4444444444444444,\"#26828e\"],[0.5555555555555556,\"#1f9e89\"],[0.6666666666666666,\"#35b779\"],[0.7777777777777778,\"#6ece58\"],[0.8888888888888888,\"#b5de2b\"],[1.0,\"#fde725\"]],\"sequentialminus\":[[0.0,\"#440154\"],[0.1111111111111111,\"#482878\"],[0.2222222222222222,\"#3e4989\"],[0.3333333333333333,\"#31688e\"],[0.4444444444444444,\"#26828e\"],[0.5555555555555556,\"#1f9e89\"],[0.6666666666666666,\"#35b779\"],[0.7777777777777778,\"#6ece58\"],[0.8888888888888888,\"#b5de2b\"],[1.0,\"#fde725\"]]},\"colorway\":[\"#1F77B4\",\"#FF7F0E\",\"#2CA02C\",\"#D62728\",\"#9467BD\",\"#8C564B\",\"#E377C2\",\"#7F7F7F\",\"#BCBD22\",\"#17BECF\"],\"font\":{\"color\":\"rgb(36,36,36)\"},\"geo\":{\"bgcolor\":\"white\",\"lakecolor\":\"white\",\"landcolor\":\"white\",\"showlakes\":true,\"showland\":true,\"subunitcolor\":\"white\"},\"hoverlabel\":{\"align\":\"left\"},\"hovermode\":\"closest\",\"mapbox\":{\"style\":\"light\"},\"paper_bgcolor\":\"white\",\"plot_bgcolor\":\"white\",\"polar\":{\"angularaxis\":{\"gridcolor\":\"rgb(232,232,232)\",\"linecolor\":\"rgb(36,36,36)\",\"showgrid\":false,\"showline\":true,\"ticks\":\"outside\"},\"bgcolor\":\"white\",\"radialaxis\":{\"gridcolor\":\"rgb(232,232,232)\",\"linecolor\":\"rgb(36,36,36)\",\"showgrid\":false,\"showline\":true,\"ticks\":\"outside\"}},\"scene\":{\"xaxis\":{\"backgroundcolor\":\"white\",\"gridcolor\":\"rgb(232,232,232)\",\"gridwidth\":2,\"linecolor\":\"rgb(36,36,36)\",\"showbackground\":true,\"showgrid\":false,\"showline\":true,\"ticks\":\"outside\",\"zeroline\":false,\"zerolinecolor\":\"rgb(36,36,36)\"},\"yaxis\":{\"backgroundcolor\":\"white\",\"gridcolor\":\"rgb(232,232,232)\",\"gridwidth\":2,\"linecolor\":\"rgb(36,36,36)\",\"showbackground\":true,\"showgrid\":false,\"showline\":true,\"ticks\":\"outside\",\"zeroline\":false,\"zerolinecolor\":\"rgb(36,36,36)\"},\"zaxis\":{\"backgroundcolor\":\"white\",\"gridcolor\":\"rgb(232,232,232)\",\"gridwidth\":2,\"linecolor\":\"rgb(36,36,36)\",\"showbackground\":true,\"showgrid\":false,\"showline\":true,\"ticks\":\"outside\",\"zeroline\":false,\"zerolinecolor\":\"rgb(36,36,36)\"}},\"shapedefaults\":{\"fillcolor\":\"black\",\"line\":{\"width\":0},\"opacity\":0.3},\"ternary\":{\"aaxis\":{\"gridcolor\":\"rgb(232,232,232)\",\"linecolor\":\"rgb(36,36,36)\",\"showgrid\":false,\"showline\":true,\"ticks\":\"outside\"},\"baxis\":{\"gridcolor\":\"rgb(232,232,232)\",\"linecolor\":\"rgb(36,36,36)\",\"showgrid\":false,\"showline\":true,\"ticks\":\"outside\"},\"bgcolor\":\"white\",\"caxis\":{\"gridcolor\":\"rgb(232,232,232)\",\"linecolor\":\"rgb(36,36,36)\",\"showgrid\":false,\"showline\":true,\"ticks\":\"outside\"}},\"title\":{\"x\":0.05},\"xaxis\":{\"automargin\":true,\"gridcolor\":\"rgb(232,232,232)\",\"linecolor\":\"rgb(36,36,36)\",\"showgrid\":false,\"showline\":true,\"ticks\":\"outside\",\"title\":{\"standoff\":15},\"zeroline\":false,\"zerolinecolor\":\"rgb(36,36,36)\"},\"yaxis\":{\"automargin\":true,\"gridcolor\":\"rgb(232,232,232)\",\"linecolor\":\"rgb(36,36,36)\",\"showgrid\":false,\"showline\":true,\"ticks\":\"outside\",\"title\":{\"standoff\":15},\"zeroline\":false,\"zerolinecolor\":\"rgb(36,36,36)\"}}},\"xaxis\":{\"anchor\":\"y\",\"domain\":[0.0,1.0],\"title\":{\"text\":\"\"},\"visible\":false,\"range\":[-11.527397298812867,12.615641784667968]},\"yaxis\":{\"anchor\":\"x\",\"domain\":[0.0,1.0],\"title\":{\"text\":\"\"},\"visible\":false,\"range\":[-11.16976170539856,16.8331401348114]},\"legend\":{\"tracegroupgap\":0,\"itemsizing\":\"constant\"},\"margin\":{\"t\":60},\"title\":{\"font\":{\"size\":22,\"color\":\"Black\"},\"text\":\"<b>Intertopic Distance Map\",\"y\":0.95,\"x\":0.5,\"xanchor\":\"center\",\"yanchor\":\"top\"},\"hoverlabel\":{\"font\":{\"size\":16,\"family\":\"Rockwell\"},\"bgcolor\":\"white\"},\"width\":650,\"height\":650,\"sliders\":[{\"active\":0,\"pad\":{\"t\":50},\"steps\":[{\"args\":[{\"marker.color\":[[\"red\",\"#B0BEC5\",\"#B0BEC5\",\"#B0BEC5\",\"#B0BEC5\",\"#B0BEC5\",\"#B0BEC5\",\"#B0BEC5\",\"#B0BEC5\",\"#B0BEC5\"]]}],\"label\":\"Topic 0\",\"method\":\"update\"},{\"args\":[{\"marker.color\":[[\"#B0BEC5\",\"red\",\"#B0BEC5\",\"#B0BEC5\",\"#B0BEC5\",\"#B0BEC5\",\"#B0BEC5\",\"#B0BEC5\",\"#B0BEC5\",\"#B0BEC5\"]]}],\"label\":\"Topic 1\",\"method\":\"update\"},{\"args\":[{\"marker.color\":[[\"#B0BEC5\",\"#B0BEC5\",\"red\",\"#B0BEC5\",\"#B0BEC5\",\"#B0BEC5\",\"#B0BEC5\",\"#B0BEC5\",\"#B0BEC5\",\"#B0BEC5\"]]}],\"label\":\"Topic 2\",\"method\":\"update\"},{\"args\":[{\"marker.color\":[[\"#B0BEC5\",\"#B0BEC5\",\"#B0BEC5\",\"red\",\"#B0BEC5\",\"#B0BEC5\",\"#B0BEC5\",\"#B0BEC5\",\"#B0BEC5\",\"#B0BEC5\"]]}],\"label\":\"Topic 3\",\"method\":\"update\"},{\"args\":[{\"marker.color\":[[\"#B0BEC5\",\"#B0BEC5\",\"#B0BEC5\",\"#B0BEC5\",\"red\",\"#B0BEC5\",\"#B0BEC5\",\"#B0BEC5\",\"#B0BEC5\",\"#B0BEC5\"]]}],\"label\":\"Topic 4\",\"method\":\"update\"},{\"args\":[{\"marker.color\":[[\"#B0BEC5\",\"#B0BEC5\",\"#B0BEC5\",\"#B0BEC5\",\"#B0BEC5\",\"red\",\"#B0BEC5\",\"#B0BEC5\",\"#B0BEC5\",\"#B0BEC5\"]]}],\"label\":\"Topic 5\",\"method\":\"update\"},{\"args\":[{\"marker.color\":[[\"#B0BEC5\",\"#B0BEC5\",\"#B0BEC5\",\"#B0BEC5\",\"#B0BEC5\",\"#B0BEC5\",\"red\",\"#B0BEC5\",\"#B0BEC5\",\"#B0BEC5\"]]}],\"label\":\"Topic 6\",\"method\":\"update\"},{\"args\":[{\"marker.color\":[[\"#B0BEC5\",\"#B0BEC5\",\"#B0BEC5\",\"#B0BEC5\",\"#B0BEC5\",\"#B0BEC5\",\"#B0BEC5\",\"red\",\"#B0BEC5\",\"#B0BEC5\"]]}],\"label\":\"Topic 7\",\"method\":\"update\"},{\"args\":[{\"marker.color\":[[\"#B0BEC5\",\"#B0BEC5\",\"#B0BEC5\",\"#B0BEC5\",\"#B0BEC5\",\"#B0BEC5\",\"#B0BEC5\",\"#B0BEC5\",\"red\",\"#B0BEC5\"]]}],\"label\":\"Topic 8\",\"method\":\"update\"},{\"args\":[{\"marker.color\":[[\"#B0BEC5\",\"#B0BEC5\",\"#B0BEC5\",\"#B0BEC5\",\"#B0BEC5\",\"#B0BEC5\",\"#B0BEC5\",\"#B0BEC5\",\"#B0BEC5\",\"red\"]]}],\"label\":\"Topic 9\",\"method\":\"update\"}]}],\"shapes\":[{\"line\":{\"color\":\"#CFD8DC\",\"width\":2},\"type\":\"line\",\"x0\":0.5441222429275507,\"x1\":0.5441222429275507,\"y0\":-11.16976170539856,\"y1\":16.8331401348114},{\"line\":{\"color\":\"#9E9E9E\",\"width\":2},\"type\":\"line\",\"x0\":-11.527397298812867,\"x1\":12.615641784667968,\"y0\":2.8316892147064205,\"y1\":2.8316892147064205}],\"annotations\":[{\"showarrow\":false,\"text\":\"D1\",\"x\":-11.527397298812867,\"y\":2.8316892147064205,\"yshift\":10},{\"showarrow\":false,\"text\":\"D2\",\"x\":0.5441222429275507,\"xshift\":10,\"y\":16.8331401348114}]},                        {\"responsive\": true}                    ).then(function(){\n",
       "                            \n",
       "var gd = document.getElementById('2103392a-1554-4992-b4a5-e27393a400f7');\n",
       "var x = new MutationObserver(function (mutations, observer) {{\n",
       "        var display = window.getComputedStyle(gd).display;\n",
       "        if (!display || display === 'none') {{\n",
       "            console.log([gd, 'removed!']);\n",
       "            Plotly.purge(gd);\n",
       "            observer.disconnect();\n",
       "        }}\n",
       "}});\n",
       "\n",
       "// Listen for the removal of the full notebook cells\n",
       "var notebookContainer = gd.closest('#notebook-container');\n",
       "if (notebookContainer) {{\n",
       "    x.observe(notebookContainer, {childList: true});\n",
       "}}\n",
       "\n",
       "// Listen for the clearing of the current output cell\n",
       "var outputEl = gd.closest('.output');\n",
       "if (outputEl) {{\n",
       "    x.observe(outputEl, {childList: true});\n",
       "}}\n",
       "\n",
       "                        })                };                });            </script>        </div>"
      ],
      "text/plain": [
       "Figure({\n",
       "    'data': [{'customdata': array([[0, 'england | game | club | side | wales', 337],\n",
       "                                   [1, 'mobile | people | said | technology | games', 274],\n",
       "                                   [2, 'mr | labour | election | party | blair', 151],\n",
       "                                   [3, 'music | band | album | song | best', 122],\n",
       "                                   [4, 'security | users | microsoft | search | virus', 101],\n",
       "                                   [5, 'olympic | race | athens | world | champion', 100],\n",
       "                                   [6, 'growth | economy | economic | dollar | said', 92],\n",
       "                                   [7, 'film | best | actor | oscar | awards', 89],\n",
       "                                   [8, 'open | roddick | seed | set | australian', 87],\n",
       "                                   [9, 'yukos | oil | russian | gazprom | russia', 51]], dtype=object),\n",
       "              'hovertemplate': ('<b>Topic %{customdata[0]}</b><' ... '[1]}<br>Size: %{customdata[2]}'),\n",
       "              'legendgroup': '',\n",
       "              'marker': {'color': '#B0BEC5',\n",
       "                         'line': {'color': 'DarkSlateGrey', 'width': 2},\n",
       "                         'size': array([337, 274, 151, 122, 101, 100,  92,  89,  87,  51]),\n",
       "                         'sizemode': 'area',\n",
       "                         'sizeref': 0.210625,\n",
       "                         'symbol': 'circle'},\n",
       "              'mode': 'markers',\n",
       "              'name': '',\n",
       "              'orientation': 'v',\n",
       "              'showlegend': False,\n",
       "              'type': 'scatter',\n",
       "              'x': array([ 10.917589 ,   3.4595072,  10.621656 ,  -7.889737 ,   3.0969548,\n",
       "                           -9.766547 ,  10.6423645,  -7.5954423, -10.023824 ,  10.970123 ],\n",
       "                         dtype=float32),\n",
       "              'xaxis': 'x',\n",
       "              'y': array([-3.7893379, 14.275059 , -3.4928637, -3.8770967, 14.637513 , -9.712836 ,\n",
       "                           2.2520747, -3.6025891, -9.456308 ,  1.9214996], dtype=float32),\n",
       "              'yaxis': 'y'}],\n",
       "    'layout': {'annotations': [{'showarrow': False,\n",
       "                                'text': 'D1',\n",
       "                                'x': -11.527397298812867,\n",
       "                                'y': 2.8316892147064205,\n",
       "                                'yshift': 10},\n",
       "                               {'showarrow': False,\n",
       "                                'text': 'D2',\n",
       "                                'x': 0.5441222429275507,\n",
       "                                'xshift': 10,\n",
       "                                'y': 16.8331401348114}],\n",
       "               'height': 650,\n",
       "               'hoverlabel': {'bgcolor': 'white', 'font': {'family': 'Rockwell', 'size': 16}},\n",
       "               'legend': {'itemsizing': 'constant', 'tracegroupgap': 0},\n",
       "               'margin': {'t': 60},\n",
       "               'shapes': [{'line': {'color': '#CFD8DC', 'width': 2},\n",
       "                           'type': 'line',\n",
       "                           'x0': 0.5441222429275507,\n",
       "                           'x1': 0.5441222429275507,\n",
       "                           'y0': -11.16976170539856,\n",
       "                           'y1': 16.8331401348114},\n",
       "                          {'line': {'color': '#9E9E9E', 'width': 2},\n",
       "                           'type': 'line',\n",
       "                           'x0': -11.527397298812867,\n",
       "                           'x1': 12.615641784667968,\n",
       "                           'y0': 2.8316892147064205,\n",
       "                           'y1': 2.8316892147064205}],\n",
       "               'sliders': [{'active': 0,\n",
       "                            'pad': {'t': 50},\n",
       "                            'steps': [{'args': [{'marker.color': [['red',\n",
       "                                                                  '#B0BEC5',\n",
       "                                                                  '#B0BEC5',\n",
       "                                                                  '#B0BEC5',\n",
       "                                                                  '#B0BEC5',\n",
       "                                                                  '#B0BEC5',\n",
       "                                                                  '#B0BEC5',\n",
       "                                                                  '#B0BEC5',\n",
       "                                                                  '#B0BEC5',\n",
       "                                                                  '#B0BEC5']]}],\n",
       "                                       'label': 'Topic 0',\n",
       "                                       'method': 'update'},\n",
       "                                      {'args': [{'marker.color': [['#B0BEC5',\n",
       "                                                                  'red', '#B0BEC5',\n",
       "                                                                  '#B0BEC5',\n",
       "                                                                  '#B0BEC5',\n",
       "                                                                  '#B0BEC5',\n",
       "                                                                  '#B0BEC5',\n",
       "                                                                  '#B0BEC5',\n",
       "                                                                  '#B0BEC5',\n",
       "                                                                  '#B0BEC5']]}],\n",
       "                                       'label': 'Topic 1',\n",
       "                                       'method': 'update'},\n",
       "                                      {'args': [{'marker.color': [['#B0BEC5',\n",
       "                                                                  '#B0BEC5', 'red',\n",
       "                                                                  '#B0BEC5',\n",
       "                                                                  '#B0BEC5',\n",
       "                                                                  '#B0BEC5',\n",
       "                                                                  '#B0BEC5',\n",
       "                                                                  '#B0BEC5',\n",
       "                                                                  '#B0BEC5',\n",
       "                                                                  '#B0BEC5']]}],\n",
       "                                       'label': 'Topic 2',\n",
       "                                       'method': 'update'},\n",
       "                                      {'args': [{'marker.color': [['#B0BEC5',\n",
       "                                                                  '#B0BEC5',\n",
       "                                                                  '#B0BEC5', 'red',\n",
       "                                                                  '#B0BEC5',\n",
       "                                                                  '#B0BEC5',\n",
       "                                                                  '#B0BEC5',\n",
       "                                                                  '#B0BEC5',\n",
       "                                                                  '#B0BEC5',\n",
       "                                                                  '#B0BEC5']]}],\n",
       "                                       'label': 'Topic 3',\n",
       "                                       'method': 'update'},\n",
       "                                      {'args': [{'marker.color': [['#B0BEC5',\n",
       "                                                                  '#B0BEC5',\n",
       "                                                                  '#B0BEC5',\n",
       "                                                                  '#B0BEC5', 'red',\n",
       "                                                                  '#B0BEC5',\n",
       "                                                                  '#B0BEC5',\n",
       "                                                                  '#B0BEC5',\n",
       "                                                                  '#B0BEC5',\n",
       "                                                                  '#B0BEC5']]}],\n",
       "                                       'label': 'Topic 4',\n",
       "                                       'method': 'update'},\n",
       "                                      {'args': [{'marker.color': [['#B0BEC5',\n",
       "                                                                  '#B0BEC5',\n",
       "                                                                  '#B0BEC5',\n",
       "                                                                  '#B0BEC5',\n",
       "                                                                  '#B0BEC5', 'red',\n",
       "                                                                  '#B0BEC5',\n",
       "                                                                  '#B0BEC5',\n",
       "                                                                  '#B0BEC5',\n",
       "                                                                  '#B0BEC5']]}],\n",
       "                                       'label': 'Topic 5',\n",
       "                                       'method': 'update'},\n",
       "                                      {'args': [{'marker.color': [['#B0BEC5',\n",
       "                                                                  '#B0BEC5',\n",
       "                                                                  '#B0BEC5',\n",
       "                                                                  '#B0BEC5',\n",
       "                                                                  '#B0BEC5',\n",
       "                                                                  '#B0BEC5', 'red',\n",
       "                                                                  '#B0BEC5',\n",
       "                                                                  '#B0BEC5',\n",
       "                                                                  '#B0BEC5']]}],\n",
       "                                       'label': 'Topic 6',\n",
       "                                       'method': 'update'},\n",
       "                                      {'args': [{'marker.color': [['#B0BEC5',\n",
       "                                                                  '#B0BEC5',\n",
       "                                                                  '#B0BEC5',\n",
       "                                                                  '#B0BEC5',\n",
       "                                                                  '#B0BEC5',\n",
       "                                                                  '#B0BEC5',\n",
       "                                                                  '#B0BEC5', 'red',\n",
       "                                                                  '#B0BEC5',\n",
       "                                                                  '#B0BEC5']]}],\n",
       "                                       'label': 'Topic 7',\n",
       "                                       'method': 'update'},\n",
       "                                      {'args': [{'marker.color': [['#B0BEC5',\n",
       "                                                                  '#B0BEC5',\n",
       "                                                                  '#B0BEC5',\n",
       "                                                                  '#B0BEC5',\n",
       "                                                                  '#B0BEC5',\n",
       "                                                                  '#B0BEC5',\n",
       "                                                                  '#B0BEC5',\n",
       "                                                                  '#B0BEC5', 'red',\n",
       "                                                                  '#B0BEC5']]}],\n",
       "                                       'label': 'Topic 8',\n",
       "                                       'method': 'update'},\n",
       "                                      {'args': [{'marker.color': [['#B0BEC5',\n",
       "                                                                  '#B0BEC5',\n",
       "                                                                  '#B0BEC5',\n",
       "                                                                  '#B0BEC5',\n",
       "                                                                  '#B0BEC5',\n",
       "                                                                  '#B0BEC5',\n",
       "                                                                  '#B0BEC5',\n",
       "                                                                  '#B0BEC5',\n",
       "                                                                  '#B0BEC5',\n",
       "                                                                  'red']]}],\n",
       "                                       'label': 'Topic 9',\n",
       "                                       'method': 'update'}]}],\n",
       "               'template': '...',\n",
       "               'title': {'font': {'color': 'Black', 'size': 22},\n",
       "                         'text': '<b>Intertopic Distance Map',\n",
       "                         'x': 0.5,\n",
       "                         'xanchor': 'center',\n",
       "                         'y': 0.95,\n",
       "                         'yanchor': 'top'},\n",
       "               'width': 650,\n",
       "               'xaxis': {'anchor': 'y',\n",
       "                         'domain': [0.0, 1.0],\n",
       "                         'range': [-11.527397298812867, 12.615641784667968],\n",
       "                         'title': {'text': ''},\n",
       "                         'visible': False},\n",
       "               'yaxis': {'anchor': 'x',\n",
       "                         'domain': [0.0, 1.0],\n",
       "                         'range': [-11.16976170539856, 16.8331401348114],\n",
       "                         'title': {'text': ''},\n",
       "                         'visible': False}}\n",
       "})"
      ]
     },
     "execution_count": 43,
     "metadata": {},
     "output_type": "execute_result"
    }
   ],
   "source": [
    "model.visualize_topics()"
   ]
  },
  {
   "cell_type": "code",
   "execution_count": null,
   "metadata": {},
   "outputs": [],
   "source": []
  }
 ],
 "metadata": {
  "interpreter": {
   "hash": "1fb000299d0be6b292a3563f2cb803716502a839d387e9a8df10d0a410910a21"
  },
  "kernelspec": {
   "display_name": "Python 3.8.13 ('bert_eng')",
   "language": "python",
   "name": "python3"
  },
  "language_info": {
   "codemirror_mode": {
    "name": "ipython",
    "version": 3
   },
   "file_extension": ".py",
   "mimetype": "text/x-python",
   "name": "python",
   "nbconvert_exporter": "python",
   "pygments_lexer": "ipython3",
   "version": "3.8.13"
  },
  "orig_nbformat": 4
 },
 "nbformat": 4,
 "nbformat_minor": 2
}
